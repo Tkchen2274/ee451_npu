{
 "cells": [
  {
   "cell_type": "code",
   "execution_count": 1,
   "id": "ff730e5e-e644-4dc4-96c3-03d1fcd264b0",
   "metadata": {
    "execution": {
     "iopub.execute_input": "2024-04-28T10:36:20.663905Z",
     "iopub.status.busy": "2024-04-28T10:36:20.662727Z",
     "iopub.status.idle": "2024-04-28T10:36:22.019459Z",
     "shell.execute_reply": "2024-04-28T10:36:22.019459Z",
     "shell.execute_reply.started": "2024-04-28T10:36:20.663905Z"
    }
   },
   "outputs": [],
   "source": [
    "%%capture --no-display\n",
    "!pip install jupyterlab_execute_time"
   ]
  },
  {
   "cell_type": "code",
   "execution_count": 2,
   "id": "59a87a61-787c-4419-b5fd-2d0b4f05c50b",
   "metadata": {
    "execution": {
     "iopub.execute_input": "2024-04-28T10:36:22.021465Z",
     "iopub.status.busy": "2024-04-28T10:36:22.021465Z",
     "iopub.status.idle": "2024-04-28T10:36:23.207364Z",
     "shell.execute_reply": "2024-04-28T10:36:23.206233Z",
     "shell.execute_reply.started": "2024-04-28T10:36:22.021465Z"
    }
   },
   "outputs": [],
   "source": [
    "import npu\n",
    "\n",
    "# vector length; must be divisible by 4\n",
    "vector_size = 128"
   ]
  },
  {
   "cell_type": "markdown",
   "id": "4fd761d6-9a93-40d0-a9ab-95ca9de95928",
   "metadata": {},
   "source": [
    "Create app builder"
   ]
  },
  {
   "cell_type": "code",
   "execution_count": 3,
   "id": "99a2826a-fa40-44e3-ad42-89890d8423b9",
   "metadata": {
    "execution": {
     "iopub.execute_input": "2024-04-28T10:36:23.208893Z",
     "iopub.status.busy": "2024-04-28T10:36:23.207868Z",
     "iopub.status.idle": "2024-04-28T10:36:23.221452Z",
     "shell.execute_reply": "2024-04-28T10:36:23.221452Z",
     "shell.execute_reply.started": "2024-04-28T10:36:23.208893Z"
    }
   },
   "outputs": [],
   "source": [
    "from npu.build.kernel import Kernel\n",
    "from npu.build.appbuilder import AppBuilder\n",
    "import numpy as np\n",
    "from npu.build.itkernel import ITWrite\n",
    "from npu.build.mtkernel import MTSplit, MTConcat\n",
    "from vector_add import VectorAdd1Buf\n",
    "\n",
    "class SimpleApplication(AppBuilder):\n",
    "\n",
    "    def __init__(self):\n",
    "        self.kernel = [VectorAdd1Buf() for _ in range(4)]\n",
    "        self.mtbsplit = MTSplit(4)\n",
    "        self.mtbconcat = MTConcat()\n",
    "        super().__init__()\n",
    "\n",
    "    def callgraph(self, x_in: np.ndarray, x_out: np.ndarray) -> None:\n",
    "        nbytes = x_in.shape[0]\n",
    "\n",
    "        kernel_outputs = [None] * 4\n",
    "\n",
    "        inputs = self.mtbsplit(x_in)\n",
    "\n",
    "        for i in range(4):\n",
    "            kernel_outputs[i] = self.kernel[i](inputs[i], int(nbytes/8))\n",
    "\n",
    "        mtbuffer_out = self.mtbconcat(kernel_outputs)\n",
    "        \n",
    "        _ = ITWrite(mtbuffer_out, bufref=x_out)"
   ]
  },
  {
   "cell_type": "code",
   "execution_count": 4,
   "id": "ece8cf7c-058f-4d3b-bc80-ba9325684742",
   "metadata": {
    "execution": {
     "iopub.execute_input": "2024-04-28T10:36:23.222962Z",
     "iopub.status.busy": "2024-04-28T10:36:23.222453Z",
     "iopub.status.idle": "2024-04-28T10:36:24.558097Z",
     "shell.execute_reply": "2024-04-28T10:36:24.557097Z",
     "shell.execute_reply.started": "2024-04-28T10:36:23.222962Z"
    }
   },
   "outputs": [
    {
     "data": {
      "image/svg+xml": [
       "<svg xmlns=\"http://www.w3.org/2000/svg\" xmlns:xlink=\"http://www.w3.org/1999/xlink\" id=\"svg\" version=\"1.1\" width=\"420\" height=\"980\" viewBox=\"0, 0, 420, 980\">\n",
       "            <defs>\n",
       "                <marker id=\"ic_startarrow\" markerWidth=\"10\" markerHeight=\"7\" refX=\"10\" refY=\"3.5\" orient=\"auto\">\n",
       "                <polygon points=\"0 0, 4 2, 0 4\" fill=\"black\"/>\n",
       "                </marker>\n",
       "                <marker id=\"ic_endarrow\" markerWidth=\"7\" markerHeight=\"4\" refX=\"0\" refY=\"2\" orient=\"auto\" markerUnits=\"strokeWidth\">\n",
       "                    <polygon points=\"0 0, 4 2, 0 4\" fill=\"black\"/>\n",
       "                </marker>\n",
       "\n",
       "                <marker id=\"red_startarrow\" markerWidth=\"10\" markerHeight=\"7\" refX=\"0\" refY=\"2\" orient=\"auto\">\n",
       "                <polygon points=\"0 2, 4 0, 4 4\" fill=\"red\"/>\n",
       "                </marker>\n",
       "                <marker id=\"red_endarrow\" markerWidth=\"7\" markerHeight=\"4\" refX=\"4\" refY=\"2\" orient=\"auto\" markerUnits=\"strokeWidth\">\n",
       "                    <polygon points=\"0 0, 4 2, 0 4\" fill=\"red\"/>\n",
       "                </marker>\n",
       "\n",
       "                <marker id=\"startarrow\" markerWidth=\"10\" markerHeight=\"7\" refX=\"10\" refY=\"3.5\" orient=\"auto\">\n",
       "                <polygon points=\"0 0, 4 2, 0 4\" fill=\"black\"/>\n",
       "                </marker>\n",
       "                <marker id=\"endarrow\" markerWidth=\"10\" markerHeight=\"7\" refX=\"0\" refY=\"3.5\" orient=\"auto\" markerUnits=\"strokeWidth\">\n",
       "                    <polygon points=\"0 0, 4 2, 0 4\" fill=\"black\"/>\n",
       "                </marker>\n",
       "            </defs>\n",
       "            <style>                .ic_animations {                     opacity: 0.8;                 }            </style>\n",
       "            <g id=\"svg\"><rect id=\"border\" class=\"border\" width=\"400\" height=\"960\" x=\"10.0\" y=\"10.0\" stroke=\"black\" stroke-width=\"1\" fill=\"white\"/>\n",
       "<g> <rect id=\"aie_tile0\" class=\"aie_tile\" width=\"180\" height=\"140\" x=\"20\" y=\"20\" stroke=\"black\" stroke-width=\"2\" fill=\"#C2E9FF\"/> </g>\n",
       "<g> <text id=\"text_aie_tile0\" class=\"aie_tile_text\" x=\"20\" y=\"20\" fill=\"\" font-family=\"Arial, Helvetica, sans-serif\"> <tspan x=\"110.0\" y=\"89.3\" dy=\"1em\" font-size=\"1\"> </tspan></text></g>\n",
       "<g> <rect id=\"interconnect_box0\" class=\"interconnect_box\" width=\"40\" height=\"40\" x=\"30\" y=\"30\" stroke=\"black\" stroke-width=\"1\" fill=\"#DBBCBD\"/> </g>\n",
       "<g> <text id=\"text_interconnect_box0\" class=\"interconnect_box_text\" x=\"30\" y=\"30\" fill=\"\" font-family=\"Arial, Helvetica, sans-serif\"> <tspan x=\"50.0\" y=\"49.3\" dy=\"1em\" font-size=\"1\"> </tspan></text></g>\n",
       "<line id=\"ic_h_line0_0\" class=\"interconnect\" x1=\"38.0\" y1=\"45.0\" x2=\"58.0\" y2=\"45.0\" stroke=\"black\" stroke-width=\"1\" fill=\"none\" marker-end=\"url(#ic_endarrow)\"/>\n",
       "<line id=\"ic_h_line0_1\" class=\"interconnect\" x1=\"62.0\" y1=\"55.0\" x2=\"42.0\" y2=\"55.0\" stroke=\"black\" stroke-width=\"1\" fill=\"none\" marker-end=\"url(#ic_endarrow)\"/>\n",
       "<line id=\"ic_h_line0_2\" class=\"interconnect\" x1=\"45.0\" y1=\"62.0\" x2=\"45.0\" y2=\"42.0\" stroke=\"black\" stroke-width=\"1\" fill=\"none\" marker-end=\"url(#ic_endarrow)\"/>\n",
       "<line id=\"ic_h_line0_3\" class=\"interconnect\" x1=\"55.0\" y1=\"38.0\" x2=\"55.0\" y2=\"58.0\" stroke=\"black\" stroke-width=\"1\" fill=\"none\" marker-end=\"url(#ic_endarrow)\"/>\n",
       "<g> <rect id=\"aie_tile_container0\" class=\"aie_tile_container\" width=\"120\" height=\"60.0\" x=\"70\" y=\"90.0\" stroke=\"black\" stroke-width=\"1\" fill=\"#ffffff\"/> </g>\n",
       "<g> <text id=\"text_aie_tile_container0\" class=\"aie_tile_container_text\" x=\"70\" y=\"90.0\" fill=\"\" font-family=\"Arial, Helvetica, sans-serif\"> <tspan x=\"130.0\" y=\"119.3\" dy=\"1em\" font-size=\"1\"> </tspan></text></g>\n",
       "<g> <rect id=\"aie_box0\" class=\"aie_box\" width=\"46.0\" height=\"46.0\" x=\"77.0\" y=\"97.0\" stroke=\"black\" stroke-width=\"1\" fill=\"white\"/> </g>\n",
       "<g> <text id=\"text_aie_box0\" class=\"aie_box_text\" x=\"77.0\" y=\"97.0\" fill=\"black\" font-family=\"Arial, Helvetica, sans-serif\"> <tspan x=\"100.0\" y=\"111.6\" dy=\"1em\" font-size=\"12\"> </tspan></text></g>\n",
       "<g> <rect id=\"memory_outline_0_8\" x=\"137.0\" y=\"97.0\" height=\"46.0\" width=\"5.75\" style=\"stroke:#f0f0f0; fill:#fefefe; stroke-opacity:0.5\"> </rect> </g>\n",
       "<g> <rect id=\"memory_outline_1_8\" x=\"142.75\" y=\"97.0\" height=\"46.0\" width=\"5.75\" style=\"stroke:#f0f0f0; fill:#fefefe; stroke-opacity:0.5\"> </rect> </g>\n",
       "<g> <rect id=\"memory_outline_2_8\" x=\"148.5\" y=\"97.0\" height=\"46.0\" width=\"5.75\" style=\"stroke:#f0f0f0; fill:#fefefe; stroke-opacity:0.5\"> </rect> </g>\n",
       "<g> <rect id=\"memory_outline_3_8\" x=\"154.25\" y=\"97.0\" height=\"46.0\" width=\"5.75\" style=\"stroke:#f0f0f0; fill:#fefefe; stroke-opacity:0.5\"> </rect> </g>\n",
       "<g> <rect id=\"memory_outline_4_8\" x=\"160.0\" y=\"97.0\" height=\"46.0\" width=\"5.75\" style=\"stroke:#f0f0f0; fill:#fefefe; stroke-opacity:0.5\"> </rect> </g>\n",
       "<g> <rect id=\"memory_outline_5_8\" x=\"165.75\" y=\"97.0\" height=\"46.0\" width=\"5.75\" style=\"stroke:#f0f0f0; fill:#fefefe; stroke-opacity:0.5\"> </rect> </g>\n",
       "<g> <rect id=\"memory_outline_6_8\" x=\"171.5\" y=\"97.0\" height=\"46.0\" width=\"5.75\" style=\"stroke:#f0f0f0; fill:#fefefe; stroke-opacity:0.5\"> </rect> </g>\n",
       "<g> <rect id=\"memory_outline_7_8\" x=\"177.25\" y=\"97.0\" height=\"46.0\" width=\"5.75\" style=\"stroke:#f0f0f0; fill:#fefefe; stroke-opacity:0.5\"> </rect> </g>\n",
       "<g> <rect id=\"memory_outline_0_8\" x=\"137.0\" y=\"97.0\" height=\"46.0\" width=\"5.75\" style=\"stroke:#f0f0f0; fill:#fefefe; stroke-opacity:0.5\"> </rect> </g>\n",
       "<g> <rect id=\"memory_outline_1_8\" x=\"142.75\" y=\"97.0\" height=\"46.0\" width=\"5.75\" style=\"stroke:#f0f0f0; fill:#fefefe; stroke-opacity:0.5\"> </rect> </g>\n",
       "<g> <rect id=\"memory_outline_2_8\" x=\"148.5\" y=\"97.0\" height=\"46.0\" width=\"5.75\" style=\"stroke:#f0f0f0; fill:#fefefe; stroke-opacity:0.5\"> </rect> </g>\n",
       "<g> <rect id=\"memory_outline_3_8\" x=\"154.25\" y=\"97.0\" height=\"46.0\" width=\"5.75\" style=\"stroke:#f0f0f0; fill:#fefefe; stroke-opacity:0.5\"> </rect> </g>\n",
       "<g> <rect id=\"memory_outline_4_8\" x=\"160.0\" y=\"97.0\" height=\"46.0\" width=\"5.75\" style=\"stroke:#f0f0f0; fill:#fefefe; stroke-opacity:0.5\"> </rect> </g>\n",
       "<g> <rect id=\"memory_outline_5_8\" x=\"165.75\" y=\"97.0\" height=\"46.0\" width=\"5.75\" style=\"stroke:#f0f0f0; fill:#fefefe; stroke-opacity:0.5\"> </rect> </g>\n",
       "<g> <rect id=\"memory_outline_6_8\" x=\"171.5\" y=\"97.0\" height=\"46.0\" width=\"5.75\" style=\"stroke:#f0f0f0; fill:#fefefe; stroke-opacity:0.5\"> </rect> </g>\n",
       "<g> <rect id=\"memory_outline_7_8\" x=\"177.25\" y=\"97.0\" height=\"46.0\" width=\"5.75\" style=\"stroke:#f0f0f0; fill:#fefefe; stroke-opacity:0.5\"> </rect> </g>\n",
       "<g> <rect id=\"local_memory_box0\" class=\"local_memory_box\" width=\"46.0\" height=\"46.0\" x=\"137.0\" y=\"97.0\" stroke=\"black\" stroke-width=\"1\" fill=\"None\"/> </g>\n",
       "<g> <text id=\"text_local_memory_box0\" class=\"local_memory_box_text\" x=\"137.0\" y=\"97.0\" fill=\"black\" font-family=\"Arial, Helvetica, sans-serif\"> <tspan x=\"160.0\" y=\"111.6\" dy=\"1em\" font-size=\"12\"> </tspan></text></g>\n",
       "<g> <rect id=\"aie_tile1\" class=\"aie_tile\" width=\"180\" height=\"140\" x=\"20\" y=\"180\" stroke=\"black\" stroke-width=\"2\" fill=\"#C2E9FF\"/> </g>\n",
       "<g> <text id=\"text_aie_tile1\" class=\"aie_tile_text\" x=\"20\" y=\"180\" fill=\"\" font-family=\"Arial, Helvetica, sans-serif\"> <tspan x=\"110.0\" y=\"249.3\" dy=\"1em\" font-size=\"1\"> </tspan></text></g>\n",
       "<g> <rect id=\"interconnect_box1\" class=\"interconnect_box\" width=\"40\" height=\"40\" x=\"30\" y=\"190\" stroke=\"black\" stroke-width=\"1\" fill=\"#DBBCBD\"/> </g>\n",
       "<g> <text id=\"text_interconnect_box1\" class=\"interconnect_box_text\" x=\"30\" y=\"190\" fill=\"\" font-family=\"Arial, Helvetica, sans-serif\"> <tspan x=\"50.0\" y=\"209.3\" dy=\"1em\" font-size=\"1\"> </tspan></text></g>\n",
       "<line id=\"ic_h_line1_0\" class=\"interconnect\" x1=\"38.0\" y1=\"205.0\" x2=\"58.0\" y2=\"205.0\" stroke=\"black\" stroke-width=\"1\" fill=\"none\" marker-end=\"url(#ic_endarrow)\"/>\n",
       "<line id=\"ic_h_line1_1\" class=\"interconnect\" x1=\"62.0\" y1=\"215.0\" x2=\"42.0\" y2=\"215.0\" stroke=\"black\" stroke-width=\"1\" fill=\"none\" marker-end=\"url(#ic_endarrow)\"/>\n",
       "<line id=\"ic_h_line1_2\" class=\"interconnect\" x1=\"45.0\" y1=\"222.0\" x2=\"45.0\" y2=\"202.0\" stroke=\"black\" stroke-width=\"1\" fill=\"none\" marker-end=\"url(#ic_endarrow)\"/>\n",
       "<line id=\"ic_h_line1_3\" class=\"interconnect\" x1=\"55.0\" y1=\"198.0\" x2=\"55.0\" y2=\"218.0\" stroke=\"black\" stroke-width=\"1\" fill=\"none\" marker-end=\"url(#ic_endarrow)\"/>\n",
       "<g> <rect id=\"aie_tile_container1\" class=\"aie_tile_container\" width=\"120\" height=\"60.0\" x=\"70\" y=\"250.0\" stroke=\"black\" stroke-width=\"1\" fill=\"#ffffff\"/> </g>\n",
       "<g> <text id=\"text_aie_tile_container1\" class=\"aie_tile_container_text\" x=\"70\" y=\"250.0\" fill=\"\" font-family=\"Arial, Helvetica, sans-serif\"> <tspan x=\"130.0\" y=\"279.3\" dy=\"1em\" font-size=\"1\"> </tspan></text></g>\n",
       "<g> <rect id=\"aie_box1\" class=\"aie_box\" width=\"46.0\" height=\"46.0\" x=\"77.0\" y=\"257.0\" stroke=\"black\" stroke-width=\"1\" fill=\"white\"/> </g>\n",
       "<g> <text id=\"text_aie_box1\" class=\"aie_box_text\" x=\"77.0\" y=\"257.0\" fill=\"black\" font-family=\"Arial, Helvetica, sans-serif\"> <tspan x=\"100.0\" y=\"271.6\" dy=\"1em\" font-size=\"12\"> </tspan></text></g>\n",
       "<g> <rect id=\"memory_outline_0_8\" x=\"137.0\" y=\"257.0\" height=\"46.0\" width=\"5.75\" style=\"stroke:#f0f0f0; fill:#fefefe; stroke-opacity:0.5\"> </rect> </g>\n",
       "<g> <rect id=\"memory_outline_1_8\" x=\"142.75\" y=\"257.0\" height=\"46.0\" width=\"5.75\" style=\"stroke:#f0f0f0; fill:#fefefe; stroke-opacity:0.5\"> </rect> </g>\n",
       "<g> <rect id=\"memory_outline_2_8\" x=\"148.5\" y=\"257.0\" height=\"46.0\" width=\"5.75\" style=\"stroke:#f0f0f0; fill:#fefefe; stroke-opacity:0.5\"> </rect> </g>\n",
       "<g> <rect id=\"memory_outline_3_8\" x=\"154.25\" y=\"257.0\" height=\"46.0\" width=\"5.75\" style=\"stroke:#f0f0f0; fill:#fefefe; stroke-opacity:0.5\"> </rect> </g>\n",
       "<g> <rect id=\"memory_outline_4_8\" x=\"160.0\" y=\"257.0\" height=\"46.0\" width=\"5.75\" style=\"stroke:#f0f0f0; fill:#fefefe; stroke-opacity:0.5\"> </rect> </g>\n",
       "<g> <rect id=\"memory_outline_5_8\" x=\"165.75\" y=\"257.0\" height=\"46.0\" width=\"5.75\" style=\"stroke:#f0f0f0; fill:#fefefe; stroke-opacity:0.5\"> </rect> </g>\n",
       "<g> <rect id=\"memory_outline_6_8\" x=\"171.5\" y=\"257.0\" height=\"46.0\" width=\"5.75\" style=\"stroke:#f0f0f0; fill:#fefefe; stroke-opacity:0.5\"> </rect> </g>\n",
       "<g> <rect id=\"memory_outline_7_8\" x=\"177.25\" y=\"257.0\" height=\"46.0\" width=\"5.75\" style=\"stroke:#f0f0f0; fill:#fefefe; stroke-opacity:0.5\"> </rect> </g>\n",
       "<g> <rect id=\"memory_outline_0_8\" x=\"137.0\" y=\"257.0\" height=\"46.0\" width=\"5.75\" style=\"stroke:#f0f0f0; fill:#fefefe; stroke-opacity:0.5\"> </rect> </g>\n",
       "<g> <rect id=\"memory_outline_1_8\" x=\"142.75\" y=\"257.0\" height=\"46.0\" width=\"5.75\" style=\"stroke:#f0f0f0; fill:#fefefe; stroke-opacity:0.5\"> </rect> </g>\n",
       "<g> <rect id=\"memory_outline_2_8\" x=\"148.5\" y=\"257.0\" height=\"46.0\" width=\"5.75\" style=\"stroke:#f0f0f0; fill:#fefefe; stroke-opacity:0.5\"> </rect> </g>\n",
       "<g> <rect id=\"memory_outline_3_8\" x=\"154.25\" y=\"257.0\" height=\"46.0\" width=\"5.75\" style=\"stroke:#f0f0f0; fill:#fefefe; stroke-opacity:0.5\"> </rect> </g>\n",
       "<g> <rect id=\"memory_outline_4_8\" x=\"160.0\" y=\"257.0\" height=\"46.0\" width=\"5.75\" style=\"stroke:#f0f0f0; fill:#fefefe; stroke-opacity:0.5\"> </rect> </g>\n",
       "<g> <rect id=\"memory_outline_5_8\" x=\"165.75\" y=\"257.0\" height=\"46.0\" width=\"5.75\" style=\"stroke:#f0f0f0; fill:#fefefe; stroke-opacity:0.5\"> </rect> </g>\n",
       "<g> <rect id=\"memory_outline_6_8\" x=\"171.5\" y=\"257.0\" height=\"46.0\" width=\"5.75\" style=\"stroke:#f0f0f0; fill:#fefefe; stroke-opacity:0.5\"> </rect> </g>\n",
       "<g> <rect id=\"memory_outline_7_8\" x=\"177.25\" y=\"257.0\" height=\"46.0\" width=\"5.75\" style=\"stroke:#f0f0f0; fill:#fefefe; stroke-opacity:0.5\"> </rect> </g>\n",
       "<g> <rect id=\"local_memory_box1\" class=\"local_memory_box\" width=\"46.0\" height=\"46.0\" x=\"137.0\" y=\"257.0\" stroke=\"black\" stroke-width=\"1\" fill=\"None\"/> </g>\n",
       "<g> <text id=\"text_local_memory_box1\" class=\"local_memory_box_text\" x=\"137.0\" y=\"257.0\" fill=\"black\" font-family=\"Arial, Helvetica, sans-serif\"> <tspan x=\"160.0\" y=\"271.6\" dy=\"1em\" font-size=\"12\"> </tspan></text></g>\n",
       "<g> <rect id=\"aie_tile2\" class=\"aie_tile\" width=\"180\" height=\"140\" x=\"20\" y=\"340\" stroke=\"black\" stroke-width=\"2\" fill=\"#C2E9FF\"/> </g>\n",
       "<g> <text id=\"text_aie_tile2\" class=\"aie_tile_text\" x=\"20\" y=\"340\" fill=\"\" font-family=\"Arial, Helvetica, sans-serif\"> <tspan x=\"110.0\" y=\"409.3\" dy=\"1em\" font-size=\"1\"> </tspan></text></g>\n",
       "<g> <rect id=\"interconnect_box2\" class=\"interconnect_box\" width=\"40\" height=\"40\" x=\"30\" y=\"350\" stroke=\"black\" stroke-width=\"1\" fill=\"#DBBCBD\"/> </g>\n",
       "<g> <text id=\"text_interconnect_box2\" class=\"interconnect_box_text\" x=\"30\" y=\"350\" fill=\"\" font-family=\"Arial, Helvetica, sans-serif\"> <tspan x=\"50.0\" y=\"369.3\" dy=\"1em\" font-size=\"1\"> </tspan></text></g>\n",
       "<line id=\"ic_h_line2_0\" class=\"interconnect\" x1=\"38.0\" y1=\"365.0\" x2=\"58.0\" y2=\"365.0\" stroke=\"black\" stroke-width=\"1\" fill=\"none\" marker-end=\"url(#ic_endarrow)\"/>\n",
       "<line id=\"ic_h_line2_1\" class=\"interconnect\" x1=\"62.0\" y1=\"375.0\" x2=\"42.0\" y2=\"375.0\" stroke=\"black\" stroke-width=\"1\" fill=\"none\" marker-end=\"url(#ic_endarrow)\"/>\n",
       "<line id=\"ic_h_line2_2\" class=\"interconnect\" x1=\"45.0\" y1=\"382.0\" x2=\"45.0\" y2=\"362.0\" stroke=\"black\" stroke-width=\"1\" fill=\"none\" marker-end=\"url(#ic_endarrow)\"/>\n",
       "<line id=\"ic_h_line2_3\" class=\"interconnect\" x1=\"55.0\" y1=\"358.0\" x2=\"55.0\" y2=\"378.0\" stroke=\"black\" stroke-width=\"1\" fill=\"none\" marker-end=\"url(#ic_endarrow)\"/>\n",
       "<g> <rect id=\"aie_tile_container2\" class=\"aie_tile_container\" width=\"120\" height=\"60.0\" x=\"70\" y=\"410.0\" stroke=\"black\" stroke-width=\"1\" fill=\"#ffffff\"/> </g>\n",
       "<g> <text id=\"text_aie_tile_container2\" class=\"aie_tile_container_text\" x=\"70\" y=\"410.0\" fill=\"\" font-family=\"Arial, Helvetica, sans-serif\"> <tspan x=\"130.0\" y=\"439.3\" dy=\"1em\" font-size=\"1\"> </tspan></text></g>\n",
       "<g> <rect id=\"aie_box2\" class=\"aie_box\" width=\"46.0\" height=\"46.0\" x=\"77.0\" y=\"417.0\" stroke=\"black\" stroke-width=\"1\" fill=\"white\"/> </g>\n",
       "<g> <text id=\"text_aie_box2\" class=\"aie_box_text\" x=\"77.0\" y=\"417.0\" fill=\"black\" font-family=\"Arial, Helvetica, sans-serif\"> <tspan x=\"100.0\" y=\"431.6\" dy=\"1em\" font-size=\"12\"> </tspan></text></g>\n",
       "<g> <rect id=\"memory_outline_0_8\" x=\"137.0\" y=\"417.0\" height=\"46.0\" width=\"5.75\" style=\"stroke:#f0f0f0; fill:#fefefe; stroke-opacity:0.5\"> </rect> </g>\n",
       "<g> <rect id=\"memory_outline_1_8\" x=\"142.75\" y=\"417.0\" height=\"46.0\" width=\"5.75\" style=\"stroke:#f0f0f0; fill:#fefefe; stroke-opacity:0.5\"> </rect> </g>\n",
       "<g> <rect id=\"memory_outline_2_8\" x=\"148.5\" y=\"417.0\" height=\"46.0\" width=\"5.75\" style=\"stroke:#f0f0f0; fill:#fefefe; stroke-opacity:0.5\"> </rect> </g>\n",
       "<g> <rect id=\"memory_outline_3_8\" x=\"154.25\" y=\"417.0\" height=\"46.0\" width=\"5.75\" style=\"stroke:#f0f0f0; fill:#fefefe; stroke-opacity:0.5\"> </rect> </g>\n",
       "<g> <rect id=\"memory_outline_4_8\" x=\"160.0\" y=\"417.0\" height=\"46.0\" width=\"5.75\" style=\"stroke:#f0f0f0; fill:#fefefe; stroke-opacity:0.5\"> </rect> </g>\n",
       "<g> <rect id=\"memory_outline_5_8\" x=\"165.75\" y=\"417.0\" height=\"46.0\" width=\"5.75\" style=\"stroke:#f0f0f0; fill:#fefefe; stroke-opacity:0.5\"> </rect> </g>\n",
       "<g> <rect id=\"memory_outline_6_8\" x=\"171.5\" y=\"417.0\" height=\"46.0\" width=\"5.75\" style=\"stroke:#f0f0f0; fill:#fefefe; stroke-opacity:0.5\"> </rect> </g>\n",
       "<g> <rect id=\"memory_outline_7_8\" x=\"177.25\" y=\"417.0\" height=\"46.0\" width=\"5.75\" style=\"stroke:#f0f0f0; fill:#fefefe; stroke-opacity:0.5\"> </rect> </g>\n",
       "<g> <rect id=\"memory_outline_0_8\" x=\"137.0\" y=\"417.0\" height=\"46.0\" width=\"5.75\" style=\"stroke:#f0f0f0; fill:#fefefe; stroke-opacity:0.5\"> </rect> </g>\n",
       "<g> <rect id=\"memory_outline_1_8\" x=\"142.75\" y=\"417.0\" height=\"46.0\" width=\"5.75\" style=\"stroke:#f0f0f0; fill:#fefefe; stroke-opacity:0.5\"> </rect> </g>\n",
       "<g> <rect id=\"memory_outline_2_8\" x=\"148.5\" y=\"417.0\" height=\"46.0\" width=\"5.75\" style=\"stroke:#f0f0f0; fill:#fefefe; stroke-opacity:0.5\"> </rect> </g>\n",
       "<g> <rect id=\"memory_outline_3_8\" x=\"154.25\" y=\"417.0\" height=\"46.0\" width=\"5.75\" style=\"stroke:#f0f0f0; fill:#fefefe; stroke-opacity:0.5\"> </rect> </g>\n",
       "<g> <rect id=\"memory_outline_4_8\" x=\"160.0\" y=\"417.0\" height=\"46.0\" width=\"5.75\" style=\"stroke:#f0f0f0; fill:#fefefe; stroke-opacity:0.5\"> </rect> </g>\n",
       "<g> <rect id=\"memory_outline_5_8\" x=\"165.75\" y=\"417.0\" height=\"46.0\" width=\"5.75\" style=\"stroke:#f0f0f0; fill:#fefefe; stroke-opacity:0.5\"> </rect> </g>\n",
       "<g> <rect id=\"memory_outline_6_8\" x=\"171.5\" y=\"417.0\" height=\"46.0\" width=\"5.75\" style=\"stroke:#f0f0f0; fill:#fefefe; stroke-opacity:0.5\"> </rect> </g>\n",
       "<g> <rect id=\"memory_outline_7_8\" x=\"177.25\" y=\"417.0\" height=\"46.0\" width=\"5.75\" style=\"stroke:#f0f0f0; fill:#fefefe; stroke-opacity:0.5\"> </rect> </g>\n",
       "<g> <rect id=\"local_memory_box2\" class=\"local_memory_box\" width=\"46.0\" height=\"46.0\" x=\"137.0\" y=\"417.0\" stroke=\"black\" stroke-width=\"1\" fill=\"None\"/> </g>\n",
       "<g> <text id=\"text_local_memory_box2\" class=\"local_memory_box_text\" x=\"137.0\" y=\"417.0\" fill=\"black\" font-family=\"Arial, Helvetica, sans-serif\"> <tspan x=\"160.0\" y=\"431.6\" dy=\"1em\" font-size=\"12\"> </tspan></text></g>\n",
       "<g> <rect id=\"aie_tile3\" class=\"aie_tile\" width=\"180\" height=\"140\" x=\"20\" y=\"500\" stroke=\"black\" stroke-width=\"2\" fill=\"#C2E9FF\"/> </g>\n",
       "<g> <text id=\"text_aie_tile3\" class=\"aie_tile_text\" x=\"20\" y=\"500\" fill=\"\" font-family=\"Arial, Helvetica, sans-serif\"> <tspan x=\"110.0\" y=\"569.3\" dy=\"1em\" font-size=\"1\"> </tspan></text></g>\n",
       "<g> <rect id=\"interconnect_box3\" class=\"interconnect_box\" width=\"40\" height=\"40\" x=\"30\" y=\"510\" stroke=\"black\" stroke-width=\"1\" fill=\"#DBBCBD\"/> </g>\n",
       "<g> <text id=\"text_interconnect_box3\" class=\"interconnect_box_text\" x=\"30\" y=\"510\" fill=\"\" font-family=\"Arial, Helvetica, sans-serif\"> <tspan x=\"50.0\" y=\"529.3\" dy=\"1em\" font-size=\"1\"> </tspan></text></g>\n",
       "<line id=\"ic_h_line3_0\" class=\"interconnect\" x1=\"38.0\" y1=\"525.0\" x2=\"58.0\" y2=\"525.0\" stroke=\"black\" stroke-width=\"1\" fill=\"none\" marker-end=\"url(#ic_endarrow)\"/>\n",
       "<line id=\"ic_h_line3_1\" class=\"interconnect\" x1=\"62.0\" y1=\"535.0\" x2=\"42.0\" y2=\"535.0\" stroke=\"black\" stroke-width=\"1\" fill=\"none\" marker-end=\"url(#ic_endarrow)\"/>\n",
       "<line id=\"ic_h_line3_2\" class=\"interconnect\" x1=\"45.0\" y1=\"542.0\" x2=\"45.0\" y2=\"522.0\" stroke=\"black\" stroke-width=\"1\" fill=\"none\" marker-end=\"url(#ic_endarrow)\"/>\n",
       "<line id=\"ic_h_line3_3\" class=\"interconnect\" x1=\"55.0\" y1=\"518.0\" x2=\"55.0\" y2=\"538.0\" stroke=\"black\" stroke-width=\"1\" fill=\"none\" marker-end=\"url(#ic_endarrow)\"/>\n",
       "<g> <rect id=\"aie_tile_container3\" class=\"aie_tile_container\" width=\"120\" height=\"60.0\" x=\"70\" y=\"570.0\" stroke=\"black\" stroke-width=\"1\" fill=\"#ffffff\"/> </g>\n",
       "<g> <text id=\"text_aie_tile_container3\" class=\"aie_tile_container_text\" x=\"70\" y=\"570.0\" fill=\"\" font-family=\"Arial, Helvetica, sans-serif\"> <tspan x=\"130.0\" y=\"599.3\" dy=\"1em\" font-size=\"1\"> </tspan></text></g>\n",
       "<g> <rect id=\"aie_box3\" class=\"aie_box\" width=\"46.0\" height=\"46.0\" x=\"77.0\" y=\"577.0\" stroke=\"black\" stroke-width=\"1\" fill=\"white\"/> </g>\n",
       "<g> <text id=\"text_aie_box3\" class=\"aie_box_text\" x=\"77.0\" y=\"577.0\" fill=\"black\" font-family=\"Arial, Helvetica, sans-serif\"> <tspan x=\"100.0\" y=\"591.6\" dy=\"1em\" font-size=\"12\"> </tspan></text></g>\n",
       "<g> <rect id=\"memory_outline_0_8\" x=\"137.0\" y=\"577.0\" height=\"46.0\" width=\"5.75\" style=\"stroke:#f0f0f0; fill:#fefefe; stroke-opacity:0.5\"> </rect> </g>\n",
       "<g> <rect id=\"memory_outline_1_8\" x=\"142.75\" y=\"577.0\" height=\"46.0\" width=\"5.75\" style=\"stroke:#f0f0f0; fill:#fefefe; stroke-opacity:0.5\"> </rect> </g>\n",
       "<g> <rect id=\"memory_outline_2_8\" x=\"148.5\" y=\"577.0\" height=\"46.0\" width=\"5.75\" style=\"stroke:#f0f0f0; fill:#fefefe; stroke-opacity:0.5\"> </rect> </g>\n",
       "<g> <rect id=\"memory_outline_3_8\" x=\"154.25\" y=\"577.0\" height=\"46.0\" width=\"5.75\" style=\"stroke:#f0f0f0; fill:#fefefe; stroke-opacity:0.5\"> </rect> </g>\n",
       "<g> <rect id=\"memory_outline_4_8\" x=\"160.0\" y=\"577.0\" height=\"46.0\" width=\"5.75\" style=\"stroke:#f0f0f0; fill:#fefefe; stroke-opacity:0.5\"> </rect> </g>\n",
       "<g> <rect id=\"memory_outline_5_8\" x=\"165.75\" y=\"577.0\" height=\"46.0\" width=\"5.75\" style=\"stroke:#f0f0f0; fill:#fefefe; stroke-opacity:0.5\"> </rect> </g>\n",
       "<g> <rect id=\"memory_outline_6_8\" x=\"171.5\" y=\"577.0\" height=\"46.0\" width=\"5.75\" style=\"stroke:#f0f0f0; fill:#fefefe; stroke-opacity:0.5\"> </rect> </g>\n",
       "<g> <rect id=\"memory_outline_7_8\" x=\"177.25\" y=\"577.0\" height=\"46.0\" width=\"5.75\" style=\"stroke:#f0f0f0; fill:#fefefe; stroke-opacity:0.5\"> </rect> </g>\n",
       "<g> <rect id=\"memory_outline_0_8\" x=\"137.0\" y=\"577.0\" height=\"46.0\" width=\"5.75\" style=\"stroke:#f0f0f0; fill:#fefefe; stroke-opacity:0.5\"> </rect> </g>\n",
       "<g> <rect id=\"memory_outline_1_8\" x=\"142.75\" y=\"577.0\" height=\"46.0\" width=\"5.75\" style=\"stroke:#f0f0f0; fill:#fefefe; stroke-opacity:0.5\"> </rect> </g>\n",
       "<g> <rect id=\"memory_outline_2_8\" x=\"148.5\" y=\"577.0\" height=\"46.0\" width=\"5.75\" style=\"stroke:#f0f0f0; fill:#fefefe; stroke-opacity:0.5\"> </rect> </g>\n",
       "<g> <rect id=\"memory_outline_3_8\" x=\"154.25\" y=\"577.0\" height=\"46.0\" width=\"5.75\" style=\"stroke:#f0f0f0; fill:#fefefe; stroke-opacity:0.5\"> </rect> </g>\n",
       "<g> <rect id=\"memory_outline_4_8\" x=\"160.0\" y=\"577.0\" height=\"46.0\" width=\"5.75\" style=\"stroke:#f0f0f0; fill:#fefefe; stroke-opacity:0.5\"> </rect> </g>\n",
       "<g> <rect id=\"memory_outline_5_8\" x=\"165.75\" y=\"577.0\" height=\"46.0\" width=\"5.75\" style=\"stroke:#f0f0f0; fill:#fefefe; stroke-opacity:0.5\"> </rect> </g>\n",
       "<g> <rect id=\"memory_outline_6_8\" x=\"171.5\" y=\"577.0\" height=\"46.0\" width=\"5.75\" style=\"stroke:#f0f0f0; fill:#fefefe; stroke-opacity:0.5\"> </rect> </g>\n",
       "<g> <rect id=\"memory_outline_7_8\" x=\"177.25\" y=\"577.0\" height=\"46.0\" width=\"5.75\" style=\"stroke:#f0f0f0; fill:#fefefe; stroke-opacity:0.5\"> </rect> </g>\n",
       "<g> <rect id=\"local_memory_box3\" class=\"local_memory_box\" width=\"46.0\" height=\"46.0\" x=\"137.0\" y=\"577.0\" stroke=\"black\" stroke-width=\"1\" fill=\"None\"/> </g>\n",
       "<g> <text id=\"text_local_memory_box3\" class=\"local_memory_box_text\" x=\"137.0\" y=\"577.0\" fill=\"black\" font-family=\"Arial, Helvetica, sans-serif\"> <tspan x=\"160.0\" y=\"591.6\" dy=\"1em\" font-size=\"12\"> </tspan></text></g>\n",
       "<g> <rect id=\"mem_tile4\" class=\"mem_tile\" width=\"180\" height=\"140\" x=\"20\" y=\"660\" stroke=\"black\" stroke-width=\"2\" fill=\"#E0FFC2\"/> </g>\n",
       "<g> <text id=\"text_mem_tile4\" class=\"mem_tile_text\" x=\"20\" y=\"660\" fill=\"\" font-family=\"Arial, Helvetica, sans-serif\"> <tspan x=\"110.0\" y=\"729.3\" dy=\"1em\" font-size=\"1\"> </tspan></text></g>\n",
       "<g> <rect id=\"interconnect_box4\" class=\"interconnect_box\" width=\"40\" height=\"40\" x=\"30\" y=\"670\" stroke=\"black\" stroke-width=\"1\" fill=\"#DBBCBD\"/> </g>\n",
       "<g> <text id=\"text_interconnect_box4\" class=\"interconnect_box_text\" x=\"30\" y=\"670\" fill=\"\" font-family=\"Arial, Helvetica, sans-serif\"> <tspan x=\"50.0\" y=\"689.3\" dy=\"1em\" font-size=\"1\"> </tspan></text></g>\n",
       "<line id=\"ic_h_line4_0\" class=\"interconnect\" x1=\"38.0\" y1=\"685.0\" x2=\"58.0\" y2=\"685.0\" stroke=\"black\" stroke-width=\"1\" fill=\"none\" marker-end=\"url(#ic_endarrow)\"/>\n",
       "<line id=\"ic_h_line4_1\" class=\"interconnect\" x1=\"62.0\" y1=\"695.0\" x2=\"42.0\" y2=\"695.0\" stroke=\"black\" stroke-width=\"1\" fill=\"none\" marker-end=\"url(#ic_endarrow)\"/>\n",
       "<line id=\"ic_h_line4_2\" class=\"interconnect\" x1=\"45.0\" y1=\"702.0\" x2=\"45.0\" y2=\"682.0\" stroke=\"black\" stroke-width=\"1\" fill=\"none\" marker-end=\"url(#ic_endarrow)\"/>\n",
       "<line id=\"ic_h_line4_3\" class=\"interconnect\" x1=\"55.0\" y1=\"678.0\" x2=\"55.0\" y2=\"698.0\" stroke=\"black\" stroke-width=\"1\" fill=\"none\" marker-end=\"url(#ic_endarrow)\"/>\n",
       "<g> <rect id=\"mem_tile_container4\" class=\"mem_tile_container\" width=\"120\" height=\"60.0\" x=\"70\" y=\"730.0\" stroke=\"black\" stroke-width=\"1\" fill=\"#ffffff\"/> </g>\n",
       "<g> <text id=\"text_mem_tile_container4\" class=\"mem_tile_container_text\" x=\"70\" y=\"730.0\" fill=\"\" font-family=\"Arial, Helvetica, sans-serif\"> <tspan x=\"130.0\" y=\"759.3\" dy=\"1em\" font-size=\"1\"> </tspan></text></g>\n",
       "<g> <rect id=\"memory_outline_0_16\" x=\"77.0\" y=\"737.0\" height=\"46.0\" width=\"6.625\" style=\"stroke:#f0f0f0; fill:#fefefe; stroke-opacity:0.5\"> </rect> </g>\n",
       "<g> <rect id=\"memory_outline_1_16\" x=\"83.625\" y=\"737.0\" height=\"46.0\" width=\"6.625\" style=\"stroke:#f0f0f0; fill:#fefefe; stroke-opacity:0.5\"> </rect> </g>\n",
       "<g> <rect id=\"memory_outline_2_16\" x=\"90.25\" y=\"737.0\" height=\"46.0\" width=\"6.625\" style=\"stroke:#f0f0f0; fill:#fefefe; stroke-opacity:0.5\"> </rect> </g>\n",
       "<g> <rect id=\"memory_outline_3_16\" x=\"96.875\" y=\"737.0\" height=\"46.0\" width=\"6.625\" style=\"stroke:#f0f0f0; fill:#fefefe; stroke-opacity:0.5\"> </rect> </g>\n",
       "<g> <rect id=\"memory_outline_4_16\" x=\"103.5\" y=\"737.0\" height=\"46.0\" width=\"6.625\" style=\"stroke:#f0f0f0; fill:#fefefe; stroke-opacity:0.5\"> </rect> </g>\n",
       "<g> <rect id=\"memory_outline_5_16\" x=\"110.125\" y=\"737.0\" height=\"46.0\" width=\"6.625\" style=\"stroke:#f0f0f0; fill:#fefefe; stroke-opacity:0.5\"> </rect> </g>\n",
       "<g> <rect id=\"memory_outline_6_16\" x=\"116.75\" y=\"737.0\" height=\"46.0\" width=\"6.625\" style=\"stroke:#f0f0f0; fill:#fefefe; stroke-opacity:0.5\"> </rect> </g>\n",
       "<g> <rect id=\"memory_outline_7_16\" x=\"123.375\" y=\"737.0\" height=\"46.0\" width=\"6.625\" style=\"stroke:#f0f0f0; fill:#fefefe; stroke-opacity:0.5\"> </rect> </g>\n",
       "<g> <rect id=\"memory_outline_8_16\" x=\"130.0\" y=\"737.0\" height=\"46.0\" width=\"6.625\" style=\"stroke:#f0f0f0; fill:#fefefe; stroke-opacity:0.5\"> </rect> </g>\n",
       "<g> <rect id=\"memory_outline_9_16\" x=\"136.625\" y=\"737.0\" height=\"46.0\" width=\"6.625\" style=\"stroke:#f0f0f0; fill:#fefefe; stroke-opacity:0.5\"> </rect> </g>\n",
       "<g> <rect id=\"memory_outline_10_16\" x=\"143.25\" y=\"737.0\" height=\"46.0\" width=\"6.625\" style=\"stroke:#f0f0f0; fill:#fefefe; stroke-opacity:0.5\"> </rect> </g>\n",
       "<g> <rect id=\"memory_outline_11_16\" x=\"149.875\" y=\"737.0\" height=\"46.0\" width=\"6.625\" style=\"stroke:#f0f0f0; fill:#fefefe; stroke-opacity:0.5\"> </rect> </g>\n",
       "<g> <rect id=\"memory_outline_12_16\" x=\"156.5\" y=\"737.0\" height=\"46.0\" width=\"6.625\" style=\"stroke:#f0f0f0; fill:#fefefe; stroke-opacity:0.5\"> </rect> </g>\n",
       "<g> <rect id=\"memory_outline_13_16\" x=\"163.125\" y=\"737.0\" height=\"46.0\" width=\"6.625\" style=\"stroke:#f0f0f0; fill:#fefefe; stroke-opacity:0.5\"> </rect> </g>\n",
       "<g> <rect id=\"memory_outline_14_16\" x=\"169.75\" y=\"737.0\" height=\"46.0\" width=\"6.625\" style=\"stroke:#f0f0f0; fill:#fefefe; stroke-opacity:0.5\"> </rect> </g>\n",
       "<g> <rect id=\"memory_outline_15_16\" x=\"176.375\" y=\"737.0\" height=\"46.0\" width=\"6.625\" style=\"stroke:#f0f0f0; fill:#fefefe; stroke-opacity:0.5\"> </rect> </g>\n",
       "<g> <rect id=\"mem_tile_memory4\" class=\"mem_tile_memory\" width=\"106\" height=\"46.0\" x=\"77\" y=\"737.0\" stroke=\"black\" stroke-width=\"\" fill=\"None\"/><animate attributeName=\"stroke-width\" dur=\"0.5s\" repeatCount=\"indefinite\" values=\"0;                       2;0\"/>\n",
       " </g>\n",
       "<g> <text id=\"text_mem_tile_memory4\" class=\"mem_tile_memory_text\" x=\"77\" y=\"737.0\" fill=\"black\" font-family=\"Arial, Helvetica, sans-serif\"> <tspan x=\"130.0\" y=\"750.9\" dy=\"1em\" font-size=\"13\"> </tspan></text></g>\n",
       "<g> <rect id=\"if_tile5\" class=\"if_tile\" width=\"180\" height=\"140\" x=\"20\" y=\"820\" stroke=\"black\" stroke-width=\"2\" fill=\"#E0C2FF\"/> </g>\n",
       "<g> <text id=\"text_if_tile5\" class=\"if_tile_text\" x=\"20\" y=\"820\" fill=\"\" font-family=\"Arial, Helvetica, sans-serif\"> <tspan x=\"110.0\" y=\"889.3\" dy=\"1em\" font-size=\"1\"> </tspan></text></g>\n",
       "<g> <rect id=\"interconnect_box5\" class=\"interconnect_box\" width=\"40\" height=\"40\" x=\"30\" y=\"830\" stroke=\"black\" stroke-width=\"1\" fill=\"#DBBCBD\"/> </g>\n",
       "<g> <text id=\"text_interconnect_box5\" class=\"interconnect_box_text\" x=\"30\" y=\"830\" fill=\"\" font-family=\"Arial, Helvetica, sans-serif\"> <tspan x=\"50.0\" y=\"849.3\" dy=\"1em\" font-size=\"1\"> </tspan></text></g>\n",
       "<line id=\"ic_h_line5_0\" class=\"interconnect\" x1=\"38.0\" y1=\"845.0\" x2=\"58.0\" y2=\"845.0\" stroke=\"black\" stroke-width=\"1\" fill=\"none\" marker-end=\"url(#ic_endarrow)\"/>\n",
       "<line id=\"ic_h_line5_1\" class=\"interconnect\" x1=\"62.0\" y1=\"855.0\" x2=\"42.0\" y2=\"855.0\" stroke=\"black\" stroke-width=\"1\" fill=\"none\" marker-end=\"url(#ic_endarrow)\"/>\n",
       "<line id=\"ic_h_line5_2\" class=\"interconnect\" x1=\"45.0\" y1=\"862.0\" x2=\"45.0\" y2=\"842.0\" stroke=\"black\" stroke-width=\"1\" fill=\"none\" marker-end=\"url(#ic_endarrow)\"/>\n",
       "<line id=\"ic_h_line5_3\" class=\"interconnect\" x1=\"55.0\" y1=\"838.0\" x2=\"55.0\" y2=\"858.0\" stroke=\"black\" stroke-width=\"1\" fill=\"none\" marker-end=\"url(#ic_endarrow)\"/>\n",
       "<g> <rect id=\"if_tile_container5\" class=\"if_tile_container\" width=\"120\" height=\"60.0\" x=\"70\" y=\"890.0\" stroke=\"black\" stroke-width=\"1\" fill=\"#ffffff\"/> </g>\n",
       "<g> <text id=\"text_if_tile_container5\" class=\"if_tile_container_text\" x=\"70\" y=\"890.0\" fill=\"\" font-family=\"Arial, Helvetica, sans-serif\"> <tspan x=\"130.0\" y=\"919.3\" dy=\"1em\" font-size=\"1\"> </tspan></text></g>\n",
       "<g> <rect id=\"if_dmabox5\" class=\"if_dmabox\" width=\"106\" height=\"46.0\" x=\"77\" y=\"897.0\" stroke=\"black\" stroke-width=\"\" fill=\"white\"/><animate attributeName=\"stroke-width\" dur=\"0.5s\" repeatCount=\"indefinite\" values=\"0;                       2;0\"/>\n",
       " </g>\n",
       "<g> <text id=\"text_if_dmabox5\" class=\"if_dmabox_text\" x=\"77\" y=\"897.0\" fill=\"black\" font-family=\"Arial, Helvetica, sans-serif\"> <tspan x=\"92.0\" y=\"904.4\" dy=\"1em\" font-size=\"13\">Interface Tile </tspan><tspan x=\"93.0\" y=\"917.4\" dy=\"1em\" font-size=\"13\">Data movers </tspan></text></g>\n",
       "<line id=\"diagonal5\" class=\"interconnect\" x1=\"70\" y1=\"870\" x2=\"90.0\" y2=\"890.0\" stroke=\"red\" stroke-width=\"1\" fill=\"none\"/>\n",
       "<path id=\"south_mem_connection5\" stroke=\"black\" stroke-width=\"1\" fill=\"none\" d=\"M 130.0, 950.0,                 l0, 30\"/>\n",
       "<circle id=\"d_circle5\" class=\"ic_animations\" cx=\"90.0\" cy=\"890.0\" r=\"3\" fill=\"none\">            <animateMotion dur=\"2.0s\" repeatCount=\"indefinite\" begin=\"0s\" path=\"M0, 0,                 L-20.0, -20.0,                \"/>            <animate attributeName=\"fill\" values=\"none;#009E73\" dur=\"0.0001s\" begin=\"0s\" fill=\"freeze\"/>            </circle>\n",
       "<circle id=\"d_circle5\" class=\"ic_animations\" cx=\"70\" cy=\"870\" r=\"3\" fill=\"none\">            <animateMotion dur=\"2.0s\" repeatCount=\"indefinite\" begin=\"0s\" path=\"M0, 0,                 L20.0, 20.0,                \"/>            <animate attributeName=\"fill\" values=\"none;#4B0092\" dur=\"0.0001s\" begin=\"0s\" fill=\"freeze\"/>            </circle>\n",
       "<circle id=\"d_circle5\" class=\"ic_animations\" cx=\"70\" cy=\"870\" r=\"3\" fill=\"none\">            <animateMotion dur=\"2.0s\" repeatCount=\"indefinite\" begin=\"0s\" path=\"M0, 0,                 L20.0, 20.0,                \"/>            <animate attributeName=\"fill\" values=\"none;#4B0092\" dur=\"0.0001s\" begin=\"0s\" fill=\"freeze\"/>            </circle>\n",
       "<circle id=\"mem_circle_east5\" class=\"mem_animations\" cx=\"0\" cy=\"0\" r=\"3\" fill=\"none\">                    <animateMotion dur=\"2.0s\" repeatCount=\"indefinite\" path=\"M 130.0, 980,                         l 0, -30                        \" begin=\"0s\"/>                    <animate attributeName=\"fill\" values=\"none;#009E73\" dur=\"0.0001s\" begin=\"0s\" fill=\"freeze\"/>                    </circle>\n",
       "<circle id=\"mem_circle_east5\" class=\"mem_animations\" cx=\"0\" cy=\"0\" r=\"3\" fill=\"none\">                    <animateMotion dur=\"2.0s\" repeatCount=\"indefinite\" path=\"M 130.0, 950,                         l 0, 30                        \" begin=\"0s\"/>                    <animate attributeName=\"fill\" values=\"none;#4B0092\" dur=\"0.0001s\" begin=\"0s\" fill=\"freeze\"/>                    </circle>\n",
       "<circle id=\"mem_circle_east5\" class=\"mem_animations\" cx=\"0\" cy=\"0\" r=\"3\" fill=\"none\">                    <animateMotion dur=\"2.0s\" repeatCount=\"indefinite\" path=\"M 130.0, 950,                         l 0, 30                        \" begin=\"0s\"/>                    <animate attributeName=\"fill\" values=\"none;#4B0092\" dur=\"0.0001s\" begin=\"0s\" fill=\"freeze\"/>                    </circle>\n",
       "<line id=\"diagonal0\" class=\"interconnect\" x1=\"70\" y1=\"70\" x2=\"90.0\" y2=\"90.0\" stroke=\"red\" stroke-width=\"1\" fill=\"none\"/>\n",
       "<line id=\"v_ic_connection0\" class=\"interconnect\" x1=\"50\" y1=\"70\" x2=\"50\" y2=\"190\" stroke=\"red\" stroke-width=\"1\" fill=\"none\"/>\n",
       "<line id=\"diagonal1\" class=\"interconnect\" x1=\"70\" y1=\"230\" x2=\"90.0\" y2=\"250.0\" stroke=\"red\" stroke-width=\"1\" fill=\"none\"/>\n",
       "<line id=\"v_ic_connection1\" class=\"interconnect\" x1=\"50\" y1=\"230\" x2=\"50\" y2=\"350\" stroke=\"red\" stroke-width=\"1\" fill=\"none\"/>\n",
       "<line id=\"diagonal2\" class=\"interconnect\" x1=\"70\" y1=\"390\" x2=\"90.0\" y2=\"410.0\" stroke=\"red\" stroke-width=\"1\" fill=\"none\"/>\n",
       "<line id=\"v_ic_connection2\" class=\"interconnect\" x1=\"50\" y1=\"390\" x2=\"50\" y2=\"510\" stroke=\"red\" stroke-width=\"1\" fill=\"none\"/>\n",
       "<line id=\"diagonal3\" class=\"interconnect\" x1=\"70\" y1=\"550\" x2=\"90.0\" y2=\"570.0\" stroke=\"red\" stroke-width=\"1\" fill=\"none\"/>\n",
       "<line id=\"v_ic_connection3\" class=\"interconnect\" x1=\"50\" y1=\"550\" x2=\"50\" y2=\"670\" stroke=\"red\" stroke-width=\"1\" fill=\"none\"/>\n",
       "<line id=\"diagonal4\" class=\"interconnect\" x1=\"70\" y1=\"710\" x2=\"90.0\" y2=\"730.0\" stroke=\"red\" stroke-width=\"1\" fill=\"none\"/>\n",
       "<line id=\"v_ic_connection4\" class=\"interconnect\" x1=\"50\" y1=\"710\" x2=\"50\" y2=\"830\" stroke=\"red\" stroke-width=\"1\" fill=\"none\"/>\n",
       "<circle id=\"d_circle0\" class=\"ic_animations\" cx=\"70\" cy=\"70\" r=\"3\" fill=\"none\">            <animateMotion dur=\"2.0s\" repeatCount=\"indefinite\" begin=\"0.4s\" path=\"M0, 0,                 L20.0, 20.0,                \"/>            <animate attributeName=\"fill\" values=\"none;#E6BBD1\" dur=\"0.0001s\" begin=\"0.4s\" fill=\"freeze\"/>            </circle>\n",
       "<circle id=\"v_circle_north0\" class=\"ic_animations\" cx=\"50\" cy=\"190\" r=\"3\" fill=\"none\">            <animateMotion dur=\"2.0s\" repeatCount=\"indefinite\" begin=\"0.4s\" path=\"M0, 0,                 L0, -120                \"/>            <animate attributeName=\"fill\" values=\"none;#E6BBD1\" dur=\"0.0001s\" begin=\"0.4s\" fill=\"freeze\"/>            </circle>\n",
       "<circle id=\"d_circle0\" class=\"ic_animations\" cx=\"90.0\" cy=\"90.0\" r=\"3\" fill=\"none\">            <animateMotion dur=\"2.0s\" repeatCount=\"indefinite\" begin=\"0.6s\" path=\"M0, 0,                 L-20.0, -20.0,                \"/>            <animate attributeName=\"fill\" values=\"none;#DC267F\" dur=\"0.0001s\" begin=\"0.6s\" fill=\"freeze\"/>            </circle>\n",
       "<circle id=\"v_circle_south0\" class=\"ic_animations\" cx=\"50\" cy=\"70\" r=\"3\" fill=\"none\">            <animateMotion dur=\"2.0s\" repeatCount=\"indefinite\" begin=\"0.6s\" path=\"M0, 0,                 L0, 120                \"/>            <animate attributeName=\"fill\" values=\"none;#DC267F\" dur=\"0.0001s\" begin=\"0.6s\" fill=\"freeze\"/>            </circle>\n",
       "<circle id=\"d_circle1\" class=\"ic_animations\" cx=\"70\" cy=\"230\" r=\"3\" fill=\"none\">            <animateMotion dur=\"2.0s\" repeatCount=\"indefinite\" begin=\"0.2s\" path=\"M0, 0,                 L20.0, 20.0,                \"/>            <animate attributeName=\"fill\" values=\"none;#E69F00\" dur=\"0.0001s\" begin=\"0.2s\" fill=\"freeze\"/>            </circle>\n",
       "<circle id=\"v_circle_north1\" class=\"ic_animations\" cx=\"50\" cy=\"350\" r=\"3\" fill=\"none\">            <animateMotion dur=\"2.0s\" repeatCount=\"indefinite\" begin=\"0.2s\" path=\"M0, 0,                 L0, -120                \"/>            <animate attributeName=\"fill\" values=\"none;#E69F00\" dur=\"0.0001s\" begin=\"0.2s\" fill=\"freeze\"/>            </circle>\n",
       "<circle id=\"v_circle_north1\" class=\"ic_animations\" cx=\"50\" cy=\"350\" r=\"3\" fill=\"none\">            <animateMotion dur=\"2.0s\" repeatCount=\"indefinite\" begin=\"0.4s\" path=\"M0, 0,                 L0, -120                \"/>            <animate attributeName=\"fill\" values=\"none;#E6BBD1\" dur=\"0.0001s\" begin=\"0.4s\" fill=\"freeze\"/>            </circle>\n",
       "<circle id=\"d_circle1\" class=\"ic_animations\" cx=\"90.0\" cy=\"250.0\" r=\"3\" fill=\"none\">            <animateMotion dur=\"2.0s\" repeatCount=\"indefinite\" begin=\"0.4s\" path=\"M0, 0,                 L-20.0, -20.0,                \"/>            <animate attributeName=\"fill\" values=\"none;#F0E442\" dur=\"0.0001s\" begin=\"0.4s\" fill=\"freeze\"/>            </circle>\n",
       "<circle id=\"v_circle_south1\" class=\"ic_animations\" cx=\"50\" cy=\"230\" r=\"3\" fill=\"none\">            <animateMotion dur=\"2.0s\" repeatCount=\"indefinite\" begin=\"0.4s\" path=\"M0, 0,                 L0, 120                \"/>            <animate attributeName=\"fill\" values=\"none;#F0E442\" dur=\"0.0001s\" begin=\"0.4s\" fill=\"freeze\"/>            </circle>\n",
       "<circle id=\"v_circle_south1\" class=\"ic_animations\" cx=\"50\" cy=\"230\" r=\"3\" fill=\"none\">            <animateMotion dur=\"2.0s\" repeatCount=\"indefinite\" begin=\"0.6s\" path=\"M0, 0,                 L0, 120                \"/>            <animate attributeName=\"fill\" values=\"none;#DC267F\" dur=\"0.0001s\" begin=\"0.6s\" fill=\"freeze\"/>            </circle>\n",
       "<circle id=\"d_circle2\" class=\"ic_animations\" cx=\"70\" cy=\"390\" r=\"3\" fill=\"none\">            <animateMotion dur=\"2.0s\" repeatCount=\"indefinite\" begin=\"0.0s\" path=\"M0, 0,                 L20.0, 20.0,                \"/>            <animate attributeName=\"fill\" values=\"none;#B2D4E8\" dur=\"0.0001s\" begin=\"0.0s\" fill=\"freeze\"/>            </circle>\n",
       "<circle id=\"v_circle_north2\" class=\"ic_animations\" cx=\"50\" cy=\"510\" r=\"3\" fill=\"none\">            <animateMotion dur=\"2.0s\" repeatCount=\"indefinite\" begin=\"0.0s\" path=\"M0, 0,                 L0, -120                \"/>            <animate attributeName=\"fill\" values=\"none;#B2D4E8\" dur=\"0.0001s\" begin=\"0.0s\" fill=\"freeze\"/>            </circle>\n",
       "<circle id=\"v_circle_north2\" class=\"ic_animations\" cx=\"50\" cy=\"510\" r=\"3\" fill=\"none\">            <animateMotion dur=\"2.0s\" repeatCount=\"indefinite\" begin=\"0.2s\" path=\"M0, 0,                 L0, -120                \"/>            <animate attributeName=\"fill\" values=\"none;#E69F00\" dur=\"0.0001s\" begin=\"0.2s\" fill=\"freeze\"/>            </circle>\n",
       "<circle id=\"v_circle_north2\" class=\"ic_animations\" cx=\"50\" cy=\"510\" r=\"3\" fill=\"none\">            <animateMotion dur=\"2.0s\" repeatCount=\"indefinite\" begin=\"0.4s\" path=\"M0, 0,                 L0, -120                \"/>            <animate attributeName=\"fill\" values=\"none;#E6BBD1\" dur=\"0.0001s\" begin=\"0.4s\" fill=\"freeze\"/>            </circle>\n",
       "<circle id=\"d_circle2\" class=\"ic_animations\" cx=\"90.0\" cy=\"410.0\" r=\"3\" fill=\"none\">            <animateMotion dur=\"2.0s\" repeatCount=\"indefinite\" begin=\"0.2s\" path=\"M0, 0,                 L-20.0, -20.0,                \"/>            <animate attributeName=\"fill\" values=\"none;#0072B2\" dur=\"0.0001s\" begin=\"0.2s\" fill=\"freeze\"/>            </circle>\n",
       "<circle id=\"v_circle_south2\" class=\"ic_animations\" cx=\"50\" cy=\"390\" r=\"3\" fill=\"none\">            <animateMotion dur=\"2.0s\" repeatCount=\"indefinite\" begin=\"0.2s\" path=\"M0, 0,                 L0, 120                \"/>            <animate attributeName=\"fill\" values=\"none;#0072B2\" dur=\"0.0001s\" begin=\"0.2s\" fill=\"freeze\"/>            </circle>\n",
       "<circle id=\"v_circle_south2\" class=\"ic_animations\" cx=\"50\" cy=\"390\" r=\"3\" fill=\"none\">            <animateMotion dur=\"2.0s\" repeatCount=\"indefinite\" begin=\"0.4s\" path=\"M0, 0,                 L0, 120                \"/>            <animate attributeName=\"fill\" values=\"none;#F0E442\" dur=\"0.0001s\" begin=\"0.4s\" fill=\"freeze\"/>            </circle>\n",
       "<circle id=\"v_circle_south2\" class=\"ic_animations\" cx=\"50\" cy=\"390\" r=\"3\" fill=\"none\">            <animateMotion dur=\"2.0s\" repeatCount=\"indefinite\" begin=\"0.6s\" path=\"M0, 0,                 L0, 120                \"/>            <animate attributeName=\"fill\" values=\"none;#DC267F\" dur=\"0.0001s\" begin=\"0.6s\" fill=\"freeze\"/>            </circle>\n",
       "<circle id=\"d_circle3\" class=\"ic_animations\" cx=\"70\" cy=\"550\" r=\"3\" fill=\"none\">            <animateMotion dur=\"2.0s\" repeatCount=\"indefinite\" begin=\"-0.2s\" path=\"M0, 0,                 L20.0, 20.0,                \"/>            <animate attributeName=\"fill\" values=\"none;#C36D6D\" dur=\"0.0001s\" begin=\"-0.2s\" fill=\"freeze\"/>            </circle>\n",
       "<circle id=\"v_circle_north3\" class=\"ic_animations\" cx=\"50\" cy=\"670\" r=\"3\" fill=\"none\">            <animateMotion dur=\"2.0s\" repeatCount=\"indefinite\" begin=\"-0.2s\" path=\"M0, 0,                 L0, -120                \"/>            <animate attributeName=\"fill\" values=\"none;#C36D6D\" dur=\"0.0001s\" begin=\"-0.2s\" fill=\"freeze\"/>            </circle>\n",
       "<circle id=\"v_circle_north3\" class=\"ic_animations\" cx=\"50\" cy=\"670\" r=\"3\" fill=\"none\">            <animateMotion dur=\"2.0s\" repeatCount=\"indefinite\" begin=\"0.0s\" path=\"M0, 0,                 L0, -120                \"/>            <animate attributeName=\"fill\" values=\"none;#B2D4E8\" dur=\"0.0001s\" begin=\"0.0s\" fill=\"freeze\"/>            </circle>\n",
       "<circle id=\"v_circle_north3\" class=\"ic_animations\" cx=\"50\" cy=\"670\" r=\"3\" fill=\"none\">            <animateMotion dur=\"2.0s\" repeatCount=\"indefinite\" begin=\"0.2s\" path=\"M0, 0,                 L0, -120                \"/>            <animate attributeName=\"fill\" values=\"none;#E69F00\" dur=\"0.0001s\" begin=\"0.2s\" fill=\"freeze\"/>            </circle>\n",
       "<circle id=\"v_circle_north3\" class=\"ic_animations\" cx=\"50\" cy=\"670\" r=\"3\" fill=\"none\">            <animateMotion dur=\"2.0s\" repeatCount=\"indefinite\" begin=\"0.4s\" path=\"M0, 0,                 L0, -120                \"/>            <animate attributeName=\"fill\" values=\"none;#E6BBD1\" dur=\"0.0001s\" begin=\"0.4s\" fill=\"freeze\"/>            </circle>\n",
       "<circle id=\"d_circle3\" class=\"ic_animations\" cx=\"90.0\" cy=\"570.0\" r=\"3\" fill=\"none\">            <animateMotion dur=\"2.0s\" repeatCount=\"indefinite\" begin=\"0.0s\" path=\"M0, 0,                 L-20.0, -20.0,                \"/>            <animate attributeName=\"fill\" values=\"none;#C00000\" dur=\"0.0001s\" begin=\"0.0s\" fill=\"freeze\"/>            </circle>\n",
       "<circle id=\"v_circle_south3\" class=\"ic_animations\" cx=\"50\" cy=\"550\" r=\"3\" fill=\"none\">            <animateMotion dur=\"2.0s\" repeatCount=\"indefinite\" begin=\"0.0s\" path=\"M0, 0,                 L0, 120                \"/>            <animate attributeName=\"fill\" values=\"none;#C00000\" dur=\"0.0001s\" begin=\"0.0s\" fill=\"freeze\"/>            </circle>\n",
       "<circle id=\"v_circle_south3\" class=\"ic_animations\" cx=\"50\" cy=\"550\" r=\"3\" fill=\"none\">            <animateMotion dur=\"2.0s\" repeatCount=\"indefinite\" begin=\"0.2s\" path=\"M0, 0,                 L0, 120                \"/>            <animate attributeName=\"fill\" values=\"none;#0072B2\" dur=\"0.0001s\" begin=\"0.2s\" fill=\"freeze\"/>            </circle>\n",
       "<circle id=\"v_circle_south3\" class=\"ic_animations\" cx=\"50\" cy=\"550\" r=\"3\" fill=\"none\">            <animateMotion dur=\"2.0s\" repeatCount=\"indefinite\" begin=\"0.4s\" path=\"M0, 0,                 L0, 120                \"/>            <animate attributeName=\"fill\" values=\"none;#F0E442\" dur=\"0.0001s\" begin=\"0.4s\" fill=\"freeze\"/>            </circle>\n",
       "<circle id=\"v_circle_south3\" class=\"ic_animations\" cx=\"50\" cy=\"550\" r=\"3\" fill=\"none\">            <animateMotion dur=\"2.0s\" repeatCount=\"indefinite\" begin=\"0.6s\" path=\"M0, 0,                 L0, 120                \"/>            <animate attributeName=\"fill\" values=\"none;#DC267F\" dur=\"0.0001s\" begin=\"0.6s\" fill=\"freeze\"/>            </circle>\n",
       "<circle id=\"d_circle4\" class=\"ic_animations\" cx=\"70\" cy=\"710\" r=\"3\" fill=\"none\">            <animateMotion dur=\"4s\" repeatCount=\"indefinite\" begin=\"0s\" path=\"M0, 0,                 L20.0, 20.0,                \"/>            <animate attributeName=\"fill\" values=\"none;#009E73\" dur=\"0.0001s\" begin=\"0s\" fill=\"freeze\"/>            </circle>\n",
       "<circle id=\"v_circle_north4\" class=\"ic_animations\" cx=\"50\" cy=\"830\" r=\"3\" fill=\"none\">            <animateMotion dur=\"4s\" repeatCount=\"indefinite\" begin=\"0s\" path=\"M0, 0,                 L0, -120                \"/>            <animate attributeName=\"fill\" values=\"none;#009E73\" dur=\"0.0001s\" begin=\"0s\" fill=\"freeze\"/>            </circle>\n",
       "<circle id=\"d_circle4\" class=\"ic_animations\" cx=\"90.0\" cy=\"730.0\" r=\"3\" fill=\"none\">            <animateMotion dur=\"2.0s\" repeatCount=\"indefinite\" begin=\"-0.2s\" path=\"M0, 0,                 L-20.0, -20.0,                \"/>            <animate attributeName=\"fill\" values=\"none;#C36D6D\" dur=\"0.0001s\" begin=\"-0.2s\" fill=\"freeze\"/>            </circle>\n",
       "<circle id=\"d_circle4\" class=\"ic_animations\" cx=\"90.0\" cy=\"730.0\" r=\"3\" fill=\"none\">            <animateMotion dur=\"2.0s\" repeatCount=\"indefinite\" begin=\"0.0s\" path=\"M0, 0,                 L-20.0, -20.0,                \"/>            <animate attributeName=\"fill\" values=\"none;#B2D4E8\" dur=\"0.0001s\" begin=\"0.0s\" fill=\"freeze\"/>            </circle>\n",
       "<circle id=\"d_circle4\" class=\"ic_animations\" cx=\"90.0\" cy=\"730.0\" r=\"3\" fill=\"none\">            <animateMotion dur=\"2.0s\" repeatCount=\"indefinite\" begin=\"0.2s\" path=\"M0, 0,                 L-20.0, -20.0,                \"/>            <animate attributeName=\"fill\" values=\"none;#E69F00\" dur=\"0.0001s\" begin=\"0.2s\" fill=\"freeze\"/>            </circle>\n",
       "<circle id=\"d_circle4\" class=\"ic_animations\" cx=\"90.0\" cy=\"730.0\" r=\"3\" fill=\"none\">            <animateMotion dur=\"2.0s\" repeatCount=\"indefinite\" begin=\"0.4s\" path=\"M0, 0,                 L-20.0, -20.0,                \"/>            <animate attributeName=\"fill\" values=\"none;#E6BBD1\" dur=\"0.0001s\" begin=\"0.4s\" fill=\"freeze\"/>            </circle>\n",
       "<circle id=\"d_circle4\" class=\"ic_animations\" cx=\"90.0\" cy=\"730.0\" r=\"3\" fill=\"none\">            <animateMotion dur=\"4s\" repeatCount=\"indefinite\" begin=\"0s\" path=\"M0, 0,                 L-20.0, -20.0,                \"/>            <animate attributeName=\"fill\" values=\"none;#4B0092\" dur=\"0.0001s\" begin=\"0s\" fill=\"freeze\"/>            </circle>\n",
       "<circle id=\"v_circle_south4\" class=\"ic_animations\" cx=\"50\" cy=\"710\" r=\"3\" fill=\"none\">            <animateMotion dur=\"4s\" repeatCount=\"indefinite\" begin=\"0s\" path=\"M0, 0,                 L0, 120                \"/>            <animate attributeName=\"fill\" values=\"none;#4B0092\" dur=\"0.0001s\" begin=\"0s\" fill=\"freeze\"/>            </circle>\n",
       "<circle id=\"d_circle4\" class=\"ic_animations\" cx=\"90.0\" cy=\"730.0\" r=\"3\" fill=\"none\">            <animateMotion dur=\"4s\" repeatCount=\"indefinite\" begin=\"0s\" path=\"M0, 0,                 L-20.0, -20.0,                \"/>            <animate attributeName=\"fill\" values=\"none;#4B0092\" dur=\"0.0001s\" begin=\"0s\" fill=\"freeze\"/>            </circle>\n",
       "<circle id=\"v_circle_south4\" class=\"ic_animations\" cx=\"50\" cy=\"710\" r=\"3\" fill=\"none\">            <animateMotion dur=\"4s\" repeatCount=\"indefinite\" begin=\"0s\" path=\"M0, 0,                 L0, 120                \"/>            <animate attributeName=\"fill\" values=\"none;#4B0092\" dur=\"0.0001s\" begin=\"0s\" fill=\"freeze\"/>            </circle>\n",
       "<circle id=\"d_circle4\" class=\"ic_animations\" cx=\"70\" cy=\"710\" r=\"3\" fill=\"none\">            <animateMotion dur=\"2.0s\" repeatCount=\"indefinite\" begin=\"0.0s\" path=\"M0, 0,                 L20.0, 20.0,                \"/>            <animate attributeName=\"fill\" values=\"none;#C00000\" dur=\"0.0001s\" begin=\"0.0s\" fill=\"freeze\"/>            </circle>\n",
       "<circle id=\"d_circle4\" class=\"ic_animations\" cx=\"70\" cy=\"710\" r=\"3\" fill=\"none\">            <animateMotion dur=\"2.0s\" repeatCount=\"indefinite\" begin=\"0.2s\" path=\"M0, 0,                 L20.0, 20.0,                \"/>            <animate attributeName=\"fill\" values=\"none;#0072B2\" dur=\"0.0001s\" begin=\"0.2s\" fill=\"freeze\"/>            </circle>\n",
       "<circle id=\"d_circle4\" class=\"ic_animations\" cx=\"70\" cy=\"710\" r=\"3\" fill=\"none\">            <animateMotion dur=\"2.0s\" repeatCount=\"indefinite\" begin=\"0.4s\" path=\"M0, 0,                 L20.0, 20.0,                \"/>            <animate attributeName=\"fill\" values=\"none;#F0E442\" dur=\"0.0001s\" begin=\"0.4s\" fill=\"freeze\"/>            </circle>\n",
       "<circle id=\"d_circle4\" class=\"ic_animations\" cx=\"70\" cy=\"710\" r=\"3\" fill=\"none\">            <animateMotion dur=\"2.0s\" repeatCount=\"indefinite\" begin=\"0.6s\" path=\"M0, 0,                 L20.0, 20.0,                \"/>            <animate attributeName=\"fill\" values=\"none;#DC267F\" dur=\"0.0001s\" begin=\"0.6s\" fill=\"freeze\"/>            </circle>\n",
       "<path id=\"south_mem_connection0\" class=\"mem_connections\" stroke=\"blue\" stroke-width=\"1\" fill=\"none\" d=\"M 160.0, 143.0,                 l0, 80.0,                l-30.0, 17.0,                l-30.0, 17.0\"/>\n",
       "<path id=\"south_mem_connection0\" class=\"mem_connections\" stroke=\"blue\" stroke-width=\"1\" fill=\"none\" d=\"M 100.0, 143.0,                 l0, 80.0,                l30.0, 17.0,                l30.0, 17.0\"/>\n",
       "<line id=\"internal_mem_connection0\" x1=\"123.0\" y1=\"120.0\" x2=\"137.0\" y2=\"120.0\" class=\"mem_connections\" stroke=\"blue\" stroke-width=\"1\" fill=\"none\"/>\n",
       "<path id=\"south_mem_connection1\" class=\"mem_connections\" stroke=\"blue\" stroke-width=\"1\" fill=\"none\" d=\"M 160.0, 303.0,                 l0, 80.0,                l-30.0, 17.0,                l-30.0, 17.0\"/>\n",
       "<path id=\"south_mem_connection1\" class=\"mem_connections\" stroke=\"blue\" stroke-width=\"1\" fill=\"none\" d=\"M 100.0, 303.0,                 l0, 80.0,                l30.0, 17.0,                l30.0, 17.0\"/>\n",
       "<line id=\"internal_mem_connection1\" x1=\"123.0\" y1=\"280.0\" x2=\"137.0\" y2=\"280.0\" class=\"mem_connections\" stroke=\"blue\" stroke-width=\"1\" fill=\"none\"/>\n",
       "<path id=\"south_mem_connection2\" class=\"mem_connections\" stroke=\"blue\" stroke-width=\"1\" fill=\"none\" d=\"M 160.0, 463.0,                 l0, 80.0,                l-30.0, 17.0,                l-30.0, 17.0\"/>\n",
       "<path id=\"south_mem_connection2\" class=\"mem_connections\" stroke=\"blue\" stroke-width=\"1\" fill=\"none\" d=\"M 100.0, 463.0,                 l0, 80.0,                l30.0, 17.0,                l30.0, 17.0\"/>\n",
       "<line id=\"internal_mem_connection2\" x1=\"123.0\" y1=\"440.0\" x2=\"137.0\" y2=\"440.0\" class=\"mem_connections\" stroke=\"blue\" stroke-width=\"1\" fill=\"none\"/>\n",
       "<linearGradient id=\"kernel_0\" gradientTransform=\"rotate(90)\"> <stop offset=\"0%\" stop-color=\"white\"/> <stop offset=\"10%\" stop-color=\"#DC267F\"/> </linearGradient> <circle id=\"kernel_circle_0\" class=\"kernel\" cx=\"100.0\" cy=\"120.0\" r=\"20\" fill=\"url(#kernel_0)\" stroke=\"black\" stroke-width=\"1\" stroke-dasharray=\"5, 5\"> <animateTransform attributeName=\"transform\" type=\"rotate\" from=\"0 100.0 120.0\" to=\"360 100.0 120.0\" dur=\"4s\" begin=\"0s\" repeatCount=\"indefinite\"/> </circle> \n",
       "<linearGradient id=\"kernel_1\" gradientTransform=\"rotate(90)\"> <stop offset=\"0%\" stop-color=\"white\"/> <stop offset=\"10%\" stop-color=\"#F0E442\"/> </linearGradient> <circle id=\"kernel_circle_1\" class=\"kernel\" cx=\"100.0\" cy=\"280.0\" r=\"20\" fill=\"url(#kernel_1)\" stroke=\"black\" stroke-width=\"1\" stroke-dasharray=\"5, 5\"> <animateTransform attributeName=\"transform\" type=\"rotate\" from=\"0 100.0 280.0\" to=\"360 100.0 280.0\" dur=\"4s\" begin=\"0s\" repeatCount=\"indefinite\"/> </circle> \n",
       "<linearGradient id=\"kernel_2\" gradientTransform=\"rotate(90)\"> <stop offset=\"0%\" stop-color=\"white\"/> <stop offset=\"10%\" stop-color=\"#0072B2\"/> </linearGradient> <circle id=\"kernel_circle_2\" class=\"kernel\" cx=\"100.0\" cy=\"440.0\" r=\"20\" fill=\"url(#kernel_2)\" stroke=\"black\" stroke-width=\"1\" stroke-dasharray=\"5, 5\"> <animateTransform attributeName=\"transform\" type=\"rotate\" from=\"0 100.0 440.0\" to=\"360 100.0 440.0\" dur=\"4s\" begin=\"0s\" repeatCount=\"indefinite\"/> </circle> \n",
       "<linearGradient id=\"kernel_3\" gradientTransform=\"rotate(90)\"> <stop offset=\"0%\" stop-color=\"white\"/> <stop offset=\"10%\" stop-color=\"#C00000\"/> </linearGradient> <circle id=\"kernel_circle_3\" class=\"kernel\" cx=\"100.0\" cy=\"600.0\" r=\"20\" fill=\"url(#kernel_3)\" stroke=\"black\" stroke-width=\"1\" stroke-dasharray=\"5, 5\"> <animateTransform attributeName=\"transform\" type=\"rotate\" from=\"0 100.0 600.0\" to=\"360 100.0 600.0\" dur=\"4s\" begin=\"0s\" repeatCount=\"indefinite\"/> </circle> \n",
       "<g transform=\"rotate(180, 139.875, 143.0) \"> <rect id=\"buffer0_0\" class=\"aie_tile_buffers\" x=\"137.0\" y=\"143.0\" height=\"46.0\" width=\"5.75\" style=\"stroke:none; fill:none\"> <animate attributeName=\"height\" values=\"46.0;0;46.0\" keyTimes=\"0;0.5;1\" dur=\"4.0s\" begin=\"0s\" fill=\"freeze\" repeatCount=\"indefinite\"/> <animate attributeName=\"fill\" values=\"none;#E6BBD1;#E6BBD1;#E6BBD1;#E6BBD1\" keyTimes=\"0; 0.00001; 0.5; 0.50001; 1\" dur=\"4.0s\" begin=\"0s\" fill=\"freeze\" repeatCount=\"indefinite\"/></rect></g>\n",
       "<g transform=\"rotate(180, 145.625, 143.0) \"> <rect id=\"buffer0_1\" class=\"aie_tile_buffers\" x=\"142.75\" y=\"143.0\" height=\"46.0\" width=\"5.75\" style=\"stroke:none; fill:none\"> <animate attributeName=\"height\" values=\"0;46.0;0\" keyTimes=\"0;0.5;1\" dur=\"4.0s\" begin=\"0s\" fill=\"freeze\" repeatCount=\"indefinite\"/> <animate attributeName=\"fill\" values=\"none;#E6BBD1;#E6BBD1;#E6BBD1;#E6BBD1\" keyTimes=\"0; 0.00001; 0.5; 0.50001; 1\" dur=\"4.0s\" begin=\"0s\" fill=\"freeze\" repeatCount=\"indefinite\"/></rect></g>\n",
       "<g transform=\"rotate(180, 151.375, 143.0) \"> <rect id=\"buffer0_2\" class=\"aie_tile_buffers\" x=\"148.5\" y=\"143.0\" height=\"46.0\" width=\"5.75\" style=\"stroke:none; fill:none\"> <animate attributeName=\"height\" values=\"46.0;0;46.0\" keyTimes=\"0;0.5;1\" dur=\"4.0s\" begin=\"0s\" fill=\"freeze\" repeatCount=\"indefinite\"/> <animate attributeName=\"fill\" values=\"none;#DC267F;#DC267F;#DC267F;#DC267F\" keyTimes=\"0; 0.00001; 0.5; 0.50001; 1\" dur=\"4.0s\" begin=\"0s\" fill=\"freeze\" repeatCount=\"indefinite\"/></rect></g>\n",
       "<g transform=\"rotate(180, 157.125, 143.0) \"> <rect id=\"buffer0_3\" class=\"aie_tile_buffers\" x=\"154.25\" y=\"143.0\" height=\"46.0\" width=\"5.75\" style=\"stroke:none; fill:none\"> <animate attributeName=\"height\" values=\"0;46.0;0\" keyTimes=\"0;0.5;1\" dur=\"4.0s\" begin=\"0s\" fill=\"freeze\" repeatCount=\"indefinite\"/> <animate attributeName=\"fill\" values=\"none;#DC267F;#DC267F;#DC267F;#DC267F\" keyTimes=\"0; 0.00001; 0.5; 0.50001; 1\" dur=\"4.0s\" begin=\"0s\" fill=\"freeze\" repeatCount=\"indefinite\"/></rect></g>\n",
       "<g transform=\"rotate(180, 139.875, 303.0) \"> <rect id=\"buffer1_0\" class=\"aie_tile_buffers\" x=\"137.0\" y=\"303.0\" height=\"46.0\" width=\"5.75\" style=\"stroke:none; fill:none\"> <animate attributeName=\"height\" values=\"46.0;0;46.0\" keyTimes=\"0;0.5;1\" dur=\"4.0s\" begin=\"0s\" fill=\"freeze\" repeatCount=\"indefinite\"/> <animate attributeName=\"fill\" values=\"none;#E69F00;#E69F00;#E69F00;#E69F00\" keyTimes=\"0; 0.00001; 0.5; 0.50001; 1\" dur=\"4.0s\" begin=\"0s\" fill=\"freeze\" repeatCount=\"indefinite\"/></rect></g>\n",
       "<g transform=\"rotate(180, 145.625, 303.0) \"> <rect id=\"buffer1_1\" class=\"aie_tile_buffers\" x=\"142.75\" y=\"303.0\" height=\"46.0\" width=\"5.75\" style=\"stroke:none; fill:none\"> <animate attributeName=\"height\" values=\"0;46.0;0\" keyTimes=\"0;0.5;1\" dur=\"4.0s\" begin=\"0s\" fill=\"freeze\" repeatCount=\"indefinite\"/> <animate attributeName=\"fill\" values=\"none;#E69F00;#E69F00;#E69F00;#E69F00\" keyTimes=\"0; 0.00001; 0.5; 0.50001; 1\" dur=\"4.0s\" begin=\"0s\" fill=\"freeze\" repeatCount=\"indefinite\"/></rect></g>\n",
       "<g transform=\"rotate(180, 151.375, 303.0) \"> <rect id=\"buffer1_2\" class=\"aie_tile_buffers\" x=\"148.5\" y=\"303.0\" height=\"46.0\" width=\"5.75\" style=\"stroke:none; fill:none\"> <animate attributeName=\"height\" values=\"46.0;0;46.0\" keyTimes=\"0;0.5;1\" dur=\"4.0s\" begin=\"0s\" fill=\"freeze\" repeatCount=\"indefinite\"/> <animate attributeName=\"fill\" values=\"none;#F0E442;#F0E442;#F0E442;#F0E442\" keyTimes=\"0; 0.00001; 0.5; 0.50001; 1\" dur=\"4.0s\" begin=\"0s\" fill=\"freeze\" repeatCount=\"indefinite\"/></rect></g>\n",
       "<g transform=\"rotate(180, 157.125, 303.0) \"> <rect id=\"buffer1_3\" class=\"aie_tile_buffers\" x=\"154.25\" y=\"303.0\" height=\"46.0\" width=\"5.75\" style=\"stroke:none; fill:none\"> <animate attributeName=\"height\" values=\"0;46.0;0\" keyTimes=\"0;0.5;1\" dur=\"4.0s\" begin=\"0s\" fill=\"freeze\" repeatCount=\"indefinite\"/> <animate attributeName=\"fill\" values=\"none;#F0E442;#F0E442;#F0E442;#F0E442\" keyTimes=\"0; 0.00001; 0.5; 0.50001; 1\" dur=\"4.0s\" begin=\"0s\" fill=\"freeze\" repeatCount=\"indefinite\"/></rect></g>\n",
       "<g transform=\"rotate(180, 139.875, 463.0) \"> <rect id=\"buffer2_0\" class=\"aie_tile_buffers\" x=\"137.0\" y=\"463.0\" height=\"46.0\" width=\"5.75\" style=\"stroke:none; fill:none\"> <animate attributeName=\"height\" values=\"46.0;0;46.0\" keyTimes=\"0;0.5;1\" dur=\"4.0s\" begin=\"0s\" fill=\"freeze\" repeatCount=\"indefinite\"/> <animate attributeName=\"fill\" values=\"none;#B2D4E8;#B2D4E8;#B2D4E8;#B2D4E8\" keyTimes=\"0; 0.00001; 0.5; 0.50001; 1\" dur=\"4.0s\" begin=\"0s\" fill=\"freeze\" repeatCount=\"indefinite\"/></rect></g>\n",
       "<g transform=\"rotate(180, 145.625, 463.0) \"> <rect id=\"buffer2_1\" class=\"aie_tile_buffers\" x=\"142.75\" y=\"463.0\" height=\"46.0\" width=\"5.75\" style=\"stroke:none; fill:none\"> <animate attributeName=\"height\" values=\"0;46.0;0\" keyTimes=\"0;0.5;1\" dur=\"4.0s\" begin=\"0s\" fill=\"freeze\" repeatCount=\"indefinite\"/> <animate attributeName=\"fill\" values=\"none;#B2D4E8;#B2D4E8;#B2D4E8;#B2D4E8\" keyTimes=\"0; 0.00001; 0.5; 0.50001; 1\" dur=\"4.0s\" begin=\"0s\" fill=\"freeze\" repeatCount=\"indefinite\"/></rect></g>\n",
       "<g transform=\"rotate(180, 151.375, 463.0) \"> <rect id=\"buffer2_2\" class=\"aie_tile_buffers\" x=\"148.5\" y=\"463.0\" height=\"46.0\" width=\"5.75\" style=\"stroke:none; fill:none\"> <animate attributeName=\"height\" values=\"46.0;0;46.0\" keyTimes=\"0;0.5;1\" dur=\"4.0s\" begin=\"0s\" fill=\"freeze\" repeatCount=\"indefinite\"/> <animate attributeName=\"fill\" values=\"none;#0072B2;#0072B2;#0072B2;#0072B2\" keyTimes=\"0; 0.00001; 0.5; 0.50001; 1\" dur=\"4.0s\" begin=\"0s\" fill=\"freeze\" repeatCount=\"indefinite\"/></rect></g>\n",
       "<g transform=\"rotate(180, 157.125, 463.0) \"> <rect id=\"buffer2_3\" class=\"aie_tile_buffers\" x=\"154.25\" y=\"463.0\" height=\"46.0\" width=\"5.75\" style=\"stroke:none; fill:none\"> <animate attributeName=\"height\" values=\"0;46.0;0\" keyTimes=\"0;0.5;1\" dur=\"4.0s\" begin=\"0s\" fill=\"freeze\" repeatCount=\"indefinite\"/> <animate attributeName=\"fill\" values=\"none;#0072B2;#0072B2;#0072B2;#0072B2\" keyTimes=\"0; 0.00001; 0.5; 0.50001; 1\" dur=\"4.0s\" begin=\"0s\" fill=\"freeze\" repeatCount=\"indefinite\"/></rect></g>\n",
       "<g transform=\"rotate(180, 139.875, 623.0) \"> <rect id=\"buffer3_0\" class=\"aie_tile_buffers\" x=\"137.0\" y=\"623.0\" height=\"46.0\" width=\"5.75\" style=\"stroke:none; fill:none\"> <animate attributeName=\"height\" values=\"46.0;0;46.0\" keyTimes=\"0;0.5;1\" dur=\"4.0s\" begin=\"0s\" fill=\"freeze\" repeatCount=\"indefinite\"/> <animate attributeName=\"fill\" values=\"none;#C36D6D;#C36D6D;#C36D6D;#C36D6D\" keyTimes=\"0; 0.00001; 0.5; 0.50001; 1\" dur=\"4.0s\" begin=\"0s\" fill=\"freeze\" repeatCount=\"indefinite\"/></rect></g>\n",
       "<g transform=\"rotate(180, 145.625, 623.0) \"> <rect id=\"buffer3_1\" class=\"aie_tile_buffers\" x=\"142.75\" y=\"623.0\" height=\"46.0\" width=\"5.75\" style=\"stroke:none; fill:none\"> <animate attributeName=\"height\" values=\"0;46.0;0\" keyTimes=\"0;0.5;1\" dur=\"4.0s\" begin=\"0s\" fill=\"freeze\" repeatCount=\"indefinite\"/> <animate attributeName=\"fill\" values=\"none;#C36D6D;#C36D6D;#C36D6D;#C36D6D\" keyTimes=\"0; 0.00001; 0.5; 0.50001; 1\" dur=\"4.0s\" begin=\"0s\" fill=\"freeze\" repeatCount=\"indefinite\"/></rect></g>\n",
       "<g transform=\"rotate(180, 151.375, 623.0) \"> <rect id=\"buffer3_2\" class=\"aie_tile_buffers\" x=\"148.5\" y=\"623.0\" height=\"46.0\" width=\"5.75\" style=\"stroke:none; fill:none\"> <animate attributeName=\"height\" values=\"46.0;0;46.0\" keyTimes=\"0;0.5;1\" dur=\"4.0s\" begin=\"0s\" fill=\"freeze\" repeatCount=\"indefinite\"/> <animate attributeName=\"fill\" values=\"none;#C00000;#C00000;#C00000;#C00000\" keyTimes=\"0; 0.00001; 0.5; 0.50001; 1\" dur=\"4.0s\" begin=\"0s\" fill=\"freeze\" repeatCount=\"indefinite\"/></rect></g>\n",
       "<g transform=\"rotate(180, 157.125, 623.0) \"> <rect id=\"buffer3_3\" class=\"aie_tile_buffers\" x=\"154.25\" y=\"623.0\" height=\"46.0\" width=\"5.75\" style=\"stroke:none; fill:none\"> <animate attributeName=\"height\" values=\"0;46.0;0\" keyTimes=\"0;0.5;1\" dur=\"4.0s\" begin=\"0s\" fill=\"freeze\" repeatCount=\"indefinite\"/> <animate attributeName=\"fill\" values=\"none;#C00000;#C00000;#C00000;#C00000\" keyTimes=\"0; 0.00001; 0.5; 0.50001; 1\" dur=\"4.0s\" begin=\"0s\" fill=\"freeze\" repeatCount=\"indefinite\"/></rect></g>\n",
       "<g transform=\"rotate(180, 80.3125, 783.0) \"> <rect id=\"buffer4_0\" class=\"mem_tile_buffers\" x=\"77.0\" y=\"783.0\" height=\"46.0\" width=\"6.625\" style=\"stroke:none; fill:none\"> <animate attributeName=\"height\" values=\"46.0;0;46.0\" keyTimes=\"0;0.5;1\" dur=\"4.0s\" begin=\"0.0s\" fill=\"freeze\" repeatCount=\"indefinite\"/> <animate attributeName=\"fill\" values=\"none;#C36D6D;#C36D6D;#009E73;#009E73\" keyTimes=\"0; 0.00001; 0.5; 0.50001; 1\" dur=\"4.0s\" begin=\"0.0s\" fill=\"freeze\" repeatCount=\"indefinite\"/></rect></g>\n",
       "<g transform=\"rotate(180, 86.9375, 783.0) \"> <rect id=\"buffer4_1\" class=\"mem_tile_buffers\" x=\"83.625\" y=\"783.0\" height=\"46.0\" width=\"6.625\" style=\"stroke:none; fill:none\"> <animate attributeName=\"height\" values=\"46.0;0;46.0\" keyTimes=\"0;0.5;1\" dur=\"4.0s\" begin=\"0.2s\" fill=\"freeze\" repeatCount=\"indefinite\"/> <animate attributeName=\"fill\" values=\"none;#B2D4E8;#B2D4E8;#009E73;#009E73\" keyTimes=\"0; 0.00001; 0.5; 0.50001; 1\" dur=\"4.0s\" begin=\"0.2s\" fill=\"freeze\" repeatCount=\"indefinite\"/></rect></g>\n",
       "<g transform=\"rotate(180, 93.5625, 783.0) \"> <rect id=\"buffer4_2\" class=\"mem_tile_buffers\" x=\"90.25\" y=\"783.0\" height=\"46.0\" width=\"6.625\" style=\"stroke:none; fill:none\"> <animate attributeName=\"height\" values=\"46.0;0;46.0\" keyTimes=\"0;0.5;1\" dur=\"4.0s\" begin=\"0.4s\" fill=\"freeze\" repeatCount=\"indefinite\"/> <animate attributeName=\"fill\" values=\"none;#E69F00;#E69F00;#009E73;#009E73\" keyTimes=\"0; 0.00001; 0.5; 0.50001; 1\" dur=\"4.0s\" begin=\"0.4s\" fill=\"freeze\" repeatCount=\"indefinite\"/></rect></g>\n",
       "<g transform=\"rotate(180, 100.1875, 783.0) \"> <rect id=\"buffer4_3\" class=\"mem_tile_buffers\" x=\"96.875\" y=\"783.0\" height=\"46.0\" width=\"6.625\" style=\"stroke:none; fill:none\"> <animate attributeName=\"height\" values=\"46.0;0;46.0\" keyTimes=\"0;0.5;1\" dur=\"4.0s\" begin=\"0.6s\" fill=\"freeze\" repeatCount=\"indefinite\"/> <animate attributeName=\"fill\" values=\"none;#E6BBD1;#E6BBD1;#009E73;#009E73\" keyTimes=\"0; 0.00001; 0.5; 0.50001; 1\" dur=\"4.0s\" begin=\"0.6s\" fill=\"freeze\" repeatCount=\"indefinite\"/></rect></g>\n",
       "<g transform=\"rotate(180, 106.8125, 783.0) \"> <rect id=\"buffer4_4\" class=\"mem_tile_buffers\" x=\"103.5\" y=\"783.0\" height=\"46.0\" width=\"6.625\" style=\"stroke:none; fill:none\"> <animate attributeName=\"height\" values=\"0;46.0;0\" keyTimes=\"0;0.5;1\" dur=\"4.0s\" begin=\"0.0s\" fill=\"freeze\" repeatCount=\"indefinite\"/> <animate attributeName=\"fill\" values=\"none;#009E73;#009E73;#C36D6D;#C36D6D\" keyTimes=\"0; 0.00001; 0.5; 0.50001; 1\" dur=\"4.0s\" begin=\"0.0s\" fill=\"freeze\" repeatCount=\"indefinite\"/></rect></g>\n",
       "<g transform=\"rotate(180, 113.4375, 783.0) \"> <rect id=\"buffer4_5\" class=\"mem_tile_buffers\" x=\"110.125\" y=\"783.0\" height=\"46.0\" width=\"6.625\" style=\"stroke:none; fill:none\"> <animate attributeName=\"height\" values=\"0;46.0;0\" keyTimes=\"0;0.5;1\" dur=\"4.0s\" begin=\"0.2s\" fill=\"freeze\" repeatCount=\"indefinite\"/> <animate attributeName=\"fill\" values=\"none;#009E73;#009E73;#B2D4E8;#B2D4E8\" keyTimes=\"0; 0.00001; 0.5; 0.50001; 1\" dur=\"4.0s\" begin=\"0.2s\" fill=\"freeze\" repeatCount=\"indefinite\"/></rect></g>\n",
       "<g transform=\"rotate(180, 120.0625, 783.0) \"> <rect id=\"buffer4_6\" class=\"mem_tile_buffers\" x=\"116.75\" y=\"783.0\" height=\"46.0\" width=\"6.625\" style=\"stroke:none; fill:none\"> <animate attributeName=\"height\" values=\"0;46.0;0\" keyTimes=\"0;0.5;1\" dur=\"4.0s\" begin=\"0.4s\" fill=\"freeze\" repeatCount=\"indefinite\"/> <animate attributeName=\"fill\" values=\"none;#009E73;#009E73;#E69F00;#E69F00\" keyTimes=\"0; 0.00001; 0.5; 0.50001; 1\" dur=\"4.0s\" begin=\"0.4s\" fill=\"freeze\" repeatCount=\"indefinite\"/></rect></g>\n",
       "<g transform=\"rotate(180, 126.6875, 783.0) \"> <rect id=\"buffer4_7\" class=\"mem_tile_buffers\" x=\"123.375\" y=\"783.0\" height=\"46.0\" width=\"6.625\" style=\"stroke:none; fill:none\"> <animate attributeName=\"height\" values=\"0;46.0;0\" keyTimes=\"0;0.5;1\" dur=\"4.0s\" begin=\"0.6s\" fill=\"freeze\" repeatCount=\"indefinite\"/> <animate attributeName=\"fill\" values=\"none;#009E73;#009E73;#E6BBD1;#E6BBD1\" keyTimes=\"0; 0.00001; 0.5; 0.50001; 1\" dur=\"4.0s\" begin=\"0.6s\" fill=\"freeze\" repeatCount=\"indefinite\"/></rect></g>\n",
       "<g transform=\"rotate(180, 133.3125, 783.0) \"> <rect id=\"buffer4_8\" class=\"mem_tile_buffers\" x=\"130.0\" y=\"783.0\" height=\"46.0\" width=\"6.625\" style=\"stroke:none; fill:none\"> <animate attributeName=\"height\" values=\"46.0;0;46.0\" keyTimes=\"0;0.5;1\" dur=\"4.0s\" begin=\"0.0s\" fill=\"freeze\" repeatCount=\"indefinite\"/> <animate attributeName=\"fill\" values=\"none;#4B0092;#4B0092;#C00000;#C00000\" keyTimes=\"0; 0.00001; 0.5; 0.50001; 1\" dur=\"4.0s\" begin=\"0.0s\" fill=\"freeze\" repeatCount=\"indefinite\"/></rect></g>\n",
       "<g transform=\"rotate(180, 139.9375, 783.0) \"> <rect id=\"buffer4_9\" class=\"mem_tile_buffers\" x=\"136.625\" y=\"783.0\" height=\"46.0\" width=\"6.625\" style=\"stroke:none; fill:none\"> <animate attributeName=\"height\" values=\"46.0;0;46.0\" keyTimes=\"0;0.5;1\" dur=\"4.0s\" begin=\"0.2s\" fill=\"freeze\" repeatCount=\"indefinite\"/> <animate attributeName=\"fill\" values=\"none;#4B0092;#4B0092;#0072B2;#0072B2\" keyTimes=\"0; 0.00001; 0.5; 0.50001; 1\" dur=\"4.0s\" begin=\"0.2s\" fill=\"freeze\" repeatCount=\"indefinite\"/></rect></g>\n",
       "<g transform=\"rotate(180, 146.5625, 783.0) \"> <rect id=\"buffer4_10\" class=\"mem_tile_buffers\" x=\"143.25\" y=\"783.0\" height=\"46.0\" width=\"6.625\" style=\"stroke:none; fill:none\"> <animate attributeName=\"height\" values=\"46.0;0;46.0\" keyTimes=\"0;0.5;1\" dur=\"4.0s\" begin=\"0.4s\" fill=\"freeze\" repeatCount=\"indefinite\"/> <animate attributeName=\"fill\" values=\"none;#4B0092;#4B0092;#F0E442;#F0E442\" keyTimes=\"0; 0.00001; 0.5; 0.50001; 1\" dur=\"4.0s\" begin=\"0.4s\" fill=\"freeze\" repeatCount=\"indefinite\"/></rect></g>\n",
       "<g transform=\"rotate(180, 153.1875, 783.0) \"> <rect id=\"buffer4_11\" class=\"mem_tile_buffers\" x=\"149.875\" y=\"783.0\" height=\"46.0\" width=\"6.625\" style=\"stroke:none; fill:none\"> <animate attributeName=\"height\" values=\"46.0;0;46.0\" keyTimes=\"0;0.5;1\" dur=\"4.0s\" begin=\"0.6s\" fill=\"freeze\" repeatCount=\"indefinite\"/> <animate attributeName=\"fill\" values=\"none;#4B0092;#4B0092;#DC267F;#DC267F\" keyTimes=\"0; 0.00001; 0.5; 0.50001; 1\" dur=\"4.0s\" begin=\"0.6s\" fill=\"freeze\" repeatCount=\"indefinite\"/></rect></g>\n",
       "<g transform=\"rotate(180, 159.8125, 783.0) \"> <rect id=\"buffer4_12\" class=\"mem_tile_buffers\" x=\"156.5\" y=\"783.0\" height=\"46.0\" width=\"6.625\" style=\"stroke:none; fill:none\"> <animate attributeName=\"height\" values=\"0;46.0;0\" keyTimes=\"0;0.5;1\" dur=\"4.0s\" begin=\"0.8s\" fill=\"freeze\" repeatCount=\"indefinite\"/> <animate attributeName=\"fill\" values=\"none;#C00000;#C00000;#4B0092;#4B0092\" keyTimes=\"0; 0.00001; 0.5; 0.50001; 1\" dur=\"4.0s\" begin=\"0.8s\" fill=\"freeze\" repeatCount=\"indefinite\"/></rect></g>\n",
       "<g transform=\"rotate(180, 166.4375, 783.0) \"> <rect id=\"buffer4_13\" class=\"mem_tile_buffers\" x=\"163.125\" y=\"783.0\" height=\"46.0\" width=\"6.625\" style=\"stroke:none; fill:none\"> <animate attributeName=\"height\" values=\"0;46.0;0\" keyTimes=\"0;0.5;1\" dur=\"4.0s\" begin=\"1.0s\" fill=\"freeze\" repeatCount=\"indefinite\"/> <animate attributeName=\"fill\" values=\"none;#0072B2;#0072B2;#4B0092;#4B0092\" keyTimes=\"0; 0.00001; 0.5; 0.50001; 1\" dur=\"4.0s\" begin=\"1.0s\" fill=\"freeze\" repeatCount=\"indefinite\"/></rect></g>\n",
       "<g transform=\"rotate(180, 173.0625, 783.0) \"> <rect id=\"buffer4_14\" class=\"mem_tile_buffers\" x=\"169.75\" y=\"783.0\" height=\"46.0\" width=\"6.625\" style=\"stroke:none; fill:none\"> <animate attributeName=\"height\" values=\"0;46.0;0\" keyTimes=\"0;0.5;1\" dur=\"4.0s\" begin=\"1.2s\" fill=\"freeze\" repeatCount=\"indefinite\"/> <animate attributeName=\"fill\" values=\"none;#F0E442;#F0E442;#4B0092;#4B0092\" keyTimes=\"0; 0.00001; 0.5; 0.50001; 1\" dur=\"4.0s\" begin=\"1.2s\" fill=\"freeze\" repeatCount=\"indefinite\"/></rect></g>\n",
       "<g transform=\"rotate(180, 179.6875, 783.0) \"> <rect id=\"buffer4_15\" class=\"mem_tile_buffers\" x=\"176.375\" y=\"783.0\" height=\"46.0\" width=\"6.625\" style=\"stroke:none; fill:none\"> <animate attributeName=\"height\" values=\"0;46.0;0\" keyTimes=\"0;0.5;1\" dur=\"4.0s\" begin=\"1.4s\" fill=\"freeze\" repeatCount=\"indefinite\"/> <animate attributeName=\"fill\" values=\"none;#DC267F;#DC267F;#4B0092;#4B0092\" keyTimes=\"0; 0.00001; 0.5; 0.50001; 1\" dur=\"4.0s\" begin=\"1.4s\" fill=\"freeze\" repeatCount=\"indefinite\"/></rect></g>\n",
       "<linearGradient id=\"kernel_1001\" gradientTransform=\"rotate(90)\"> <stop offset=\"0%\" stop-color=\"white\"/> <stop offset=\"10%\" stop-color=\"#C00000\"/> </linearGradient> <circle id=\"kernel_circle_1001\" class=\"kernel\" cx=\"260.0\" cy=\"940.0\" r=\"20\" fill=\"url(#kernel_1001)\" stroke=\"black\" stroke-width=\"1\" stroke-dasharray=\"5, 5\"> <animateTransform attributeName=\"transform\" type=\"rotate\" from=\"0 260.0 940.0\" to=\"360 260.0 940.0\" dur=\"0s\" begin=\"0s\" repeatCount=\"indefinite\"/> </circle> \n",
       "<text class=\"text\" x=\"288\" y=\"945.0\">vector_add_1buf_0</text><linearGradient id=\"kernel_1002\" gradientTransform=\"rotate(90)\"> <stop offset=\"0%\" stop-color=\"white\"/> <stop offset=\"10%\" stop-color=\"#0072B2\"/> </linearGradient> <circle id=\"kernel_circle_1002\" class=\"kernel\" cx=\"260.0\" cy=\"890.0\" r=\"20\" fill=\"url(#kernel_1002)\" stroke=\"black\" stroke-width=\"1\" stroke-dasharray=\"5, 5\"> <animateTransform attributeName=\"transform\" type=\"rotate\" from=\"0 260.0 890.0\" to=\"360 260.0 890.0\" dur=\"0s\" begin=\"0s\" repeatCount=\"indefinite\"/> </circle> \n",
       "<text class=\"text\" x=\"288\" y=\"895.0\">vector_add_1buf_1</text><linearGradient id=\"kernel_1003\" gradientTransform=\"rotate(90)\"> <stop offset=\"0%\" stop-color=\"white\"/> <stop offset=\"10%\" stop-color=\"#F0E442\"/> </linearGradient> <circle id=\"kernel_circle_1003\" class=\"kernel\" cx=\"260.0\" cy=\"840.0\" r=\"20\" fill=\"url(#kernel_1003)\" stroke=\"black\" stroke-width=\"1\" stroke-dasharray=\"5, 5\"> <animateTransform attributeName=\"transform\" type=\"rotate\" from=\"0 260.0 840.0\" to=\"360 260.0 840.0\" dur=\"0s\" begin=\"0s\" repeatCount=\"indefinite\"/> </circle> \n",
       "<text class=\"text\" x=\"288\" y=\"845.0\">vector_add_1buf_2</text><linearGradient id=\"kernel_1004\" gradientTransform=\"rotate(90)\"> <stop offset=\"0%\" stop-color=\"white\"/> <stop offset=\"10%\" stop-color=\"#DC267F\"/> </linearGradient> <circle id=\"kernel_circle_1004\" class=\"kernel\" cx=\"260.0\" cy=\"790.0\" r=\"20\" fill=\"url(#kernel_1004)\" stroke=\"black\" stroke-width=\"1\" stroke-dasharray=\"5, 5\"> <animateTransform attributeName=\"transform\" type=\"rotate\" from=\"0 260.0 790.0\" to=\"360 260.0 790.0\" dur=\"0s\" begin=\"0s\" repeatCount=\"indefinite\"/> </circle> \n",
       "<text class=\"text\" x=\"288\" y=\"795.0\">vector_add_1buf_3</text></g></svg>"
      ],
      "text/plain": [
       "<IPython.core.display.SVG object>"
      ]
     },
     "metadata": {},
     "output_type": "display_data"
    }
   ],
   "source": [
    "app_builder = SimpleApplication()\n",
    "\n",
    "x_in = np.zeros(shape=(vector_size*2), dtype=np.uint8)\n",
    "x_out = np.zeros(shape=(vector_size), dtype=np.uint8)\n",
    "\n",
    "app_builder(x_in, x_out)\n",
    "\n",
    "app_builder.display()\n",
    "app_builder.save()"
   ]
  },
  {
   "cell_type": "markdown",
   "id": "5922a706-b52b-4054-88d7-b1e3a5cb1198",
   "metadata": {},
   "source": [
    "Build the app"
   ]
  },
  {
   "cell_type": "code",
   "execution_count": 5,
   "id": "3334b901-2d34-45f3-9acb-3652ac416b42",
   "metadata": {
    "execution": {
     "iopub.execute_input": "2024-04-28T10:36:24.559098Z",
     "iopub.status.busy": "2024-04-28T10:36:24.559098Z",
     "iopub.status.idle": "2024-04-28T10:36:54.686041Z",
     "shell.execute_reply": "2024-04-28T10:36:54.686041Z",
     "shell.execute_reply.started": "2024-04-28T10:36:24.559098Z"
    }
   },
   "outputs": [
    {
     "name": "stdout",
     "output_type": "stream",
     "text": [
      "Using cached vector_add_1buf kernel object file...\n",
      "Building the xclbin...\n",
      "Successfully Building Application... SimpleApplication.xclbin & SimpleApplication.seq delivered\n"
     ]
    }
   ],
   "source": [
    "app_builder.build(x_in, x_out)"
   ]
  },
  {
   "cell_type": "code",
   "execution_count": 6,
   "id": "9711ac51-54ff-4b60-a864-281be2095881",
   "metadata": {
    "execution": {
     "iopub.execute_input": "2024-04-28T10:36:54.687339Z",
     "iopub.status.busy": "2024-04-28T10:36:54.687339Z",
     "iopub.status.idle": "2024-04-28T10:36:54.701613Z",
     "shell.execute_reply": "2024-04-28T10:36:54.701613Z",
     "shell.execute_reply.started": "2024-04-28T10:36:54.687339Z"
    }
   },
   "outputs": [
    {
     "data": {
      "application/json": {
       "application": "SimpleApplication",
       "connections": {
        "itbuffer_0___ITout___mtbuffer_0___MTin": {
         "ctype": null,
         "dtype": "uint8 *",
         "name": "itbuffer_0___ITout___mtbuffer_0___MTin",
         "sinkkernel": "mtbuffer_0",
         "sinkport": "MTin",
         "srckernel": "itbuffer_0",
         "srcport": "ITout"
        },
        "mtbuffer_0___MTout___vector_add_1buf_0___in_buffer": {
         "ctype": null,
         "dtype": "uint8 *",
         "name": "mtbuffer_0___MTout___vector_add_1buf_0___in_buffer",
         "sinkkernel": "vector_add_1buf_0",
         "sinkport": "in_buffer",
         "srckernel": "mtbuffer_0",
         "srcport": "MTout"
        },
        "mtbuffer_0___MTout___vector_add_1buf_1___in_buffer": {
         "ctype": null,
         "dtype": "uint8 *",
         "name": "mtbuffer_0___MTout___vector_add_1buf_1___in_buffer",
         "sinkkernel": "vector_add_1buf_1",
         "sinkport": "in_buffer",
         "srckernel": "mtbuffer_0",
         "srcport": "MTout"
        },
        "mtbuffer_0___MTout___vector_add_1buf_2___in_buffer": {
         "ctype": null,
         "dtype": "uint8 *",
         "name": "mtbuffer_0___MTout___vector_add_1buf_2___in_buffer",
         "sinkkernel": "vector_add_1buf_2",
         "sinkport": "in_buffer",
         "srckernel": "mtbuffer_0",
         "srcport": "MTout"
        },
        "mtbuffer_0___MTout___vector_add_1buf_3___in_buffer": {
         "ctype": null,
         "dtype": "uint8 *",
         "name": "mtbuffer_0___MTout___vector_add_1buf_3___in_buffer",
         "sinkkernel": "vector_add_1buf_3",
         "sinkport": "in_buffer",
         "srckernel": "mtbuffer_0",
         "srcport": "MTout"
        },
        "mtbuffer_1___MTout___itbuffer_1___ITin": {
         "ctype": null,
         "dtype": "uint8 *",
         "name": "mtbuffer_1___MTout___itbuffer_1___ITin",
         "sinkkernel": "itbuffer_1",
         "sinkport": "ITin",
         "srckernel": "mtbuffer_1",
         "srcport": "MTout"
        },
        "user___write___vector_add_1buf_0___nbytes": {
         "ctype": null,
         "dtype": "<npu.build.userspace.UserspaceRTP object at 0x00000190F91F8EB0>",
         "name": "user___write___vector_add_1buf_0___nbytes",
         "sinkkernel": "vector_add_1buf_0",
         "sinkport": "nbytes",
         "srckernel": "user",
         "srcport": "write"
        },
        "user___write___vector_add_1buf_1___nbytes": {
         "ctype": null,
         "dtype": "<npu.build.userspace.UserspaceRTP object at 0x00000190F91FB040>",
         "name": "user___write___vector_add_1buf_1___nbytes",
         "sinkkernel": "vector_add_1buf_1",
         "sinkport": "nbytes",
         "srckernel": "user",
         "srcport": "write"
        },
        "user___write___vector_add_1buf_2___nbytes": {
         "ctype": null,
         "dtype": "<npu.build.userspace.UserspaceRTP object at 0x00000190F91FB100>",
         "name": "user___write___vector_add_1buf_2___nbytes",
         "sinkkernel": "vector_add_1buf_2",
         "sinkport": "nbytes",
         "srckernel": "user",
         "srcport": "write"
        },
        "user___write___vector_add_1buf_3___nbytes": {
         "ctype": null,
         "dtype": "<npu.build.userspace.UserspaceRTP object at 0x00000190F91FB190>",
         "name": "user___write___vector_add_1buf_3___nbytes",
         "sinkkernel": "vector_add_1buf_3",
         "sinkport": "nbytes",
         "srckernel": "user",
         "srcport": "write"
        },
        "vector_add_1buf_0___out_buffer___mtbuffer_1___MTin": {
         "ctype": null,
         "dtype": "uint8_t *",
         "name": "vector_add_1buf_0___out_buffer___mtbuffer_1___MTin",
         "sinkkernel": "mtbuffer_1",
         "sinkport": "MTin",
         "srckernel": "vector_add_1buf_0",
         "srcport": "out_buffer"
        },
        "vector_add_1buf_1___out_buffer___mtbuffer_1___MTin": {
         "ctype": null,
         "dtype": "uint8_t *",
         "name": "vector_add_1buf_1___out_buffer___mtbuffer_1___MTin",
         "sinkkernel": "mtbuffer_1",
         "sinkport": "MTin",
         "srckernel": "vector_add_1buf_1",
         "srcport": "out_buffer"
        },
        "vector_add_1buf_2___out_buffer___mtbuffer_1___MTin": {
         "ctype": null,
         "dtype": "uint8_t *",
         "name": "vector_add_1buf_2___out_buffer___mtbuffer_1___MTin",
         "sinkkernel": "mtbuffer_1",
         "sinkport": "MTin",
         "srckernel": "vector_add_1buf_2",
         "srcport": "out_buffer"
        },
        "vector_add_1buf_3___out_buffer___mtbuffer_1___MTin": {
         "ctype": null,
         "dtype": "uint8_t *",
         "name": "vector_add_1buf_3___out_buffer___mtbuffer_1___MTin",
         "sinkkernel": "mtbuffer_1",
         "sinkport": "MTin",
         "srckernel": "vector_add_1buf_3",
         "srcport": "out_buffer"
        }
       },
       "kernels": {
        "itbuffer_0": {
         "dtype": "uint8",
         "ktype": "buffer",
         "name": "itbuffer_0",
         "ports": {
          "ITin": {
           "c_dtype": null,
           "ctype": null,
           "direction": "in",
           "dtype": "uint8",
           "name": "ITin",
           "shape": [
            256
           ]
          },
          "ITout": {
           "c_dtype": null,
           "ctype": null,
           "direction": "out",
           "dtype": "uint8",
           "name": "ITout",
           "shape": [
            256
           ]
          }
         },
         "shape": [
          256
         ],
         "tloc": null,
         "ttype": "IT",
         "type": "IT"
        },
        "itbuffer_1": {
         "dtype": "uint8",
         "ktype": "buffer",
         "name": "itbuffer_1",
         "ports": {
          "ITin": {
           "c_dtype": null,
           "ctype": null,
           "direction": "in",
           "dtype": "uint8",
           "name": "ITin",
           "shape": [
            128
           ]
          },
          "ITout": {
           "c_dtype": null,
           "ctype": null,
           "direction": "out",
           "dtype": "uint8",
           "name": "ITout",
           "shape": [
            128
           ]
          }
         },
         "shape": [
          128
         ],
         "tloc": null,
         "ttype": "IT",
         "type": "IT"
        },
        "mtbuffer_0": {
         "dtype": "uint8",
         "ktype": "buffer",
         "mtmode": "split",
         "name": "mtbuffer_0",
         "ports": {
          "MTin": {
           "c_dtype": null,
           "ctype": null,
           "direction": "in",
           "dtype": "uint8",
           "name": "MTin",
           "shape": [
            256
           ]
          },
          "MTout": {
           "c_dtype": null,
           "ctype": null,
           "direction": "out",
           "dtype": "uint8",
           "name": "MTout",
           "shape": [
            64
           ]
          }
         },
         "shape": [
          256
         ],
         "tloc": null,
         "ttype": "MT",
         "type": "MT"
        },
        "mtbuffer_1": {
         "dtype": "uint8",
         "ktype": "buffer",
         "mtmode": "concat",
         "name": "mtbuffer_1",
         "ports": {
          "MTin": {
           "c_dtype": null,
           "ctype": null,
           "direction": "in",
           "dtype": "uint8",
           "name": "MTin",
           "shape": [
            32
           ]
          },
          "MTout": {
           "c_dtype": null,
           "ctype": null,
           "direction": "out",
           "dtype": "uint8",
           "name": "MTout",
           "shape": [
            128
           ]
          }
         },
         "shape": [
          128
         ],
         "tloc": null,
         "ttype": "MT",
         "type": "MT"
        },
        "vector_add_1buf_0": {
         "ktype": "vector_add_1buf",
         "name": "vector_add_1buf_0",
         "ports": {
          "in_buffer": {
           "c_dtype": null,
           "ctype": null,
           "direction": "in",
           "dtype": "uint8",
           "name": "in_buffer",
           "shape": [
            64
           ]
          },
          "nbytes": {
           "c_dtype": "uint32_t",
           "ctype": "rtp",
           "direction": "in",
           "name": "nbytes",
           "value": 32
          },
          "out_buffer": {
           "c_dtype": null,
           "ctype": null,
           "direction": "out",
           "dtype": "uint8",
           "name": "out_buffer",
           "shape": [
            32
           ]
          }
         },
         "tloc": [
          0,
          2
         ],
         "ttype": "CT",
         "type": "CT"
        },
        "vector_add_1buf_1": {
         "ktype": "vector_add_1buf",
         "name": "vector_add_1buf_1",
         "ports": {
          "in_buffer": {
           "c_dtype": null,
           "ctype": null,
           "direction": "in",
           "dtype": "uint8",
           "name": "in_buffer",
           "shape": [
            64
           ]
          },
          "nbytes": {
           "c_dtype": "uint32_t",
           "ctype": "rtp",
           "direction": "in",
           "name": "nbytes",
           "value": 32
          },
          "out_buffer": {
           "c_dtype": null,
           "ctype": null,
           "direction": "out",
           "dtype": "uint8",
           "name": "out_buffer",
           "shape": [
            32
           ]
          }
         },
         "tloc": [
          0,
          3
         ],
         "ttype": "CT",
         "type": "CT"
        },
        "vector_add_1buf_2": {
         "ktype": "vector_add_1buf",
         "name": "vector_add_1buf_2",
         "ports": {
          "in_buffer": {
           "c_dtype": null,
           "ctype": null,
           "direction": "in",
           "dtype": "uint8",
           "name": "in_buffer",
           "shape": [
            64
           ]
          },
          "nbytes": {
           "c_dtype": "uint32_t",
           "ctype": "rtp",
           "direction": "in",
           "name": "nbytes",
           "value": 32
          },
          "out_buffer": {
           "c_dtype": null,
           "ctype": null,
           "direction": "out",
           "dtype": "uint8",
           "name": "out_buffer",
           "shape": [
            32
           ]
          }
         },
         "tloc": [
          0,
          4
         ],
         "ttype": "CT",
         "type": "CT"
        },
        "vector_add_1buf_3": {
         "ktype": "vector_add_1buf",
         "name": "vector_add_1buf_3",
         "ports": {
          "in_buffer": {
           "c_dtype": null,
           "ctype": null,
           "direction": "in",
           "dtype": "uint8",
           "name": "in_buffer",
           "shape": [
            64
           ]
          },
          "nbytes": {
           "c_dtype": "uint32_t",
           "ctype": "rtp",
           "direction": "in",
           "name": "nbytes",
           "value": 32
          },
          "out_buffer": {
           "c_dtype": null,
           "ctype": null,
           "direction": "out",
           "dtype": "uint8",
           "name": "out_buffer",
           "shape": [
            32
           ]
          }
         },
         "tloc": [
          0,
          5
         ],
         "ttype": "CT",
         "type": "CT"
        }
       },
       "sequence": [
        {
         "name": "itbuffer_0___ITout___mtbuffer_0___MTin",
         "nbytes": 256,
         "offset": 0,
         "seqtype": "buffer",
         "snkdtype": "uint8 *",
         "snkkernelname": "mtbuffer_0",
         "snknbytes": 256,
         "snkoffset": 0,
         "snkportname": "MTin",
         "snkshape": [
          256
         ],
         "snkslices": [],
         "srcdtype": "uint8 *",
         "srckernelname": "itbuffer_0",
         "srcnbytes": 256,
         "srcoffset": 0,
         "srcportname": "ITout",
         "srcshape": [
          256
         ],
         "srcslices": []
        },
        {
         "name": "mtbuffer_0___MTout___vector_add_1buf_0___in_buffer",
         "nbytes": 64,
         "offset": 0,
         "seqtype": "buffer",
         "snkdtype": "uint8_t *",
         "snkkernelname": "vector_add_1buf_0",
         "snknbytes": 64,
         "snkoffset": 0,
         "snkportname": "in_buffer",
         "snkshape": [
          64
         ],
         "snkslices": [],
         "srcdtype": "uint8 *",
         "srckernelname": "mtbuffer_0",
         "srcnbytes": 64,
         "srcoffset": 0,
         "srcportname": "MTout",
         "srcshape": [
          64
         ],
         "srcslices": [
          "slice(0, 64, None)"
         ]
        },
        {
         "name": "user___write___vector_add_1buf_0___nbytes",
         "seqtype": "rtp",
         "snkkernelname": "vector_add_1buf_0",
         "snkportname": "nbytes",
         "srckernelname": "user",
         "srcportname": "write",
         "value": 32
        },
        {
         "name": "mtbuffer_0___MTout___vector_add_1buf_1___in_buffer",
         "nbytes": 64,
         "offset": 64,
         "seqtype": "buffer",
         "snkdtype": "uint8_t *",
         "snkkernelname": "vector_add_1buf_1",
         "snknbytes": 64,
         "snkoffset": 0,
         "snkportname": "in_buffer",
         "snkshape": [
          64
         ],
         "snkslices": [],
         "srcdtype": "uint8 *",
         "srckernelname": "mtbuffer_0",
         "srcnbytes": 64,
         "srcoffset": 64,
         "srcportname": "MTout",
         "srcshape": [
          64
         ],
         "srcslices": [
          "slice(64, 128, None)"
         ]
        },
        {
         "name": "user___write___vector_add_1buf_1___nbytes",
         "seqtype": "rtp",
         "snkkernelname": "vector_add_1buf_1",
         "snkportname": "nbytes",
         "srckernelname": "user",
         "srcportname": "write",
         "value": 32
        },
        {
         "name": "mtbuffer_0___MTout___vector_add_1buf_2___in_buffer",
         "nbytes": 64,
         "offset": 128,
         "seqtype": "buffer",
         "snkdtype": "uint8_t *",
         "snkkernelname": "vector_add_1buf_2",
         "snknbytes": 64,
         "snkoffset": 0,
         "snkportname": "in_buffer",
         "snkshape": [
          64
         ],
         "snkslices": [],
         "srcdtype": "uint8 *",
         "srckernelname": "mtbuffer_0",
         "srcnbytes": 64,
         "srcoffset": 128,
         "srcportname": "MTout",
         "srcshape": [
          64
         ],
         "srcslices": [
          "slice(128, 192, None)"
         ]
        },
        {
         "name": "user___write___vector_add_1buf_2___nbytes",
         "seqtype": "rtp",
         "snkkernelname": "vector_add_1buf_2",
         "snkportname": "nbytes",
         "srckernelname": "user",
         "srcportname": "write",
         "value": 32
        },
        {
         "name": "mtbuffer_0___MTout___vector_add_1buf_3___in_buffer",
         "nbytes": 64,
         "offset": 192,
         "seqtype": "buffer",
         "snkdtype": "uint8_t *",
         "snkkernelname": "vector_add_1buf_3",
         "snknbytes": 64,
         "snkoffset": 0,
         "snkportname": "in_buffer",
         "snkshape": [
          64
         ],
         "snkslices": [],
         "srcdtype": "uint8 *",
         "srckernelname": "mtbuffer_0",
         "srcnbytes": 64,
         "srcoffset": 192,
         "srcportname": "MTout",
         "srcshape": [
          64
         ],
         "srcslices": [
          "slice(192, 256, None)"
         ]
        },
        {
         "name": "user___write___vector_add_1buf_3___nbytes",
         "seqtype": "rtp",
         "snkkernelname": "vector_add_1buf_3",
         "snkportname": "nbytes",
         "srckernelname": "user",
         "srcportname": "write",
         "value": 32
        },
        {
         "name": "vector_add_1buf_0___out_buffer___mtbuffer_1___MTin",
         "nbytes": 32,
         "offset": 0,
         "seqtype": "buffer",
         "snkdtype": "uint8 *",
         "snkkernelname": "mtbuffer_1",
         "snknbytes": 32,
         "snkoffset": 0,
         "snkportname": "MTin",
         "snkshape": [
          32
         ],
         "snkslices": [
          "slice(0, 32, None)"
         ],
         "srcdtype": "uint8_t *",
         "srckernelname": "vector_add_1buf_0",
         "srcnbytes": 32,
         "srcoffset": 0,
         "srcportname": "out_buffer",
         "srcshape": [
          32
         ],
         "srcslices": []
        },
        {
         "name": "vector_add_1buf_1___out_buffer___mtbuffer_1___MTin",
         "nbytes": 32,
         "offset": 0,
         "seqtype": "buffer",
         "snkdtype": "uint8 *",
         "snkkernelname": "mtbuffer_1",
         "snknbytes": 32,
         "snkoffset": 32,
         "snkportname": "MTin",
         "snkshape": [
          32
         ],
         "snkslices": [
          "slice(32, 64, None)"
         ],
         "srcdtype": "uint8_t *",
         "srckernelname": "vector_add_1buf_1",
         "srcnbytes": 32,
         "srcoffset": 0,
         "srcportname": "out_buffer",
         "srcshape": [
          32
         ],
         "srcslices": []
        },
        {
         "name": "vector_add_1buf_2___out_buffer___mtbuffer_1___MTin",
         "nbytes": 32,
         "offset": 0,
         "seqtype": "buffer",
         "snkdtype": "uint8 *",
         "snkkernelname": "mtbuffer_1",
         "snknbytes": 32,
         "snkoffset": 64,
         "snkportname": "MTin",
         "snkshape": [
          32
         ],
         "snkslices": [
          "slice(64, 96, None)"
         ],
         "srcdtype": "uint8_t *",
         "srckernelname": "vector_add_1buf_2",
         "srcnbytes": 32,
         "srcoffset": 0,
         "srcportname": "out_buffer",
         "srcshape": [
          32
         ],
         "srcslices": []
        },
        {
         "name": "vector_add_1buf_3___out_buffer___mtbuffer_1___MTin",
         "nbytes": 32,
         "offset": 0,
         "seqtype": "buffer",
         "snkdtype": "uint8 *",
         "snkkernelname": "mtbuffer_1",
         "snknbytes": 32,
         "snkoffset": 96,
         "snkportname": "MTin",
         "snkshape": [
          32
         ],
         "snkslices": [
          "slice(96, 128, None)"
         ],
         "srcdtype": "uint8_t *",
         "srckernelname": "vector_add_1buf_3",
         "srcnbytes": 32,
         "srcoffset": 0,
         "srcportname": "out_buffer",
         "srcshape": [
          32
         ],
         "srcslices": []
        },
        {
         "name": "mtbuffer_1___MTout___itbuffer_1___ITin",
         "nbytes": 128,
         "offset": 0,
         "seqtype": "buffer",
         "snkdtype": "uint8 *",
         "snkkernelname": "itbuffer_1",
         "snknbytes": 128,
         "snkoffset": 0,
         "snkportname": "ITin",
         "snkshape": [
          128
         ],
         "snkslices": [],
         "srcdtype": "uint8 *",
         "srckernelname": "mtbuffer_1",
         "srcnbytes": 128,
         "srcoffset": 0,
         "srcportname": "MTout",
         "srcshape": [
          128
         ],
         "srcslices": []
        }
       ]
      },
      "text/plain": [
       "{'application': 'SimpleApplication',\n",
       " 'kernels': OrderedDict([('itbuffer_0',\n",
       "               {'name': 'itbuffer_0',\n",
       "                'tloc': None,\n",
       "                'ttype': 'IT',\n",
       "                'ktype': 'buffer',\n",
       "                'type': 'IT',\n",
       "                'ports': {'ITin': {'c_dtype': None,\n",
       "                  'direction': 'in',\n",
       "                  'name': 'ITin',\n",
       "                  'ctype': None,\n",
       "                  'shape': (256,),\n",
       "                  'dtype': 'uint8'},\n",
       "                 'ITout': {'c_dtype': None,\n",
       "                  'direction': 'out',\n",
       "                  'name': 'ITout',\n",
       "                  'ctype': None,\n",
       "                  'shape': (256,),\n",
       "                  'dtype': 'uint8'}},\n",
       "                'shape': (256,),\n",
       "                'dtype': 'uint8'}),\n",
       "              ('itbuffer_1',\n",
       "               {'name': 'itbuffer_1',\n",
       "                'tloc': None,\n",
       "                'ttype': 'IT',\n",
       "                'ktype': 'buffer',\n",
       "                'type': 'IT',\n",
       "                'ports': {'ITin': {'c_dtype': None,\n",
       "                  'direction': 'in',\n",
       "                  'name': 'ITin',\n",
       "                  'ctype': None,\n",
       "                  'shape': (128,),\n",
       "                  'dtype': 'uint8'},\n",
       "                 'ITout': {'c_dtype': None,\n",
       "                  'direction': 'out',\n",
       "                  'name': 'ITout',\n",
       "                  'ctype': None,\n",
       "                  'shape': (128,),\n",
       "                  'dtype': 'uint8'}},\n",
       "                'shape': (128,),\n",
       "                'dtype': 'uint8'}),\n",
       "              ('mtbuffer_0',\n",
       "               {'name': 'mtbuffer_0',\n",
       "                'tloc': None,\n",
       "                'ttype': 'MT',\n",
       "                'ktype': 'buffer',\n",
       "                'type': 'MT',\n",
       "                'ports': {'MTin': {'c_dtype': None,\n",
       "                  'direction': 'in',\n",
       "                  'name': 'MTin',\n",
       "                  'ctype': None,\n",
       "                  'shape': (256,),\n",
       "                  'dtype': 'uint8'},\n",
       "                 'MTout': {'c_dtype': None,\n",
       "                  'direction': 'out',\n",
       "                  'name': 'MTout',\n",
       "                  'ctype': None,\n",
       "                  'shape': (64,),\n",
       "                  'dtype': 'uint8'}},\n",
       "                'shape': (256,),\n",
       "                'dtype': 'uint8',\n",
       "                'mtmode': 'split'}),\n",
       "              ('mtbuffer_1',\n",
       "               {'name': 'mtbuffer_1',\n",
       "                'tloc': None,\n",
       "                'ttype': 'MT',\n",
       "                'ktype': 'buffer',\n",
       "                'type': 'MT',\n",
       "                'ports': {'MTin': {'c_dtype': None,\n",
       "                  'direction': 'in',\n",
       "                  'name': 'MTin',\n",
       "                  'ctype': None,\n",
       "                  'shape': (32,),\n",
       "                  'dtype': 'uint8'},\n",
       "                 'MTout': {'c_dtype': None,\n",
       "                  'direction': 'out',\n",
       "                  'name': 'MTout',\n",
       "                  'ctype': None,\n",
       "                  'shape': (128,),\n",
       "                  'dtype': 'uint8'}},\n",
       "                'shape': (128,),\n",
       "                'dtype': 'uint8',\n",
       "                'mtmode': 'concat'}),\n",
       "              ('vector_add_1buf_0',\n",
       "               {'name': 'vector_add_1buf_0',\n",
       "                'tloc': (0, 2),\n",
       "                'ttype': 'CT',\n",
       "                'ktype': 'vector_add_1buf',\n",
       "                'type': 'CT',\n",
       "                'ports': {'in_buffer': {'c_dtype': None,\n",
       "                  'direction': 'in',\n",
       "                  'name': 'in_buffer',\n",
       "                  'ctype': None,\n",
       "                  'shape': (64,),\n",
       "                  'dtype': 'uint8'},\n",
       "                 'out_buffer': {'c_dtype': None,\n",
       "                  'direction': 'out',\n",
       "                  'name': 'out_buffer',\n",
       "                  'ctype': None,\n",
       "                  'shape': (32,),\n",
       "                  'dtype': 'uint8'},\n",
       "                 'nbytes': {'c_dtype': 'uint32_t',\n",
       "                  'direction': 'in',\n",
       "                  'name': 'nbytes',\n",
       "                  'ctype': 'rtp',\n",
       "                  'value': 32}}}),\n",
       "              ('vector_add_1buf_1',\n",
       "               {'name': 'vector_add_1buf_1',\n",
       "                'tloc': (0, 3),\n",
       "                'ttype': 'CT',\n",
       "                'ktype': 'vector_add_1buf',\n",
       "                'type': 'CT',\n",
       "                'ports': {'in_buffer': {'c_dtype': None,\n",
       "                  'direction': 'in',\n",
       "                  'name': 'in_buffer',\n",
       "                  'ctype': None,\n",
       "                  'shape': (64,),\n",
       "                  'dtype': 'uint8'},\n",
       "                 'out_buffer': {'c_dtype': None,\n",
       "                  'direction': 'out',\n",
       "                  'name': 'out_buffer',\n",
       "                  'ctype': None,\n",
       "                  'shape': (32,),\n",
       "                  'dtype': 'uint8'},\n",
       "                 'nbytes': {'c_dtype': 'uint32_t',\n",
       "                  'direction': 'in',\n",
       "                  'name': 'nbytes',\n",
       "                  'ctype': 'rtp',\n",
       "                  'value': 32}}}),\n",
       "              ('vector_add_1buf_2',\n",
       "               {'name': 'vector_add_1buf_2',\n",
       "                'tloc': (0, 4),\n",
       "                'ttype': 'CT',\n",
       "                'ktype': 'vector_add_1buf',\n",
       "                'type': 'CT',\n",
       "                'ports': {'in_buffer': {'c_dtype': None,\n",
       "                  'direction': 'in',\n",
       "                  'name': 'in_buffer',\n",
       "                  'ctype': None,\n",
       "                  'shape': (64,),\n",
       "                  'dtype': 'uint8'},\n",
       "                 'out_buffer': {'c_dtype': None,\n",
       "                  'direction': 'out',\n",
       "                  'name': 'out_buffer',\n",
       "                  'ctype': None,\n",
       "                  'shape': (32,),\n",
       "                  'dtype': 'uint8'},\n",
       "                 'nbytes': {'c_dtype': 'uint32_t',\n",
       "                  'direction': 'in',\n",
       "                  'name': 'nbytes',\n",
       "                  'ctype': 'rtp',\n",
       "                  'value': 32}}}),\n",
       "              ('vector_add_1buf_3',\n",
       "               {'name': 'vector_add_1buf_3',\n",
       "                'tloc': (0, 5),\n",
       "                'ttype': 'CT',\n",
       "                'ktype': 'vector_add_1buf',\n",
       "                'type': 'CT',\n",
       "                'ports': {'in_buffer': {'c_dtype': None,\n",
       "                  'direction': 'in',\n",
       "                  'name': 'in_buffer',\n",
       "                  'ctype': None,\n",
       "                  'shape': (64,),\n",
       "                  'dtype': 'uint8'},\n",
       "                 'out_buffer': {'c_dtype': None,\n",
       "                  'direction': 'out',\n",
       "                  'name': 'out_buffer',\n",
       "                  'ctype': None,\n",
       "                  'shape': (32,),\n",
       "                  'dtype': 'uint8'},\n",
       "                 'nbytes': {'c_dtype': 'uint32_t',\n",
       "                  'direction': 'in',\n",
       "                  'name': 'nbytes',\n",
       "                  'ctype': 'rtp',\n",
       "                  'value': 32}}})]),\n",
       " 'connections': OrderedDict([('itbuffer_0___ITout___mtbuffer_0___MTin',\n",
       "               {'name': 'itbuffer_0___ITout___mtbuffer_0___MTin',\n",
       "                'srckernel': 'itbuffer_0',\n",
       "                'srcport': 'ITout',\n",
       "                'sinkkernel': 'mtbuffer_0',\n",
       "                'sinkport': 'MTin',\n",
       "                'dtype': 'uint8 *',\n",
       "                'ctype': None}),\n",
       "              ('mtbuffer_0___MTout___vector_add_1buf_0___in_buffer',\n",
       "               {'name': 'mtbuffer_0___MTout___vector_add_1buf_0___in_buffer',\n",
       "                'srckernel': 'mtbuffer_0',\n",
       "                'srcport': 'MTout',\n",
       "                'sinkkernel': 'vector_add_1buf_0',\n",
       "                'sinkport': 'in_buffer',\n",
       "                'dtype': 'uint8 *',\n",
       "                'ctype': None}),\n",
       "              ('mtbuffer_0___MTout___vector_add_1buf_1___in_buffer',\n",
       "               {'name': 'mtbuffer_0___MTout___vector_add_1buf_1___in_buffer',\n",
       "                'srckernel': 'mtbuffer_0',\n",
       "                'srcport': 'MTout',\n",
       "                'sinkkernel': 'vector_add_1buf_1',\n",
       "                'sinkport': 'in_buffer',\n",
       "                'dtype': 'uint8 *',\n",
       "                'ctype': None}),\n",
       "              ('mtbuffer_0___MTout___vector_add_1buf_2___in_buffer',\n",
       "               {'name': 'mtbuffer_0___MTout___vector_add_1buf_2___in_buffer',\n",
       "                'srckernel': 'mtbuffer_0',\n",
       "                'srcport': 'MTout',\n",
       "                'sinkkernel': 'vector_add_1buf_2',\n",
       "                'sinkport': 'in_buffer',\n",
       "                'dtype': 'uint8 *',\n",
       "                'ctype': None}),\n",
       "              ('mtbuffer_0___MTout___vector_add_1buf_3___in_buffer',\n",
       "               {'name': 'mtbuffer_0___MTout___vector_add_1buf_3___in_buffer',\n",
       "                'srckernel': 'mtbuffer_0',\n",
       "                'srcport': 'MTout',\n",
       "                'sinkkernel': 'vector_add_1buf_3',\n",
       "                'sinkport': 'in_buffer',\n",
       "                'dtype': 'uint8 *',\n",
       "                'ctype': None}),\n",
       "              ('mtbuffer_1___MTout___itbuffer_1___ITin',\n",
       "               {'name': 'mtbuffer_1___MTout___itbuffer_1___ITin',\n",
       "                'srckernel': 'mtbuffer_1',\n",
       "                'srcport': 'MTout',\n",
       "                'sinkkernel': 'itbuffer_1',\n",
       "                'sinkport': 'ITin',\n",
       "                'dtype': 'uint8 *',\n",
       "                'ctype': None}),\n",
       "              ('user___write___vector_add_1buf_0___nbytes',\n",
       "               {'name': 'user___write___vector_add_1buf_0___nbytes',\n",
       "                'srckernel': 'user',\n",
       "                'srcport': 'write',\n",
       "                'sinkkernel': 'vector_add_1buf_0',\n",
       "                'sinkport': 'nbytes',\n",
       "                'dtype': <npu.build.userspace.UserspaceRTP at 0x190f91f8eb0>,\n",
       "                'ctype': None}),\n",
       "              ('user___write___vector_add_1buf_1___nbytes',\n",
       "               {'name': 'user___write___vector_add_1buf_1___nbytes',\n",
       "                'srckernel': 'user',\n",
       "                'srcport': 'write',\n",
       "                'sinkkernel': 'vector_add_1buf_1',\n",
       "                'sinkport': 'nbytes',\n",
       "                'dtype': <npu.build.userspace.UserspaceRTP at 0x190f91fb040>,\n",
       "                'ctype': None}),\n",
       "              ('user___write___vector_add_1buf_2___nbytes',\n",
       "               {'name': 'user___write___vector_add_1buf_2___nbytes',\n",
       "                'srckernel': 'user',\n",
       "                'srcport': 'write',\n",
       "                'sinkkernel': 'vector_add_1buf_2',\n",
       "                'sinkport': 'nbytes',\n",
       "                'dtype': <npu.build.userspace.UserspaceRTP at 0x190f91fb100>,\n",
       "                'ctype': None}),\n",
       "              ('user___write___vector_add_1buf_3___nbytes',\n",
       "               {'name': 'user___write___vector_add_1buf_3___nbytes',\n",
       "                'srckernel': 'user',\n",
       "                'srcport': 'write',\n",
       "                'sinkkernel': 'vector_add_1buf_3',\n",
       "                'sinkport': 'nbytes',\n",
       "                'dtype': <npu.build.userspace.UserspaceRTP at 0x190f91fb190>,\n",
       "                'ctype': None}),\n",
       "              ('vector_add_1buf_0___out_buffer___mtbuffer_1___MTin',\n",
       "               {'name': 'vector_add_1buf_0___out_buffer___mtbuffer_1___MTin',\n",
       "                'srckernel': 'vector_add_1buf_0',\n",
       "                'srcport': 'out_buffer',\n",
       "                'sinkkernel': 'mtbuffer_1',\n",
       "                'sinkport': 'MTin',\n",
       "                'dtype': 'uint8_t *',\n",
       "                'ctype': None}),\n",
       "              ('vector_add_1buf_1___out_buffer___mtbuffer_1___MTin',\n",
       "               {'name': 'vector_add_1buf_1___out_buffer___mtbuffer_1___MTin',\n",
       "                'srckernel': 'vector_add_1buf_1',\n",
       "                'srcport': 'out_buffer',\n",
       "                'sinkkernel': 'mtbuffer_1',\n",
       "                'sinkport': 'MTin',\n",
       "                'dtype': 'uint8_t *',\n",
       "                'ctype': None}),\n",
       "              ('vector_add_1buf_2___out_buffer___mtbuffer_1___MTin',\n",
       "               {'name': 'vector_add_1buf_2___out_buffer___mtbuffer_1___MTin',\n",
       "                'srckernel': 'vector_add_1buf_2',\n",
       "                'srcport': 'out_buffer',\n",
       "                'sinkkernel': 'mtbuffer_1',\n",
       "                'sinkport': 'MTin',\n",
       "                'dtype': 'uint8_t *',\n",
       "                'ctype': None}),\n",
       "              ('vector_add_1buf_3___out_buffer___mtbuffer_1___MTin',\n",
       "               {'name': 'vector_add_1buf_3___out_buffer___mtbuffer_1___MTin',\n",
       "                'srckernel': 'vector_add_1buf_3',\n",
       "                'srcport': 'out_buffer',\n",
       "                'sinkkernel': 'mtbuffer_1',\n",
       "                'sinkport': 'MTin',\n",
       "                'dtype': 'uint8_t *',\n",
       "                'ctype': None})]),\n",
       " 'sequence': [{'name': 'itbuffer_0___ITout___mtbuffer_0___MTin',\n",
       "   'seqtype': 'buffer',\n",
       "   'offset': 0,\n",
       "   'nbytes': 256,\n",
       "   'srckernelname': 'itbuffer_0',\n",
       "   'srcportname': 'ITout',\n",
       "   'srcdtype': 'uint8 *',\n",
       "   'srcslices': [],\n",
       "   'srcoffset': 0,\n",
       "   'srcnbytes': 256,\n",
       "   'srcshape': (256,),\n",
       "   'snkkernelname': 'mtbuffer_0',\n",
       "   'snkportname': 'MTin',\n",
       "   'snkdtype': 'uint8 *',\n",
       "   'snkslices': [],\n",
       "   'snkoffset': 0,\n",
       "   'snknbytes': 256,\n",
       "   'snkshape': (256,)},\n",
       "  {'name': 'mtbuffer_0___MTout___vector_add_1buf_0___in_buffer',\n",
       "   'seqtype': 'buffer',\n",
       "   'offset': 0,\n",
       "   'nbytes': 64,\n",
       "   'srckernelname': 'mtbuffer_0',\n",
       "   'srcportname': 'MTout',\n",
       "   'srcdtype': 'uint8 *',\n",
       "   'srcslices': [slice(0, 64, None)],\n",
       "   'srcoffset': 0,\n",
       "   'srcnbytes': 64,\n",
       "   'srcshape': (64,),\n",
       "   'snkkernelname': 'vector_add_1buf_0',\n",
       "   'snkportname': 'in_buffer',\n",
       "   'snkdtype': 'uint8_t *',\n",
       "   'snkslices': [],\n",
       "   'snkoffset': 0,\n",
       "   'snknbytes': 64,\n",
       "   'snkshape': (64,)},\n",
       "  {'name': 'user___write___vector_add_1buf_0___nbytes',\n",
       "   'seqtype': 'rtp',\n",
       "   'value': 32,\n",
       "   'srckernelname': 'user',\n",
       "   'srcportname': 'write',\n",
       "   'snkkernelname': 'vector_add_1buf_0',\n",
       "   'snkportname': 'nbytes'},\n",
       "  {'name': 'mtbuffer_0___MTout___vector_add_1buf_1___in_buffer',\n",
       "   'seqtype': 'buffer',\n",
       "   'offset': 64,\n",
       "   'nbytes': 64,\n",
       "   'srckernelname': 'mtbuffer_0',\n",
       "   'srcportname': 'MTout',\n",
       "   'srcdtype': 'uint8 *',\n",
       "   'srcslices': [slice(64, 128, None)],\n",
       "   'srcoffset': 64,\n",
       "   'srcnbytes': 64,\n",
       "   'srcshape': (64,),\n",
       "   'snkkernelname': 'vector_add_1buf_1',\n",
       "   'snkportname': 'in_buffer',\n",
       "   'snkdtype': 'uint8_t *',\n",
       "   'snkslices': [],\n",
       "   'snkoffset': 0,\n",
       "   'snknbytes': 64,\n",
       "   'snkshape': (64,)},\n",
       "  {'name': 'user___write___vector_add_1buf_1___nbytes',\n",
       "   'seqtype': 'rtp',\n",
       "   'value': 32,\n",
       "   'srckernelname': 'user',\n",
       "   'srcportname': 'write',\n",
       "   'snkkernelname': 'vector_add_1buf_1',\n",
       "   'snkportname': 'nbytes'},\n",
       "  {'name': 'mtbuffer_0___MTout___vector_add_1buf_2___in_buffer',\n",
       "   'seqtype': 'buffer',\n",
       "   'offset': 128,\n",
       "   'nbytes': 64,\n",
       "   'srckernelname': 'mtbuffer_0',\n",
       "   'srcportname': 'MTout',\n",
       "   'srcdtype': 'uint8 *',\n",
       "   'srcslices': [slice(128, 192, None)],\n",
       "   'srcoffset': 128,\n",
       "   'srcnbytes': 64,\n",
       "   'srcshape': (64,),\n",
       "   'snkkernelname': 'vector_add_1buf_2',\n",
       "   'snkportname': 'in_buffer',\n",
       "   'snkdtype': 'uint8_t *',\n",
       "   'snkslices': [],\n",
       "   'snkoffset': 0,\n",
       "   'snknbytes': 64,\n",
       "   'snkshape': (64,)},\n",
       "  {'name': 'user___write___vector_add_1buf_2___nbytes',\n",
       "   'seqtype': 'rtp',\n",
       "   'value': 32,\n",
       "   'srckernelname': 'user',\n",
       "   'srcportname': 'write',\n",
       "   'snkkernelname': 'vector_add_1buf_2',\n",
       "   'snkportname': 'nbytes'},\n",
       "  {'name': 'mtbuffer_0___MTout___vector_add_1buf_3___in_buffer',\n",
       "   'seqtype': 'buffer',\n",
       "   'offset': 192,\n",
       "   'nbytes': 64,\n",
       "   'srckernelname': 'mtbuffer_0',\n",
       "   'srcportname': 'MTout',\n",
       "   'srcdtype': 'uint8 *',\n",
       "   'srcslices': [slice(192, 256, None)],\n",
       "   'srcoffset': 192,\n",
       "   'srcnbytes': 64,\n",
       "   'srcshape': (64,),\n",
       "   'snkkernelname': 'vector_add_1buf_3',\n",
       "   'snkportname': 'in_buffer',\n",
       "   'snkdtype': 'uint8_t *',\n",
       "   'snkslices': [],\n",
       "   'snkoffset': 0,\n",
       "   'snknbytes': 64,\n",
       "   'snkshape': (64,)},\n",
       "  {'name': 'user___write___vector_add_1buf_3___nbytes',\n",
       "   'seqtype': 'rtp',\n",
       "   'value': 32,\n",
       "   'srckernelname': 'user',\n",
       "   'srcportname': 'write',\n",
       "   'snkkernelname': 'vector_add_1buf_3',\n",
       "   'snkportname': 'nbytes'},\n",
       "  {'name': 'vector_add_1buf_0___out_buffer___mtbuffer_1___MTin',\n",
       "   'seqtype': 'buffer',\n",
       "   'offset': 0,\n",
       "   'nbytes': 32,\n",
       "   'srckernelname': 'vector_add_1buf_0',\n",
       "   'srcportname': 'out_buffer',\n",
       "   'srcdtype': 'uint8_t *',\n",
       "   'srcslices': [],\n",
       "   'srcoffset': 0,\n",
       "   'srcnbytes': 32,\n",
       "   'srcshape': (32,),\n",
       "   'snkkernelname': 'mtbuffer_1',\n",
       "   'snkportname': 'MTin',\n",
       "   'snkdtype': 'uint8 *',\n",
       "   'snkslices': [slice(0, 32, None)],\n",
       "   'snkoffset': 0,\n",
       "   'snknbytes': 32,\n",
       "   'snkshape': (32,)},\n",
       "  {'name': 'vector_add_1buf_1___out_buffer___mtbuffer_1___MTin',\n",
       "   'seqtype': 'buffer',\n",
       "   'offset': 0,\n",
       "   'nbytes': 32,\n",
       "   'srckernelname': 'vector_add_1buf_1',\n",
       "   'srcportname': 'out_buffer',\n",
       "   'srcdtype': 'uint8_t *',\n",
       "   'srcslices': [],\n",
       "   'srcoffset': 0,\n",
       "   'srcnbytes': 32,\n",
       "   'srcshape': (32,),\n",
       "   'snkkernelname': 'mtbuffer_1',\n",
       "   'snkportname': 'MTin',\n",
       "   'snkdtype': 'uint8 *',\n",
       "   'snkslices': [slice(32, 64, None)],\n",
       "   'snkoffset': 32,\n",
       "   'snknbytes': 32,\n",
       "   'snkshape': (32,)},\n",
       "  {'name': 'vector_add_1buf_2___out_buffer___mtbuffer_1___MTin',\n",
       "   'seqtype': 'buffer',\n",
       "   'offset': 0,\n",
       "   'nbytes': 32,\n",
       "   'srckernelname': 'vector_add_1buf_2',\n",
       "   'srcportname': 'out_buffer',\n",
       "   'srcdtype': 'uint8_t *',\n",
       "   'srcslices': [],\n",
       "   'srcoffset': 0,\n",
       "   'srcnbytes': 32,\n",
       "   'srcshape': (32,),\n",
       "   'snkkernelname': 'mtbuffer_1',\n",
       "   'snkportname': 'MTin',\n",
       "   'snkdtype': 'uint8 *',\n",
       "   'snkslices': [slice(64, 96, None)],\n",
       "   'snkoffset': 64,\n",
       "   'snknbytes': 32,\n",
       "   'snkshape': (32,)},\n",
       "  {'name': 'vector_add_1buf_3___out_buffer___mtbuffer_1___MTin',\n",
       "   'seqtype': 'buffer',\n",
       "   'offset': 0,\n",
       "   'nbytes': 32,\n",
       "   'srckernelname': 'vector_add_1buf_3',\n",
       "   'srcportname': 'out_buffer',\n",
       "   'srcdtype': 'uint8_t *',\n",
       "   'srcslices': [],\n",
       "   'srcoffset': 0,\n",
       "   'srcnbytes': 32,\n",
       "   'srcshape': (32,),\n",
       "   'snkkernelname': 'mtbuffer_1',\n",
       "   'snkportname': 'MTin',\n",
       "   'snkdtype': 'uint8 *',\n",
       "   'snkslices': [slice(96, 128, None)],\n",
       "   'snkoffset': 96,\n",
       "   'snknbytes': 32,\n",
       "   'snkshape': (32,)},\n",
       "  {'name': 'mtbuffer_1___MTout___itbuffer_1___ITin',\n",
       "   'seqtype': 'buffer',\n",
       "   'offset': 0,\n",
       "   'nbytes': 128,\n",
       "   'srckernelname': 'mtbuffer_1',\n",
       "   'srcportname': 'MTout',\n",
       "   'srcdtype': 'uint8 *',\n",
       "   'srcslices': [],\n",
       "   'srcoffset': 0,\n",
       "   'srcnbytes': 128,\n",
       "   'srcshape': (128,),\n",
       "   'snkkernelname': 'itbuffer_1',\n",
       "   'snkportname': 'ITin',\n",
       "   'snkdtype': 'uint8 *',\n",
       "   'snkslices': [],\n",
       "   'snkoffset': 0,\n",
       "   'snknbytes': 128,\n",
       "   'snkshape': (128,)}]}"
      ]
     },
     "execution_count": 6,
     "metadata": {
      "application/json": {
       "expanded": false,
       "root": "SimpleApplication"
      }
     },
     "output_type": "execute_result"
    }
   ],
   "source": [
    "app_builder.metadata"
   ]
  },
  {
   "cell_type": "markdown",
   "id": "71df3dc9-18af-416d-8993-1b98ea5c5e60",
   "metadata": {},
   "source": [
    "Prep AppRunner and data"
   ]
  },
  {
   "cell_type": "code",
   "execution_count": 7,
   "id": "1bc21fda-cd0c-4626-bc4b-2deb02e1057c",
   "metadata": {
    "execution": {
     "iopub.execute_input": "2024-04-28T10:36:54.702613Z",
     "iopub.status.busy": "2024-04-28T10:36:54.702613Z",
     "iopub.status.idle": "2024-04-28T10:36:56.079425Z",
     "shell.execute_reply": "2024-04-28T10:36:56.079425Z",
     "shell.execute_reply.started": "2024-04-28T10:36:54.702613Z"
    }
   },
   "outputs": [],
   "source": [
    "from npu.runtime import AppRunner\n",
    "\n",
    "app = AppRunner('SimpleApplication.xclbin')\n",
    "\n",
    "# Allocate app input and output buffers to exchange data with NPU\n",
    "input_vector = app.allocate(shape=(vector_size*2))\n",
    "output_vector = app.allocate(shape=(vector_size))\n",
    "\n",
    "# Load data\n",
    "input_array = np.zeros(vector_size*2, dtype=np.uint8)\n",
    "slice_size = int(vector_size/4)\n",
    "for i in range(4):\n",
    "    for j in range(slice_size):\n",
    "        input_array[2*i*slice_size+j] = 1\n",
    "        input_array[(2*i+1)*slice_size+j] = 2\n",
    "\n",
    "input_vector[:] = input_array"
   ]
  },
  {
   "cell_type": "markdown",
   "id": "995ca8d0-7c25-4c20-a182-a293ecc01279",
   "metadata": {},
   "source": [
    "Run the application"
   ]
  },
  {
   "cell_type": "code",
   "execution_count": 8,
   "id": "67037943-caf8-4c5f-8ff8-806705e33ff4",
   "metadata": {
    "execution": {
     "iopub.execute_input": "2024-04-28T10:36:56.080874Z",
     "iopub.status.busy": "2024-04-28T10:36:56.080874Z",
     "iopub.status.idle": "2024-04-28T10:36:56.094691Z",
     "shell.execute_reply": "2024-04-28T10:36:56.094691Z",
     "shell.execute_reply.started": "2024-04-28T10:36:56.080874Z"
    }
   },
   "outputs": [],
   "source": [
    "# Pass input_vector buffer to NPU\n",
    "input_vector.sync_to_npu()\n",
    "\n",
    "# Run app on NPU\n",
    "app.call(input_vector, output_vector)\n",
    "\n",
    "# Get results from NPU via output_vector buffer \n",
    "output_vector.sync_from_npu()"
   ]
  },
  {
   "cell_type": "code",
   "execution_count": 9,
   "id": "a5f7310b-c937-4b5a-a82c-9e2f52c4902e",
   "metadata": {
    "execution": {
     "iopub.execute_input": "2024-04-28T10:36:56.097138Z",
     "iopub.status.busy": "2024-04-28T10:36:56.096131Z",
     "iopub.status.idle": "2024-04-28T10:36:56.111000Z",
     "shell.execute_reply": "2024-04-28T10:36:56.109999Z",
     "shell.execute_reply.started": "2024-04-28T10:36:56.097138Z"
    }
   },
   "outputs": [
    {
     "name": "stdout",
     "output_type": "stream",
     "text": [
      "[1 1 1 1 1 1 1 1 1 1 1 1 1 1 1 1 1 1 1 1 1 1 1 1 1 1 1 1 1 1 1 1 2 2 2 2 2\n",
      " 2 2 2 2 2 2 2 2 2 2 2 2 2 2 2 2 2 2 2 2 2 2 2 2 2 2 2 1 1 1 1 1 1 1 1 1 1\n",
      " 1 1 1 1 1 1 1 1 1 1 1 1 1 1 1 1 1 1 1 1 1 1 2 2 2 2 2 2 2 2 2 2 2 2 2 2 2\n",
      " 2 2 2 2 2 2 2 2 2 2 2 2 2 2 2 2 2 1 1 1 1 1 1 1 1 1 1 1 1 1 1 1 1 1 1 1 1\n",
      " 1 1 1 1 1 1 1 1 1 1 1 1 2 2 2 2 2 2 2 2 2 2 2 2 2 2 2 2 2 2 2 2 2 2 2 2 2\n",
      " 2 2 2 2 2 2 2 1 1 1 1 1 1 1 1 1 1 1 1 1 1 1 1 1 1 1 1 1 1 1 1 1 1 1 1 1 1\n",
      " 1 1 2 2 2 2 2 2 2 2 2 2 2 2 2 2 2 2 2 2 2 2 2 2 2 2 2 2 2 2 2 2 2 2]\n",
      "[3 3 3 3 3 3 3 3 3 3 3 3 3 3 3 3 3 3 3 3 3 3 3 3 3 3 3 3 3 3 3 3 3 3 3 3 3\n",
      " 3 3 3 3 3 3 3 3 3 3 3 3 3 3 3 3 3 3 3 3 3 3 3 3 3 3 3 3 3 3 3 3 3 3 3 3 3\n",
      " 3 3 3 3 3 3 3 3 3 3 3 3 3 3 3 3 3 3 3 3 3 3 3 3 3 3 3 3 3 3 3 3 3 3 3 3 3\n",
      " 3 3 3 3 3 3 3 3 3 3 3 3 3 3 3 3 3]\n"
     ]
    }
   ],
   "source": [
    "# Verify output\n",
    "print(input_vector)\n",
    "print(output_vector)"
   ]
  },
  {
   "cell_type": "code",
   "execution_count": 10,
   "id": "dc50383f-a25b-4454-8beb-7591ef317ab3",
   "metadata": {
    "execution": {
     "iopub.execute_input": "2024-04-28T10:36:56.112009Z",
     "iopub.status.busy": "2024-04-28T10:36:56.112009Z",
     "iopub.status.idle": "2024-04-28T10:36:56.157393Z",
     "shell.execute_reply": "2024-04-28T10:36:56.157393Z",
     "shell.execute_reply.started": "2024-04-28T10:36:56.112009Z"
    }
   },
   "outputs": [],
   "source": [
    "del app"
   ]
  },
  {
   "cell_type": "code",
   "execution_count": null,
   "id": "8b34f3d5-ea6d-47d1-a804-83735dedb041",
   "metadata": {},
   "outputs": [],
   "source": []
  }
 ],
 "metadata": {
  "kernelspec": {
   "display_name": "Python 3 (ipykernel)",
   "language": "python",
   "name": "python3"
  },
  "language_info": {
   "codemirror_mode": {
    "name": "ipython",
    "version": 3
   },
   "file_extension": ".py",
   "mimetype": "text/x-python",
   "name": "python",
   "nbconvert_exporter": "python",
   "pygments_lexer": "ipython3",
   "version": "3.9.2"
  }
 },
 "nbformat": 4,
 "nbformat_minor": 5
}
