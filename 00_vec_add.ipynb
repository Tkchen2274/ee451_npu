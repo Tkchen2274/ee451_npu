{
 "cells": [
  {
   "cell_type": "code",
   "execution_count": 1,
   "id": "35d60e14-d693-4382-a8cc-d57c663ea581",
   "metadata": {
    "execution": {
     "iopub.execute_input": "2024-04-23T20:11:53.078755Z",
     "iopub.status.busy": "2024-04-23T20:11:53.078755Z",
     "iopub.status.idle": "2024-04-23T20:11:54.564196Z",
     "shell.execute_reply": "2024-04-23T20:11:54.563215Z",
     "shell.execute_reply.started": "2024-04-23T20:11:53.078755Z"
    }
   },
   "outputs": [],
   "source": [
    "%%capture --no-display\n",
    "!pip install jupyterlab_execute_time"
   ]
  },
  {
   "cell_type": "code",
   "execution_count": 2,
   "id": "59a87a61-787c-4419-b5fd-2d0b4f05c50b",
   "metadata": {
    "execution": {
     "iopub.execute_input": "2024-04-23T20:11:54.565198Z",
     "iopub.status.busy": "2024-04-23T20:11:54.564196Z",
     "iopub.status.idle": "2024-04-23T20:11:55.650304Z",
     "shell.execute_reply": "2024-04-23T20:11:55.650304Z",
     "shell.execute_reply.started": "2024-04-23T20:11:54.565198Z"
    }
   },
   "outputs": [],
   "source": [
    "import npu\n",
    "\n",
    "# vector length; must be divisible by 4\n",
    "vector_size = 2**10"
   ]
  },
  {
   "cell_type": "markdown",
   "id": "0bc466d0-5f27-4f93-bc0d-7deaa39a4512",
   "metadata": {},
   "source": [
    "Create Kernel"
   ]
  },
  {
   "cell_type": "code",
   "execution_count": 3,
   "id": "7690c6a7-fddd-4171-a9e9-e1cfbae59aa7",
   "metadata": {
    "execution": {
     "iopub.execute_input": "2024-04-23T20:11:55.651304Z",
     "iopub.status.busy": "2024-04-23T20:11:55.651304Z",
     "iopub.status.idle": "2024-04-23T20:11:55.665770Z",
     "shell.execute_reply": "2024-04-23T20:11:55.665770Z",
     "shell.execute_reply.started": "2024-04-23T20:11:55.651304Z"
    }
   },
   "outputs": [],
   "source": [
    "%%kernel\n",
    "\n",
    "void vector_add(uint8_t *in1_buffer, uint8_t *in2_buffer, uint8_t *out_buffer, uint32_t nbytes)\n",
    "{\n",
    "    for(int i=0; i<nbytes; i++) {\n",
    "        out_buffer[i] = in1_buffer[i] + in2_buffer[i];\n",
    "    }\n",
    "}"
   ]
  },
  {
   "cell_type": "markdown",
   "id": "4fd761d6-9a93-40d0-a9ab-95ca9de95928",
   "metadata": {},
   "source": [
    "Create app builder"
   ]
  },
  {
   "cell_type": "code",
   "execution_count": 4,
   "id": "99a2826a-fa40-44e3-ad42-89890d8423b9",
   "metadata": {
    "execution": {
     "iopub.execute_input": "2024-04-23T20:11:55.666770Z",
     "iopub.status.busy": "2024-04-23T20:11:55.666770Z",
     "iopub.status.idle": "2024-04-23T20:11:55.682458Z",
     "shell.execute_reply": "2024-04-23T20:11:55.681955Z",
     "shell.execute_reply.started": "2024-04-23T20:11:55.666770Z"
    }
   },
   "outputs": [],
   "source": [
    "from npu.build.kernel import Kernel\n",
    "from npu.build.appbuilder import AppBuilder\n",
    "import numpy as np\n",
    "from npu.build.itkernel import ITWrite\n",
    "\n",
    "def _simple_behavioural(invobj):\n",
    "    invobj.out_buffer.array = invobj.in1_buffer.array\n",
    "\n",
    "class SimpleApplication(AppBuilder):\n",
    "\n",
    "    def __init__(self, kernel:Kernel):\n",
    "        self.kernel = kernel\n",
    "        self.kernel.behavioralfx = _simple_behavioural\n",
    "        super().__init__()\n",
    "\n",
    "    def callgraph(self, x_in1: np.ndarray, x_in2: np.ndarray, x_out: np.ndarray) -> None:\n",
    "        nbytes = x_in1.shape[0]\n",
    "        result = self.kernel(x_in1, x_in2, nbytes)\n",
    "        _ = ITWrite(result, bufref=x_out)"
   ]
  },
  {
   "cell_type": "code",
   "execution_count": 5,
   "id": "ece8cf7c-058f-4d3b-bc80-ba9325684742",
   "metadata": {
    "execution": {
     "iopub.execute_input": "2024-04-23T20:12:11.159997Z",
     "iopub.status.busy": "2024-04-23T20:12:11.159997Z",
     "iopub.status.idle": "2024-04-23T20:12:11.534664Z",
     "shell.execute_reply": "2024-04-23T20:12:11.534664Z",
     "shell.execute_reply.started": "2024-04-23T20:12:11.159997Z"
    }
   },
   "outputs": [
    {
     "data": {
      "image/svg+xml": [
       "<svg xmlns=\"http://www.w3.org/2000/svg\" xmlns:xlink=\"http://www.w3.org/1999/xlink\" id=\"svg\" version=\"1.1\" width=\"420\" height=\"980\" viewBox=\"0, 0, 420, 980\">\n",
       "            <defs>\n",
       "                <marker id=\"ic_startarrow\" markerWidth=\"10\" markerHeight=\"7\" refX=\"10\" refY=\"3.5\" orient=\"auto\">\n",
       "                <polygon points=\"0 0, 4 2, 0 4\" fill=\"black\"/>\n",
       "                </marker>\n",
       "                <marker id=\"ic_endarrow\" markerWidth=\"7\" markerHeight=\"4\" refX=\"0\" refY=\"2\" orient=\"auto\" markerUnits=\"strokeWidth\">\n",
       "                    <polygon points=\"0 0, 4 2, 0 4\" fill=\"black\"/>\n",
       "                </marker>\n",
       "\n",
       "                <marker id=\"red_startarrow\" markerWidth=\"10\" markerHeight=\"7\" refX=\"0\" refY=\"2\" orient=\"auto\">\n",
       "                <polygon points=\"0 2, 4 0, 4 4\" fill=\"red\"/>\n",
       "                </marker>\n",
       "                <marker id=\"red_endarrow\" markerWidth=\"7\" markerHeight=\"4\" refX=\"4\" refY=\"2\" orient=\"auto\" markerUnits=\"strokeWidth\">\n",
       "                    <polygon points=\"0 0, 4 2, 0 4\" fill=\"red\"/>\n",
       "                </marker>\n",
       "\n",
       "                <marker id=\"startarrow\" markerWidth=\"10\" markerHeight=\"7\" refX=\"10\" refY=\"3.5\" orient=\"auto\">\n",
       "                <polygon points=\"0 0, 4 2, 0 4\" fill=\"black\"/>\n",
       "                </marker>\n",
       "                <marker id=\"endarrow\" markerWidth=\"10\" markerHeight=\"7\" refX=\"0\" refY=\"3.5\" orient=\"auto\" markerUnits=\"strokeWidth\">\n",
       "                    <polygon points=\"0 0, 4 2, 0 4\" fill=\"black\"/>\n",
       "                </marker>\n",
       "            </defs>\n",
       "            <style>                .ic_animations {                     opacity: 0.8;                 }            </style>\n",
       "            <g id=\"svg\"><rect id=\"border\" class=\"border\" width=\"400\" height=\"960\" x=\"10.0\" y=\"10.0\" stroke=\"black\" stroke-width=\"1\" fill=\"white\"/>\n",
       "<g> <rect id=\"aie_tile0\" class=\"aie_tile\" width=\"180\" height=\"140\" x=\"20\" y=\"20\" stroke=\"black\" stroke-width=\"2\" fill=\"#C2E9FF\"/> </g>\n",
       "<g> <text id=\"text_aie_tile0\" class=\"aie_tile_text\" x=\"20\" y=\"20\" fill=\"\" font-family=\"Arial, Helvetica, sans-serif\"> <tspan x=\"110.0\" y=\"89.3\" dy=\"1em\" font-size=\"1\"> </tspan></text></g>\n",
       "<g> <rect id=\"interconnect_box0\" class=\"interconnect_box\" width=\"40\" height=\"40\" x=\"30\" y=\"30\" stroke=\"black\" stroke-width=\"1\" fill=\"#DBBCBD\"/> </g>\n",
       "<g> <text id=\"text_interconnect_box0\" class=\"interconnect_box_text\" x=\"30\" y=\"30\" fill=\"\" font-family=\"Arial, Helvetica, sans-serif\"> <tspan x=\"50.0\" y=\"49.3\" dy=\"1em\" font-size=\"1\"> </tspan></text></g>\n",
       "<line id=\"ic_h_line0_0\" class=\"interconnect\" x1=\"38.0\" y1=\"45.0\" x2=\"58.0\" y2=\"45.0\" stroke=\"black\" stroke-width=\"1\" fill=\"none\" marker-end=\"url(#ic_endarrow)\"/>\n",
       "<line id=\"ic_h_line0_1\" class=\"interconnect\" x1=\"62.0\" y1=\"55.0\" x2=\"42.0\" y2=\"55.0\" stroke=\"black\" stroke-width=\"1\" fill=\"none\" marker-end=\"url(#ic_endarrow)\"/>\n",
       "<line id=\"ic_h_line0_2\" class=\"interconnect\" x1=\"45.0\" y1=\"62.0\" x2=\"45.0\" y2=\"42.0\" stroke=\"black\" stroke-width=\"1\" fill=\"none\" marker-end=\"url(#ic_endarrow)\"/>\n",
       "<line id=\"ic_h_line0_3\" class=\"interconnect\" x1=\"55.0\" y1=\"38.0\" x2=\"55.0\" y2=\"58.0\" stroke=\"black\" stroke-width=\"1\" fill=\"none\" marker-end=\"url(#ic_endarrow)\"/>\n",
       "<g> <rect id=\"aie_tile_container0\" class=\"aie_tile_container\" width=\"120\" height=\"60.0\" x=\"70\" y=\"90.0\" stroke=\"black\" stroke-width=\"1\" fill=\"#ffffff\"/> </g>\n",
       "<g> <text id=\"text_aie_tile_container0\" class=\"aie_tile_container_text\" x=\"70\" y=\"90.0\" fill=\"\" font-family=\"Arial, Helvetica, sans-serif\"> <tspan x=\"130.0\" y=\"119.3\" dy=\"1em\" font-size=\"1\"> </tspan></text></g>\n",
       "<g> <rect id=\"aie_box0\" class=\"aie_box\" width=\"46.0\" height=\"46.0\" x=\"77.0\" y=\"97.0\" stroke=\"black\" stroke-width=\"1\" fill=\"white\"/> </g>\n",
       "<g> <text id=\"text_aie_box0\" class=\"aie_box_text\" x=\"77.0\" y=\"97.0\" fill=\"black\" font-family=\"Arial, Helvetica, sans-serif\"> <tspan x=\"94.5\" y=\"105.6\" dy=\"1em\" font-size=\"12\">AI </tspan><tspan x=\"80.5\" y=\"117.6\" dy=\"1em\" font-size=\"12\">Engine </tspan></text></g>\n",
       "<g> <rect id=\"memory_outline_0_8\" x=\"137.0\" y=\"97.0\" height=\"46.0\" width=\"5.75\" style=\"stroke:#f0f0f0; fill:#fefefe; stroke-opacity:0.5\"> </rect> </g>\n",
       "<g> <rect id=\"memory_outline_1_8\" x=\"142.75\" y=\"97.0\" height=\"46.0\" width=\"5.75\" style=\"stroke:#f0f0f0; fill:#fefefe; stroke-opacity:0.5\"> </rect> </g>\n",
       "<g> <rect id=\"memory_outline_2_8\" x=\"148.5\" y=\"97.0\" height=\"46.0\" width=\"5.75\" style=\"stroke:#f0f0f0; fill:#fefefe; stroke-opacity:0.5\"> </rect> </g>\n",
       "<g> <rect id=\"memory_outline_3_8\" x=\"154.25\" y=\"97.0\" height=\"46.0\" width=\"5.75\" style=\"stroke:#f0f0f0; fill:#fefefe; stroke-opacity:0.5\"> </rect> </g>\n",
       "<g> <rect id=\"memory_outline_4_8\" x=\"160.0\" y=\"97.0\" height=\"46.0\" width=\"5.75\" style=\"stroke:#f0f0f0; fill:#fefefe; stroke-opacity:0.5\"> </rect> </g>\n",
       "<g> <rect id=\"memory_outline_5_8\" x=\"165.75\" y=\"97.0\" height=\"46.0\" width=\"5.75\" style=\"stroke:#f0f0f0; fill:#fefefe; stroke-opacity:0.5\"> </rect> </g>\n",
       "<g> <rect id=\"memory_outline_6_8\" x=\"171.5\" y=\"97.0\" height=\"46.0\" width=\"5.75\" style=\"stroke:#f0f0f0; fill:#fefefe; stroke-opacity:0.5\"> </rect> </g>\n",
       "<g> <rect id=\"memory_outline_7_8\" x=\"177.25\" y=\"97.0\" height=\"46.0\" width=\"5.75\" style=\"stroke:#f0f0f0; fill:#fefefe; stroke-opacity:0.5\"> </rect> </g>\n",
       "<g> <rect id=\"memory_outline_0_8\" x=\"137.0\" y=\"97.0\" height=\"46.0\" width=\"5.75\" style=\"stroke:#f0f0f0; fill:#fefefe; stroke-opacity:0.5\"> </rect> </g>\n",
       "<g> <rect id=\"memory_outline_1_8\" x=\"142.75\" y=\"97.0\" height=\"46.0\" width=\"5.75\" style=\"stroke:#f0f0f0; fill:#fefefe; stroke-opacity:0.5\"> </rect> </g>\n",
       "<g> <rect id=\"memory_outline_2_8\" x=\"148.5\" y=\"97.0\" height=\"46.0\" width=\"5.75\" style=\"stroke:#f0f0f0; fill:#fefefe; stroke-opacity:0.5\"> </rect> </g>\n",
       "<g> <rect id=\"memory_outline_3_8\" x=\"154.25\" y=\"97.0\" height=\"46.0\" width=\"5.75\" style=\"stroke:#f0f0f0; fill:#fefefe; stroke-opacity:0.5\"> </rect> </g>\n",
       "<g> <rect id=\"memory_outline_4_8\" x=\"160.0\" y=\"97.0\" height=\"46.0\" width=\"5.75\" style=\"stroke:#f0f0f0; fill:#fefefe; stroke-opacity:0.5\"> </rect> </g>\n",
       "<g> <rect id=\"memory_outline_5_8\" x=\"165.75\" y=\"97.0\" height=\"46.0\" width=\"5.75\" style=\"stroke:#f0f0f0; fill:#fefefe; stroke-opacity:0.5\"> </rect> </g>\n",
       "<g> <rect id=\"memory_outline_6_8\" x=\"171.5\" y=\"97.0\" height=\"46.0\" width=\"5.75\" style=\"stroke:#f0f0f0; fill:#fefefe; stroke-opacity:0.5\"> </rect> </g>\n",
       "<g> <rect id=\"memory_outline_7_8\" x=\"177.25\" y=\"97.0\" height=\"46.0\" width=\"5.75\" style=\"stroke:#f0f0f0; fill:#fefefe; stroke-opacity:0.5\"> </rect> </g>\n",
       "<g> <rect id=\"local_memory_box0\" class=\"local_memory_box\" width=\"46.0\" height=\"46.0\" x=\"137.0\" y=\"97.0\" stroke=\"black\" stroke-width=\"1\" fill=\"None\"/> </g>\n",
       "<g> <text id=\"text_local_memory_box0\" class=\"local_memory_box_text\" x=\"137.0\" y=\"97.0\" fill=\"black\" font-family=\"Arial, Helvetica, sans-serif\"> <tspan x=\"147.0\" y=\"105.6\" dy=\"1em\" font-size=\"12\">Data </tspan><tspan x=\"138.0\" y=\"117.6\" dy=\"1em\" font-size=\"12\">Memory </tspan></text></g>\n",
       "<g> <rect id=\"aie_tile1\" class=\"aie_tile\" width=\"180\" height=\"140\" x=\"20\" y=\"180\" stroke=\"black\" stroke-width=\"2\" fill=\"#C2E9FF\"/> </g>\n",
       "<g> <text id=\"text_aie_tile1\" class=\"aie_tile_text\" x=\"20\" y=\"180\" fill=\"\" font-family=\"Arial, Helvetica, sans-serif\"> <tspan x=\"110.0\" y=\"249.3\" dy=\"1em\" font-size=\"1\"> </tspan></text></g>\n",
       "<g> <rect id=\"interconnect_box1\" class=\"interconnect_box\" width=\"40\" height=\"40\" x=\"30\" y=\"190\" stroke=\"black\" stroke-width=\"1\" fill=\"#DBBCBD\"/> </g>\n",
       "<g> <text id=\"text_interconnect_box1\" class=\"interconnect_box_text\" x=\"30\" y=\"190\" fill=\"\" font-family=\"Arial, Helvetica, sans-serif\"> <tspan x=\"50.0\" y=\"209.3\" dy=\"1em\" font-size=\"1\"> </tspan></text></g>\n",
       "<line id=\"ic_h_line1_0\" class=\"interconnect\" x1=\"38.0\" y1=\"205.0\" x2=\"58.0\" y2=\"205.0\" stroke=\"black\" stroke-width=\"1\" fill=\"none\" marker-end=\"url(#ic_endarrow)\"/>\n",
       "<line id=\"ic_h_line1_1\" class=\"interconnect\" x1=\"62.0\" y1=\"215.0\" x2=\"42.0\" y2=\"215.0\" stroke=\"black\" stroke-width=\"1\" fill=\"none\" marker-end=\"url(#ic_endarrow)\"/>\n",
       "<line id=\"ic_h_line1_2\" class=\"interconnect\" x1=\"45.0\" y1=\"222.0\" x2=\"45.0\" y2=\"202.0\" stroke=\"black\" stroke-width=\"1\" fill=\"none\" marker-end=\"url(#ic_endarrow)\"/>\n",
       "<line id=\"ic_h_line1_3\" class=\"interconnect\" x1=\"55.0\" y1=\"198.0\" x2=\"55.0\" y2=\"218.0\" stroke=\"black\" stroke-width=\"1\" fill=\"none\" marker-end=\"url(#ic_endarrow)\"/>\n",
       "<g> <rect id=\"aie_tile_container1\" class=\"aie_tile_container\" width=\"120\" height=\"60.0\" x=\"70\" y=\"250.0\" stroke=\"black\" stroke-width=\"1\" fill=\"#ffffff\"/> </g>\n",
       "<g> <text id=\"text_aie_tile_container1\" class=\"aie_tile_container_text\" x=\"70\" y=\"250.0\" fill=\"\" font-family=\"Arial, Helvetica, sans-serif\"> <tspan x=\"130.0\" y=\"279.3\" dy=\"1em\" font-size=\"1\"> </tspan></text></g>\n",
       "<g> <rect id=\"aie_box1\" class=\"aie_box\" width=\"46.0\" height=\"46.0\" x=\"77.0\" y=\"257.0\" stroke=\"black\" stroke-width=\"1\" fill=\"white\"/> </g>\n",
       "<g> <text id=\"text_aie_box1\" class=\"aie_box_text\" x=\"77.0\" y=\"257.0\" fill=\"black\" font-family=\"Arial, Helvetica, sans-serif\"> <tspan x=\"94.5\" y=\"265.6\" dy=\"1em\" font-size=\"12\">AI </tspan><tspan x=\"80.5\" y=\"277.6\" dy=\"1em\" font-size=\"12\">Engine </tspan></text></g>\n",
       "<g> <rect id=\"memory_outline_0_8\" x=\"137.0\" y=\"257.0\" height=\"46.0\" width=\"5.75\" style=\"stroke:#f0f0f0; fill:#fefefe; stroke-opacity:0.5\"> </rect> </g>\n",
       "<g> <rect id=\"memory_outline_1_8\" x=\"142.75\" y=\"257.0\" height=\"46.0\" width=\"5.75\" style=\"stroke:#f0f0f0; fill:#fefefe; stroke-opacity:0.5\"> </rect> </g>\n",
       "<g> <rect id=\"memory_outline_2_8\" x=\"148.5\" y=\"257.0\" height=\"46.0\" width=\"5.75\" style=\"stroke:#f0f0f0; fill:#fefefe; stroke-opacity:0.5\"> </rect> </g>\n",
       "<g> <rect id=\"memory_outline_3_8\" x=\"154.25\" y=\"257.0\" height=\"46.0\" width=\"5.75\" style=\"stroke:#f0f0f0; fill:#fefefe; stroke-opacity:0.5\"> </rect> </g>\n",
       "<g> <rect id=\"memory_outline_4_8\" x=\"160.0\" y=\"257.0\" height=\"46.0\" width=\"5.75\" style=\"stroke:#f0f0f0; fill:#fefefe; stroke-opacity:0.5\"> </rect> </g>\n",
       "<g> <rect id=\"memory_outline_5_8\" x=\"165.75\" y=\"257.0\" height=\"46.0\" width=\"5.75\" style=\"stroke:#f0f0f0; fill:#fefefe; stroke-opacity:0.5\"> </rect> </g>\n",
       "<g> <rect id=\"memory_outline_6_8\" x=\"171.5\" y=\"257.0\" height=\"46.0\" width=\"5.75\" style=\"stroke:#f0f0f0; fill:#fefefe; stroke-opacity:0.5\"> </rect> </g>\n",
       "<g> <rect id=\"memory_outline_7_8\" x=\"177.25\" y=\"257.0\" height=\"46.0\" width=\"5.75\" style=\"stroke:#f0f0f0; fill:#fefefe; stroke-opacity:0.5\"> </rect> </g>\n",
       "<g> <rect id=\"memory_outline_0_8\" x=\"137.0\" y=\"257.0\" height=\"46.0\" width=\"5.75\" style=\"stroke:#f0f0f0; fill:#fefefe; stroke-opacity:0.5\"> </rect> </g>\n",
       "<g> <rect id=\"memory_outline_1_8\" x=\"142.75\" y=\"257.0\" height=\"46.0\" width=\"5.75\" style=\"stroke:#f0f0f0; fill:#fefefe; stroke-opacity:0.5\"> </rect> </g>\n",
       "<g> <rect id=\"memory_outline_2_8\" x=\"148.5\" y=\"257.0\" height=\"46.0\" width=\"5.75\" style=\"stroke:#f0f0f0; fill:#fefefe; stroke-opacity:0.5\"> </rect> </g>\n",
       "<g> <rect id=\"memory_outline_3_8\" x=\"154.25\" y=\"257.0\" height=\"46.0\" width=\"5.75\" style=\"stroke:#f0f0f0; fill:#fefefe; stroke-opacity:0.5\"> </rect> </g>\n",
       "<g> <rect id=\"memory_outline_4_8\" x=\"160.0\" y=\"257.0\" height=\"46.0\" width=\"5.75\" style=\"stroke:#f0f0f0; fill:#fefefe; stroke-opacity:0.5\"> </rect> </g>\n",
       "<g> <rect id=\"memory_outline_5_8\" x=\"165.75\" y=\"257.0\" height=\"46.0\" width=\"5.75\" style=\"stroke:#f0f0f0; fill:#fefefe; stroke-opacity:0.5\"> </rect> </g>\n",
       "<g> <rect id=\"memory_outline_6_8\" x=\"171.5\" y=\"257.0\" height=\"46.0\" width=\"5.75\" style=\"stroke:#f0f0f0; fill:#fefefe; stroke-opacity:0.5\"> </rect> </g>\n",
       "<g> <rect id=\"memory_outline_7_8\" x=\"177.25\" y=\"257.0\" height=\"46.0\" width=\"5.75\" style=\"stroke:#f0f0f0; fill:#fefefe; stroke-opacity:0.5\"> </rect> </g>\n",
       "<g> <rect id=\"local_memory_box1\" class=\"local_memory_box\" width=\"46.0\" height=\"46.0\" x=\"137.0\" y=\"257.0\" stroke=\"black\" stroke-width=\"1\" fill=\"None\"/> </g>\n",
       "<g> <text id=\"text_local_memory_box1\" class=\"local_memory_box_text\" x=\"137.0\" y=\"257.0\" fill=\"black\" font-family=\"Arial, Helvetica, sans-serif\"> <tspan x=\"147.0\" y=\"265.6\" dy=\"1em\" font-size=\"12\">Data </tspan><tspan x=\"138.0\" y=\"277.6\" dy=\"1em\" font-size=\"12\">Memory </tspan></text></g>\n",
       "<g> <rect id=\"aie_tile2\" class=\"aie_tile\" width=\"180\" height=\"140\" x=\"20\" y=\"340\" stroke=\"black\" stroke-width=\"2\" fill=\"#C2E9FF\"/> </g>\n",
       "<g> <text id=\"text_aie_tile2\" class=\"aie_tile_text\" x=\"20\" y=\"340\" fill=\"\" font-family=\"Arial, Helvetica, sans-serif\"> <tspan x=\"110.0\" y=\"409.3\" dy=\"1em\" font-size=\"1\"> </tspan></text></g>\n",
       "<g> <rect id=\"interconnect_box2\" class=\"interconnect_box\" width=\"40\" height=\"40\" x=\"30\" y=\"350\" stroke=\"black\" stroke-width=\"1\" fill=\"#DBBCBD\"/> </g>\n",
       "<g> <text id=\"text_interconnect_box2\" class=\"interconnect_box_text\" x=\"30\" y=\"350\" fill=\"\" font-family=\"Arial, Helvetica, sans-serif\"> <tspan x=\"50.0\" y=\"369.3\" dy=\"1em\" font-size=\"1\"> </tspan></text></g>\n",
       "<line id=\"ic_h_line2_0\" class=\"interconnect\" x1=\"38.0\" y1=\"365.0\" x2=\"58.0\" y2=\"365.0\" stroke=\"black\" stroke-width=\"1\" fill=\"none\" marker-end=\"url(#ic_endarrow)\"/>\n",
       "<line id=\"ic_h_line2_1\" class=\"interconnect\" x1=\"62.0\" y1=\"375.0\" x2=\"42.0\" y2=\"375.0\" stroke=\"black\" stroke-width=\"1\" fill=\"none\" marker-end=\"url(#ic_endarrow)\"/>\n",
       "<line id=\"ic_h_line2_2\" class=\"interconnect\" x1=\"45.0\" y1=\"382.0\" x2=\"45.0\" y2=\"362.0\" stroke=\"black\" stroke-width=\"1\" fill=\"none\" marker-end=\"url(#ic_endarrow)\"/>\n",
       "<line id=\"ic_h_line2_3\" class=\"interconnect\" x1=\"55.0\" y1=\"358.0\" x2=\"55.0\" y2=\"378.0\" stroke=\"black\" stroke-width=\"1\" fill=\"none\" marker-end=\"url(#ic_endarrow)\"/>\n",
       "<g> <rect id=\"aie_tile_container2\" class=\"aie_tile_container\" width=\"120\" height=\"60.0\" x=\"70\" y=\"410.0\" stroke=\"black\" stroke-width=\"1\" fill=\"#ffffff\"/> </g>\n",
       "<g> <text id=\"text_aie_tile_container2\" class=\"aie_tile_container_text\" x=\"70\" y=\"410.0\" fill=\"\" font-family=\"Arial, Helvetica, sans-serif\"> <tspan x=\"130.0\" y=\"439.3\" dy=\"1em\" font-size=\"1\"> </tspan></text></g>\n",
       "<g> <rect id=\"aie_box2\" class=\"aie_box\" width=\"46.0\" height=\"46.0\" x=\"77.0\" y=\"417.0\" stroke=\"black\" stroke-width=\"1\" fill=\"white\"/> </g>\n",
       "<g> <text id=\"text_aie_box2\" class=\"aie_box_text\" x=\"77.0\" y=\"417.0\" fill=\"black\" font-family=\"Arial, Helvetica, sans-serif\"> <tspan x=\"94.5\" y=\"425.6\" dy=\"1em\" font-size=\"12\">AI </tspan><tspan x=\"80.5\" y=\"437.6\" dy=\"1em\" font-size=\"12\">Engine </tspan></text></g>\n",
       "<g> <rect id=\"memory_outline_0_8\" x=\"137.0\" y=\"417.0\" height=\"46.0\" width=\"5.75\" style=\"stroke:#f0f0f0; fill:#fefefe; stroke-opacity:0.5\"> </rect> </g>\n",
       "<g> <rect id=\"memory_outline_1_8\" x=\"142.75\" y=\"417.0\" height=\"46.0\" width=\"5.75\" style=\"stroke:#f0f0f0; fill:#fefefe; stroke-opacity:0.5\"> </rect> </g>\n",
       "<g> <rect id=\"memory_outline_2_8\" x=\"148.5\" y=\"417.0\" height=\"46.0\" width=\"5.75\" style=\"stroke:#f0f0f0; fill:#fefefe; stroke-opacity:0.5\"> </rect> </g>\n",
       "<g> <rect id=\"memory_outline_3_8\" x=\"154.25\" y=\"417.0\" height=\"46.0\" width=\"5.75\" style=\"stroke:#f0f0f0; fill:#fefefe; stroke-opacity:0.5\"> </rect> </g>\n",
       "<g> <rect id=\"memory_outline_4_8\" x=\"160.0\" y=\"417.0\" height=\"46.0\" width=\"5.75\" style=\"stroke:#f0f0f0; fill:#fefefe; stroke-opacity:0.5\"> </rect> </g>\n",
       "<g> <rect id=\"memory_outline_5_8\" x=\"165.75\" y=\"417.0\" height=\"46.0\" width=\"5.75\" style=\"stroke:#f0f0f0; fill:#fefefe; stroke-opacity:0.5\"> </rect> </g>\n",
       "<g> <rect id=\"memory_outline_6_8\" x=\"171.5\" y=\"417.0\" height=\"46.0\" width=\"5.75\" style=\"stroke:#f0f0f0; fill:#fefefe; stroke-opacity:0.5\"> </rect> </g>\n",
       "<g> <rect id=\"memory_outline_7_8\" x=\"177.25\" y=\"417.0\" height=\"46.0\" width=\"5.75\" style=\"stroke:#f0f0f0; fill:#fefefe; stroke-opacity:0.5\"> </rect> </g>\n",
       "<g> <rect id=\"memory_outline_0_8\" x=\"137.0\" y=\"417.0\" height=\"46.0\" width=\"5.75\" style=\"stroke:#f0f0f0; fill:#fefefe; stroke-opacity:0.5\"> </rect> </g>\n",
       "<g> <rect id=\"memory_outline_1_8\" x=\"142.75\" y=\"417.0\" height=\"46.0\" width=\"5.75\" style=\"stroke:#f0f0f0; fill:#fefefe; stroke-opacity:0.5\"> </rect> </g>\n",
       "<g> <rect id=\"memory_outline_2_8\" x=\"148.5\" y=\"417.0\" height=\"46.0\" width=\"5.75\" style=\"stroke:#f0f0f0; fill:#fefefe; stroke-opacity:0.5\"> </rect> </g>\n",
       "<g> <rect id=\"memory_outline_3_8\" x=\"154.25\" y=\"417.0\" height=\"46.0\" width=\"5.75\" style=\"stroke:#f0f0f0; fill:#fefefe; stroke-opacity:0.5\"> </rect> </g>\n",
       "<g> <rect id=\"memory_outline_4_8\" x=\"160.0\" y=\"417.0\" height=\"46.0\" width=\"5.75\" style=\"stroke:#f0f0f0; fill:#fefefe; stroke-opacity:0.5\"> </rect> </g>\n",
       "<g> <rect id=\"memory_outline_5_8\" x=\"165.75\" y=\"417.0\" height=\"46.0\" width=\"5.75\" style=\"stroke:#f0f0f0; fill:#fefefe; stroke-opacity:0.5\"> </rect> </g>\n",
       "<g> <rect id=\"memory_outline_6_8\" x=\"171.5\" y=\"417.0\" height=\"46.0\" width=\"5.75\" style=\"stroke:#f0f0f0; fill:#fefefe; stroke-opacity:0.5\"> </rect> </g>\n",
       "<g> <rect id=\"memory_outline_7_8\" x=\"177.25\" y=\"417.0\" height=\"46.0\" width=\"5.75\" style=\"stroke:#f0f0f0; fill:#fefefe; stroke-opacity:0.5\"> </rect> </g>\n",
       "<g> <rect id=\"local_memory_box2\" class=\"local_memory_box\" width=\"46.0\" height=\"46.0\" x=\"137.0\" y=\"417.0\" stroke=\"black\" stroke-width=\"1\" fill=\"None\"/> </g>\n",
       "<g> <text id=\"text_local_memory_box2\" class=\"local_memory_box_text\" x=\"137.0\" y=\"417.0\" fill=\"black\" font-family=\"Arial, Helvetica, sans-serif\"> <tspan x=\"147.0\" y=\"425.6\" dy=\"1em\" font-size=\"12\">Data </tspan><tspan x=\"138.0\" y=\"437.6\" dy=\"1em\" font-size=\"12\">Memory </tspan></text></g>\n",
       "<g> <rect id=\"aie_tile3\" class=\"aie_tile\" width=\"180\" height=\"140\" x=\"20\" y=\"500\" stroke=\"black\" stroke-width=\"2\" fill=\"#C2E9FF\"/> </g>\n",
       "<g> <text id=\"text_aie_tile3\" class=\"aie_tile_text\" x=\"20\" y=\"500\" fill=\"\" font-family=\"Arial, Helvetica, sans-serif\"> <tspan x=\"110.0\" y=\"569.3\" dy=\"1em\" font-size=\"1\"> </tspan></text></g>\n",
       "<g> <rect id=\"interconnect_box3\" class=\"interconnect_box\" width=\"40\" height=\"40\" x=\"30\" y=\"510\" stroke=\"black\" stroke-width=\"1\" fill=\"#DBBCBD\"/> </g>\n",
       "<g> <text id=\"text_interconnect_box3\" class=\"interconnect_box_text\" x=\"30\" y=\"510\" fill=\"\" font-family=\"Arial, Helvetica, sans-serif\"> <tspan x=\"50.0\" y=\"529.3\" dy=\"1em\" font-size=\"1\"> </tspan></text></g>\n",
       "<line id=\"ic_h_line3_0\" class=\"interconnect\" x1=\"38.0\" y1=\"525.0\" x2=\"58.0\" y2=\"525.0\" stroke=\"black\" stroke-width=\"1\" fill=\"none\" marker-end=\"url(#ic_endarrow)\"/>\n",
       "<line id=\"ic_h_line3_1\" class=\"interconnect\" x1=\"62.0\" y1=\"535.0\" x2=\"42.0\" y2=\"535.0\" stroke=\"black\" stroke-width=\"1\" fill=\"none\" marker-end=\"url(#ic_endarrow)\"/>\n",
       "<line id=\"ic_h_line3_2\" class=\"interconnect\" x1=\"45.0\" y1=\"542.0\" x2=\"45.0\" y2=\"522.0\" stroke=\"black\" stroke-width=\"1\" fill=\"none\" marker-end=\"url(#ic_endarrow)\"/>\n",
       "<line id=\"ic_h_line3_3\" class=\"interconnect\" x1=\"55.0\" y1=\"518.0\" x2=\"55.0\" y2=\"538.0\" stroke=\"black\" stroke-width=\"1\" fill=\"none\" marker-end=\"url(#ic_endarrow)\"/>\n",
       "<g> <rect id=\"aie_tile_container3\" class=\"aie_tile_container\" width=\"120\" height=\"60.0\" x=\"70\" y=\"570.0\" stroke=\"black\" stroke-width=\"1\" fill=\"#ffffff\"/> </g>\n",
       "<g> <text id=\"text_aie_tile_container3\" class=\"aie_tile_container_text\" x=\"70\" y=\"570.0\" fill=\"\" font-family=\"Arial, Helvetica, sans-serif\"> <tspan x=\"130.0\" y=\"599.3\" dy=\"1em\" font-size=\"1\"> </tspan></text></g>\n",
       "<g> <rect id=\"aie_box3\" class=\"aie_box\" width=\"46.0\" height=\"46.0\" x=\"77.0\" y=\"577.0\" stroke=\"black\" stroke-width=\"1\" fill=\"white\"/> </g>\n",
       "<g> <text id=\"text_aie_box3\" class=\"aie_box_text\" x=\"77.0\" y=\"577.0\" fill=\"black\" font-family=\"Arial, Helvetica, sans-serif\"> <tspan x=\"100.0\" y=\"591.6\" dy=\"1em\" font-size=\"12\"> </tspan></text></g>\n",
       "<g> <rect id=\"memory_outline_0_8\" x=\"137.0\" y=\"577.0\" height=\"46.0\" width=\"5.75\" style=\"stroke:#f0f0f0; fill:#fefefe; stroke-opacity:0.5\"> </rect> </g>\n",
       "<g> <rect id=\"memory_outline_1_8\" x=\"142.75\" y=\"577.0\" height=\"46.0\" width=\"5.75\" style=\"stroke:#f0f0f0; fill:#fefefe; stroke-opacity:0.5\"> </rect> </g>\n",
       "<g> <rect id=\"memory_outline_2_8\" x=\"148.5\" y=\"577.0\" height=\"46.0\" width=\"5.75\" style=\"stroke:#f0f0f0; fill:#fefefe; stroke-opacity:0.5\"> </rect> </g>\n",
       "<g> <rect id=\"memory_outline_3_8\" x=\"154.25\" y=\"577.0\" height=\"46.0\" width=\"5.75\" style=\"stroke:#f0f0f0; fill:#fefefe; stroke-opacity:0.5\"> </rect> </g>\n",
       "<g> <rect id=\"memory_outline_4_8\" x=\"160.0\" y=\"577.0\" height=\"46.0\" width=\"5.75\" style=\"stroke:#f0f0f0; fill:#fefefe; stroke-opacity:0.5\"> </rect> </g>\n",
       "<g> <rect id=\"memory_outline_5_8\" x=\"165.75\" y=\"577.0\" height=\"46.0\" width=\"5.75\" style=\"stroke:#f0f0f0; fill:#fefefe; stroke-opacity:0.5\"> </rect> </g>\n",
       "<g> <rect id=\"memory_outline_6_8\" x=\"171.5\" y=\"577.0\" height=\"46.0\" width=\"5.75\" style=\"stroke:#f0f0f0; fill:#fefefe; stroke-opacity:0.5\"> </rect> </g>\n",
       "<g> <rect id=\"memory_outline_7_8\" x=\"177.25\" y=\"577.0\" height=\"46.0\" width=\"5.75\" style=\"stroke:#f0f0f0; fill:#fefefe; stroke-opacity:0.5\"> </rect> </g>\n",
       "<g> <rect id=\"memory_outline_0_8\" x=\"137.0\" y=\"577.0\" height=\"46.0\" width=\"5.75\" style=\"stroke:#f0f0f0; fill:#fefefe; stroke-opacity:0.5\"> </rect> </g>\n",
       "<g> <rect id=\"memory_outline_1_8\" x=\"142.75\" y=\"577.0\" height=\"46.0\" width=\"5.75\" style=\"stroke:#f0f0f0; fill:#fefefe; stroke-opacity:0.5\"> </rect> </g>\n",
       "<g> <rect id=\"memory_outline_2_8\" x=\"148.5\" y=\"577.0\" height=\"46.0\" width=\"5.75\" style=\"stroke:#f0f0f0; fill:#fefefe; stroke-opacity:0.5\"> </rect> </g>\n",
       "<g> <rect id=\"memory_outline_3_8\" x=\"154.25\" y=\"577.0\" height=\"46.0\" width=\"5.75\" style=\"stroke:#f0f0f0; fill:#fefefe; stroke-opacity:0.5\"> </rect> </g>\n",
       "<g> <rect id=\"memory_outline_4_8\" x=\"160.0\" y=\"577.0\" height=\"46.0\" width=\"5.75\" style=\"stroke:#f0f0f0; fill:#fefefe; stroke-opacity:0.5\"> </rect> </g>\n",
       "<g> <rect id=\"memory_outline_5_8\" x=\"165.75\" y=\"577.0\" height=\"46.0\" width=\"5.75\" style=\"stroke:#f0f0f0; fill:#fefefe; stroke-opacity:0.5\"> </rect> </g>\n",
       "<g> <rect id=\"memory_outline_6_8\" x=\"171.5\" y=\"577.0\" height=\"46.0\" width=\"5.75\" style=\"stroke:#f0f0f0; fill:#fefefe; stroke-opacity:0.5\"> </rect> </g>\n",
       "<g> <rect id=\"memory_outline_7_8\" x=\"177.25\" y=\"577.0\" height=\"46.0\" width=\"5.75\" style=\"stroke:#f0f0f0; fill:#fefefe; stroke-opacity:0.5\"> </rect> </g>\n",
       "<g> <rect id=\"local_memory_box3\" class=\"local_memory_box\" width=\"46.0\" height=\"46.0\" x=\"137.0\" y=\"577.0\" stroke=\"black\" stroke-width=\"1\" fill=\"None\"/> </g>\n",
       "<g> <text id=\"text_local_memory_box3\" class=\"local_memory_box_text\" x=\"137.0\" y=\"577.0\" fill=\"black\" font-family=\"Arial, Helvetica, sans-serif\"> <tspan x=\"160.0\" y=\"591.6\" dy=\"1em\" font-size=\"12\"> </tspan></text></g>\n",
       "<g> <rect id=\"mem_tile4\" class=\"mem_tile\" width=\"180\" height=\"140\" x=\"20\" y=\"660\" stroke=\"black\" stroke-width=\"2\" fill=\"#E0FFC2\"/> </g>\n",
       "<g> <text id=\"text_mem_tile4\" class=\"mem_tile_text\" x=\"20\" y=\"660\" fill=\"\" font-family=\"Arial, Helvetica, sans-serif\"> <tspan x=\"110.0\" y=\"729.3\" dy=\"1em\" font-size=\"1\"> </tspan></text></g>\n",
       "<g> <rect id=\"interconnect_box4\" class=\"interconnect_box\" width=\"40\" height=\"40\" x=\"30\" y=\"670\" stroke=\"black\" stroke-width=\"1\" fill=\"#DBBCBD\"/> </g>\n",
       "<g> <text id=\"text_interconnect_box4\" class=\"interconnect_box_text\" x=\"30\" y=\"670\" fill=\"\" font-family=\"Arial, Helvetica, sans-serif\"> <tspan x=\"50.0\" y=\"689.3\" dy=\"1em\" font-size=\"1\"> </tspan></text></g>\n",
       "<line id=\"ic_h_line4_0\" class=\"interconnect\" x1=\"38.0\" y1=\"685.0\" x2=\"58.0\" y2=\"685.0\" stroke=\"black\" stroke-width=\"1\" fill=\"none\" marker-end=\"url(#ic_endarrow)\"/>\n",
       "<line id=\"ic_h_line4_1\" class=\"interconnect\" x1=\"62.0\" y1=\"695.0\" x2=\"42.0\" y2=\"695.0\" stroke=\"black\" stroke-width=\"1\" fill=\"none\" marker-end=\"url(#ic_endarrow)\"/>\n",
       "<line id=\"ic_h_line4_2\" class=\"interconnect\" x1=\"45.0\" y1=\"702.0\" x2=\"45.0\" y2=\"682.0\" stroke=\"black\" stroke-width=\"1\" fill=\"none\" marker-end=\"url(#ic_endarrow)\"/>\n",
       "<line id=\"ic_h_line4_3\" class=\"interconnect\" x1=\"55.0\" y1=\"678.0\" x2=\"55.0\" y2=\"698.0\" stroke=\"black\" stroke-width=\"1\" fill=\"none\" marker-end=\"url(#ic_endarrow)\"/>\n",
       "<g> <rect id=\"mem_tile_container4\" class=\"mem_tile_container\" width=\"120\" height=\"60.0\" x=\"70\" y=\"730.0\" stroke=\"black\" stroke-width=\"1\" fill=\"#ffffff\"/> </g>\n",
       "<g> <text id=\"text_mem_tile_container4\" class=\"mem_tile_container_text\" x=\"70\" y=\"730.0\" fill=\"\" font-family=\"Arial, Helvetica, sans-serif\"> <tspan x=\"130.0\" y=\"759.3\" dy=\"1em\" font-size=\"1\"> </tspan></text></g>\n",
       "<g> <rect id=\"memory_outline_0_16\" x=\"77.0\" y=\"737.0\" height=\"46.0\" width=\"6.625\" style=\"stroke:#f0f0f0; fill:#fefefe; stroke-opacity:0.5\"> </rect> </g>\n",
       "<g> <rect id=\"memory_outline_1_16\" x=\"83.625\" y=\"737.0\" height=\"46.0\" width=\"6.625\" style=\"stroke:#f0f0f0; fill:#fefefe; stroke-opacity:0.5\"> </rect> </g>\n",
       "<g> <rect id=\"memory_outline_2_16\" x=\"90.25\" y=\"737.0\" height=\"46.0\" width=\"6.625\" style=\"stroke:#f0f0f0; fill:#fefefe; stroke-opacity:0.5\"> </rect> </g>\n",
       "<g> <rect id=\"memory_outline_3_16\" x=\"96.875\" y=\"737.0\" height=\"46.0\" width=\"6.625\" style=\"stroke:#f0f0f0; fill:#fefefe; stroke-opacity:0.5\"> </rect> </g>\n",
       "<g> <rect id=\"memory_outline_4_16\" x=\"103.5\" y=\"737.0\" height=\"46.0\" width=\"6.625\" style=\"stroke:#f0f0f0; fill:#fefefe; stroke-opacity:0.5\"> </rect> </g>\n",
       "<g> <rect id=\"memory_outline_5_16\" x=\"110.125\" y=\"737.0\" height=\"46.0\" width=\"6.625\" style=\"stroke:#f0f0f0; fill:#fefefe; stroke-opacity:0.5\"> </rect> </g>\n",
       "<g> <rect id=\"memory_outline_6_16\" x=\"116.75\" y=\"737.0\" height=\"46.0\" width=\"6.625\" style=\"stroke:#f0f0f0; fill:#fefefe; stroke-opacity:0.5\"> </rect> </g>\n",
       "<g> <rect id=\"memory_outline_7_16\" x=\"123.375\" y=\"737.0\" height=\"46.0\" width=\"6.625\" style=\"stroke:#f0f0f0; fill:#fefefe; stroke-opacity:0.5\"> </rect> </g>\n",
       "<g> <rect id=\"memory_outline_8_16\" x=\"130.0\" y=\"737.0\" height=\"46.0\" width=\"6.625\" style=\"stroke:#f0f0f0; fill:#fefefe; stroke-opacity:0.5\"> </rect> </g>\n",
       "<g> <rect id=\"memory_outline_9_16\" x=\"136.625\" y=\"737.0\" height=\"46.0\" width=\"6.625\" style=\"stroke:#f0f0f0; fill:#fefefe; stroke-opacity:0.5\"> </rect> </g>\n",
       "<g> <rect id=\"memory_outline_10_16\" x=\"143.25\" y=\"737.0\" height=\"46.0\" width=\"6.625\" style=\"stroke:#f0f0f0; fill:#fefefe; stroke-opacity:0.5\"> </rect> </g>\n",
       "<g> <rect id=\"memory_outline_11_16\" x=\"149.875\" y=\"737.0\" height=\"46.0\" width=\"6.625\" style=\"stroke:#f0f0f0; fill:#fefefe; stroke-opacity:0.5\"> </rect> </g>\n",
       "<g> <rect id=\"memory_outline_12_16\" x=\"156.5\" y=\"737.0\" height=\"46.0\" width=\"6.625\" style=\"stroke:#f0f0f0; fill:#fefefe; stroke-opacity:0.5\"> </rect> </g>\n",
       "<g> <rect id=\"memory_outline_13_16\" x=\"163.125\" y=\"737.0\" height=\"46.0\" width=\"6.625\" style=\"stroke:#f0f0f0; fill:#fefefe; stroke-opacity:0.5\"> </rect> </g>\n",
       "<g> <rect id=\"memory_outline_14_16\" x=\"169.75\" y=\"737.0\" height=\"46.0\" width=\"6.625\" style=\"stroke:#f0f0f0; fill:#fefefe; stroke-opacity:0.5\"> </rect> </g>\n",
       "<g> <rect id=\"memory_outline_15_16\" x=\"176.375\" y=\"737.0\" height=\"46.0\" width=\"6.625\" style=\"stroke:#f0f0f0; fill:#fefefe; stroke-opacity:0.5\"> </rect> </g>\n",
       "<g> <rect id=\"mem_tile_memory4\" class=\"mem_tile_memory\" width=\"106\" height=\"46.0\" x=\"77\" y=\"737.0\" stroke=\"black\" stroke-width=\"1\" fill=\"None\"/> </g>\n",
       "<g> <text id=\"text_mem_tile_memory4\" class=\"mem_tile_memory_text\" x=\"77\" y=\"737.0\" fill=\"black\" font-family=\"Arial, Helvetica, sans-serif\"> <tspan x=\"94.0\" y=\"744.4\" dy=\"1em\" font-size=\"13\">Memory Tile </tspan><tspan x=\"93.0\" y=\"757.4\" dy=\"1em\" font-size=\"13\">Data movers </tspan></text></g>\n",
       "<g> <rect id=\"if_tile5\" class=\"if_tile\" width=\"180\" height=\"140\" x=\"20\" y=\"820\" stroke=\"black\" stroke-width=\"2\" fill=\"#E0C2FF\"/> </g>\n",
       "<g> <text id=\"text_if_tile5\" class=\"if_tile_text\" x=\"20\" y=\"820\" fill=\"\" font-family=\"Arial, Helvetica, sans-serif\"> <tspan x=\"110.0\" y=\"889.3\" dy=\"1em\" font-size=\"1\"> </tspan></text></g>\n",
       "<g> <rect id=\"interconnect_box5\" class=\"interconnect_box\" width=\"40\" height=\"40\" x=\"30\" y=\"830\" stroke=\"black\" stroke-width=\"1\" fill=\"#DBBCBD\"/> </g>\n",
       "<g> <text id=\"text_interconnect_box5\" class=\"interconnect_box_text\" x=\"30\" y=\"830\" fill=\"\" font-family=\"Arial, Helvetica, sans-serif\"> <tspan x=\"50.0\" y=\"849.3\" dy=\"1em\" font-size=\"1\"> </tspan></text></g>\n",
       "<line id=\"ic_h_line5_0\" class=\"interconnect\" x1=\"38.0\" y1=\"845.0\" x2=\"58.0\" y2=\"845.0\" stroke=\"black\" stroke-width=\"1\" fill=\"none\" marker-end=\"url(#ic_endarrow)\"/>\n",
       "<line id=\"ic_h_line5_1\" class=\"interconnect\" x1=\"62.0\" y1=\"855.0\" x2=\"42.0\" y2=\"855.0\" stroke=\"black\" stroke-width=\"1\" fill=\"none\" marker-end=\"url(#ic_endarrow)\"/>\n",
       "<line id=\"ic_h_line5_2\" class=\"interconnect\" x1=\"45.0\" y1=\"862.0\" x2=\"45.0\" y2=\"842.0\" stroke=\"black\" stroke-width=\"1\" fill=\"none\" marker-end=\"url(#ic_endarrow)\"/>\n",
       "<line id=\"ic_h_line5_3\" class=\"interconnect\" x1=\"55.0\" y1=\"838.0\" x2=\"55.0\" y2=\"858.0\" stroke=\"black\" stroke-width=\"1\" fill=\"none\" marker-end=\"url(#ic_endarrow)\"/>\n",
       "<g> <rect id=\"if_tile_container5\" class=\"if_tile_container\" width=\"120\" height=\"60.0\" x=\"70\" y=\"890.0\" stroke=\"black\" stroke-width=\"1\" fill=\"#ffffff\"/> </g>\n",
       "<g> <text id=\"text_if_tile_container5\" class=\"if_tile_container_text\" x=\"70\" y=\"890.0\" fill=\"\" font-family=\"Arial, Helvetica, sans-serif\"> <tspan x=\"130.0\" y=\"919.3\" dy=\"1em\" font-size=\"1\"> </tspan></text></g>\n",
       "<g> <rect id=\"if_dmabox5\" class=\"if_dmabox\" width=\"106\" height=\"46.0\" x=\"77\" y=\"897.0\" stroke=\"black\" stroke-width=\"\" fill=\"white\"/><animate attributeName=\"stroke-width\" dur=\"0.5s\" repeatCount=\"indefinite\" values=\"0;                       2;0\"/>\n",
       " </g>\n",
       "<g> <text id=\"text_if_dmabox5\" class=\"if_dmabox_text\" x=\"77\" y=\"897.0\" fill=\"black\" font-family=\"Arial, Helvetica, sans-serif\"> <tspan x=\"92.0\" y=\"904.4\" dy=\"1em\" font-size=\"13\">Interface Tile </tspan><tspan x=\"93.0\" y=\"917.4\" dy=\"1em\" font-size=\"13\">Data movers </tspan></text></g>\n",
       "<line id=\"diagonal5\" class=\"interconnect\" x1=\"70\" y1=\"870\" x2=\"90.0\" y2=\"890.0\" stroke=\"red\" stroke-width=\"1\" fill=\"none\"/>\n",
       "<path id=\"south_mem_connection5\" stroke=\"black\" stroke-width=\"1\" fill=\"none\" d=\"M 130.0, 950.0,                 l0, 30\"/>\n",
       "<circle id=\"d_circle5\" class=\"ic_animations\" cx=\"90.0\" cy=\"890.0\" r=\"3\" fill=\"none\">            <animateMotion dur=\"2.0s\" repeatCount=\"indefinite\" begin=\"0s\" path=\"M0, 0,                 L-20.0, -20.0,                \"/>            <animate attributeName=\"fill\" values=\"none;#C36D6D\" dur=\"0.0001s\" begin=\"0s\" fill=\"freeze\"/>            </circle>\n",
       "<circle id=\"d_circle5\" class=\"ic_animations\" cx=\"90.0\" cy=\"890.0\" r=\"3\" fill=\"none\">            <animateMotion dur=\"2.0s\" repeatCount=\"indefinite\" begin=\"0s\" path=\"M0, 0,                 L-20.0, -20.0,                \"/>            <animate attributeName=\"fill\" values=\"none;#009E73\" dur=\"0.0001s\" begin=\"0s\" fill=\"freeze\"/>            </circle>\n",
       "<circle id=\"d_circle5\" class=\"ic_animations\" cx=\"70\" cy=\"870\" r=\"3\" fill=\"none\">            <animateMotion dur=\"2.0s\" repeatCount=\"indefinite\" begin=\"0s\" path=\"M0, 0,                 L20.0, 20.0,                \"/>            <animate attributeName=\"fill\" values=\"none;#C00000\" dur=\"0.0001s\" begin=\"0s\" fill=\"freeze\"/>            </circle>\n",
       "<circle id=\"mem_circle_east5\" class=\"mem_animations\" cx=\"0\" cy=\"0\" r=\"3\" fill=\"none\">                    <animateMotion dur=\"2.0s\" repeatCount=\"indefinite\" path=\"M 130.0, 980,                         l 0, -30                        \" begin=\"0s\"/>                    <animate attributeName=\"fill\" values=\"none;#C36D6D\" dur=\"0.0001s\" begin=\"0s\" fill=\"freeze\"/>                    </circle>\n",
       "<circle id=\"mem_circle_east5\" class=\"mem_animations\" cx=\"0\" cy=\"0\" r=\"3\" fill=\"none\">                    <animateMotion dur=\"2.0s\" repeatCount=\"indefinite\" path=\"M 130.0, 980,                         l 0, -30                        \" begin=\"0s\"/>                    <animate attributeName=\"fill\" values=\"none;#009E73\" dur=\"0.0001s\" begin=\"0s\" fill=\"freeze\"/>                    </circle>\n",
       "<circle id=\"mem_circle_east5\" class=\"mem_animations\" cx=\"0\" cy=\"0\" r=\"3\" fill=\"none\">                    <animateMotion dur=\"2.0s\" repeatCount=\"indefinite\" path=\"M 130.0, 950,                         l 0, 30                        \" begin=\"0s\"/>                    <animate attributeName=\"fill\" values=\"none;#C00000\" dur=\"0.0001s\" begin=\"0s\" fill=\"freeze\"/>                    </circle>\n",
       "<line id=\"diagonal0\" class=\"interconnect\" x1=\"70\" y1=\"70\" x2=\"90.0\" y2=\"90.0\" stroke=\"red\" stroke-width=\"1\" fill=\"none\"/>\n",
       "<line id=\"v_ic_connection0\" class=\"interconnect\" x1=\"50\" y1=\"70\" x2=\"50\" y2=\"190\" stroke=\"red\" stroke-width=\"1\" fill=\"none\"/>\n",
       "<line id=\"diagonal1\" class=\"interconnect\" x1=\"70\" y1=\"230\" x2=\"90.0\" y2=\"250.0\" stroke=\"red\" stroke-width=\"1\" fill=\"none\"/>\n",
       "<line id=\"v_ic_connection1\" class=\"interconnect\" x1=\"50\" y1=\"230\" x2=\"50\" y2=\"350\" stroke=\"red\" stroke-width=\"1\" fill=\"none\"/>\n",
       "<line id=\"diagonal2\" class=\"interconnect\" x1=\"70\" y1=\"390\" x2=\"90.0\" y2=\"410.0\" stroke=\"red\" stroke-width=\"1\" fill=\"none\"/>\n",
       "<line id=\"v_ic_connection2\" class=\"interconnect\" x1=\"50\" y1=\"390\" x2=\"50\" y2=\"510\" stroke=\"red\" stroke-width=\"1\" fill=\"none\"/>\n",
       "<line id=\"diagonal3\" class=\"interconnect\" x1=\"70\" y1=\"550\" x2=\"90.0\" y2=\"570.0\" stroke=\"red\" stroke-width=\"1\" fill=\"none\"/>\n",
       "<line id=\"v_ic_connection3\" class=\"interconnect\" x1=\"50\" y1=\"550\" x2=\"50\" y2=\"670\" stroke=\"red\" stroke-width=\"1\" fill=\"none\"/>\n",
       "<line id=\"diagonal4\" class=\"interconnect\" x1=\"70\" y1=\"710\" x2=\"90.0\" y2=\"730.0\" stroke=\"red\" stroke-width=\"1\" fill=\"none\"/>\n",
       "<line id=\"v_ic_connection4\" class=\"interconnect\" x1=\"50\" y1=\"710\" x2=\"50\" y2=\"830\" stroke=\"red\" stroke-width=\"1\" fill=\"none\"/>\n",
       "<circle id=\"d_circle3\" class=\"ic_animations\" cx=\"70\" cy=\"550\" r=\"3\" fill=\"none\">            <animateMotion dur=\"2.0s\" repeatCount=\"indefinite\" begin=\"0s\" path=\"M0, 0,                 L20.0, 20.0,                \"/>            <animate attributeName=\"fill\" values=\"none;#C36D6D\" dur=\"0.0001s\" begin=\"0s\" fill=\"freeze\"/>            </circle>\n",
       "<circle id=\"v_circle_north3\" class=\"ic_animations\" cx=\"50\" cy=\"670\" r=\"3\" fill=\"none\">            <animateMotion dur=\"2.0s\" repeatCount=\"indefinite\" begin=\"0s\" path=\"M0, 0,                 L0, -120                \"/>            <animate attributeName=\"fill\" values=\"none;#C36D6D\" dur=\"0.0001s\" begin=\"0s\" fill=\"freeze\"/>            </circle>\n",
       "<circle id=\"d_circle3\" class=\"ic_animations\" cx=\"70\" cy=\"550\" r=\"3\" fill=\"none\">            <animateMotion dur=\"2.0s\" repeatCount=\"indefinite\" begin=\"0s\" path=\"M0, 0,                 L20.0, 20.0,                \"/>            <animate attributeName=\"fill\" values=\"none;#009E73\" dur=\"0.0001s\" begin=\"0s\" fill=\"freeze\"/>            </circle>\n",
       "<circle id=\"v_circle_north3\" class=\"ic_animations\" cx=\"50\" cy=\"670\" r=\"3\" fill=\"none\">            <animateMotion dur=\"2.0s\" repeatCount=\"indefinite\" begin=\"0s\" path=\"M0, 0,                 L0, -120                \"/>            <animate attributeName=\"fill\" values=\"none;#009E73\" dur=\"0.0001s\" begin=\"0s\" fill=\"freeze\"/>            </circle>\n",
       "<circle id=\"d_circle3\" class=\"ic_animations\" cx=\"90.0\" cy=\"570.0\" r=\"3\" fill=\"none\">            <animateMotion dur=\"2.0s\" repeatCount=\"indefinite\" begin=\"0s\" path=\"M0, 0,                 L-20.0, -20.0,                \"/>            <animate attributeName=\"fill\" values=\"none;#C00000\" dur=\"0.0001s\" begin=\"0s\" fill=\"freeze\"/>            </circle>\n",
       "<circle id=\"v_circle_south3\" class=\"ic_animations\" cx=\"50\" cy=\"550\" r=\"3\" fill=\"none\">            <animateMotion dur=\"2.0s\" repeatCount=\"indefinite\" begin=\"0s\" path=\"M0, 0,                 L0, 120                \"/>            <animate attributeName=\"fill\" values=\"none;#C00000\" dur=\"0.0001s\" begin=\"0s\" fill=\"freeze\"/>            </circle>\n",
       "<circle id=\"v_circle_north4\" class=\"ic_animations\" cx=\"50\" cy=\"830\" r=\"3\" fill=\"none\">            <animateMotion dur=\"2.0s\" repeatCount=\"indefinite\" begin=\"0s\" path=\"M0, 0,                 L0, -120                \"/>            <animate attributeName=\"fill\" values=\"none;#C36D6D\" dur=\"0.0001s\" begin=\"0s\" fill=\"freeze\"/>            </circle>\n",
       "<circle id=\"v_circle_north4\" class=\"ic_animations\" cx=\"50\" cy=\"830\" r=\"3\" fill=\"none\">            <animateMotion dur=\"2.0s\" repeatCount=\"indefinite\" begin=\"0s\" path=\"M0, 0,                 L0, -120                \"/>            <animate attributeName=\"fill\" values=\"none;#009E73\" dur=\"0.0001s\" begin=\"0s\" fill=\"freeze\"/>            </circle>\n",
       "<circle id=\"v_circle_south4\" class=\"ic_animations\" cx=\"50\" cy=\"710\" r=\"3\" fill=\"none\">            <animateMotion dur=\"2.0s\" repeatCount=\"indefinite\" begin=\"0s\" path=\"M0, 0,                 L0, 120                \"/>            <animate attributeName=\"fill\" values=\"none;#C00000\" dur=\"0.0001s\" begin=\"0s\" fill=\"freeze\"/>            </circle>\n",
       "<path id=\"south_mem_connection0\" class=\"mem_connections\" stroke=\"blue\" stroke-width=\"1\" fill=\"none\" d=\"M 160.0, 143.0,                 l0, 80.0,                l-30.0, 17.0,                l-30.0, 17.0\"/>\n",
       "<path id=\"south_mem_connection0\" class=\"mem_connections\" stroke=\"blue\" stroke-width=\"1\" fill=\"none\" d=\"M 100.0, 143.0,                 l0, 80.0,                l30.0, 17.0,                l30.0, 17.0\"/>\n",
       "<line id=\"internal_mem_connection0\" x1=\"123.0\" y1=\"120.0\" x2=\"137.0\" y2=\"120.0\" class=\"mem_connections\" stroke=\"blue\" stroke-width=\"1\" fill=\"none\"/>\n",
       "<path id=\"south_mem_connection1\" class=\"mem_connections\" stroke=\"blue\" stroke-width=\"1\" fill=\"none\" d=\"M 160.0, 303.0,                 l0, 80.0,                l-30.0, 17.0,                l-30.0, 17.0\"/>\n",
       "<path id=\"south_mem_connection1\" class=\"mem_connections\" stroke=\"blue\" stroke-width=\"1\" fill=\"none\" d=\"M 100.0, 303.0,                 l0, 80.0,                l30.0, 17.0,                l30.0, 17.0\"/>\n",
       "<line id=\"internal_mem_connection1\" x1=\"123.0\" y1=\"280.0\" x2=\"137.0\" y2=\"280.0\" class=\"mem_connections\" stroke=\"blue\" stroke-width=\"1\" fill=\"none\"/>\n",
       "<path id=\"south_mem_connection2\" class=\"mem_connections\" stroke=\"blue\" stroke-width=\"1\" fill=\"none\" d=\"M 160.0, 463.0,                 l0, 80.0,                l-30.0, 17.0,                l-30.0, 17.0\"/>\n",
       "<path id=\"south_mem_connection2\" class=\"mem_connections\" stroke=\"blue\" stroke-width=\"1\" fill=\"none\" d=\"M 100.0, 463.0,                 l0, 80.0,                l30.0, 17.0,                l30.0, 17.0\"/>\n",
       "<line id=\"internal_mem_connection2\" x1=\"123.0\" y1=\"440.0\" x2=\"137.0\" y2=\"440.0\" class=\"mem_connections\" stroke=\"blue\" stroke-width=\"1\" fill=\"none\"/>\n",
       "<linearGradient id=\"kernel_3\" gradientTransform=\"rotate(90)\"> <stop offset=\"0%\" stop-color=\"white\"/> <stop offset=\"10%\" stop-color=\"#C00000\"/> </linearGradient> <circle id=\"kernel_circle_3\" class=\"kernel\" cx=\"100.0\" cy=\"600.0\" r=\"20\" fill=\"url(#kernel_3)\" stroke=\"black\" stroke-width=\"1\" stroke-dasharray=\"5, 5\"> <animateTransform attributeName=\"transform\" type=\"rotate\" from=\"0 100.0 600.0\" to=\"360 100.0 600.0\" dur=\"4s\" begin=\"0s\" repeatCount=\"indefinite\"/> </circle> \n",
       "<g transform=\"rotate(180, 139.875, 623.0) \"> <rect id=\"buffer3_0\" class=\"aie_tile_buffers\" x=\"137.0\" y=\"623.0\" height=\"46.0\" width=\"5.75\" style=\"stroke:none; fill:none\"> <animate attributeName=\"height\" values=\"46.0;0;46.0\" keyTimes=\"0;0.5;1\" dur=\"4.0s\" begin=\"0s\" fill=\"freeze\" repeatCount=\"indefinite\"/> <animate attributeName=\"fill\" values=\"none;#C36D6D;#C36D6D;#C36D6D;#C36D6D\" keyTimes=\"0; 0.00001; 0.5; 0.50001; 1\" dur=\"4.0s\" begin=\"0s\" fill=\"freeze\" repeatCount=\"indefinite\"/></rect></g>\n",
       "<g transform=\"rotate(180, 145.625, 623.0) \"> <rect id=\"buffer3_1\" class=\"aie_tile_buffers\" x=\"142.75\" y=\"623.0\" height=\"46.0\" width=\"5.75\" style=\"stroke:none; fill:none\"> <animate attributeName=\"height\" values=\"0;46.0;0\" keyTimes=\"0;0.5;1\" dur=\"4.0s\" begin=\"0s\" fill=\"freeze\" repeatCount=\"indefinite\"/> <animate attributeName=\"fill\" values=\"none;#C36D6D;#C36D6D;#C36D6D;#C36D6D\" keyTimes=\"0; 0.00001; 0.5; 0.50001; 1\" dur=\"4.0s\" begin=\"0s\" fill=\"freeze\" repeatCount=\"indefinite\"/></rect></g>\n",
       "<g transform=\"rotate(180, 151.375, 623.0) \"> <rect id=\"buffer3_2\" class=\"aie_tile_buffers\" x=\"148.5\" y=\"623.0\" height=\"46.0\" width=\"5.75\" style=\"stroke:none; fill:none\"> <animate attributeName=\"height\" values=\"46.0;0;46.0\" keyTimes=\"0;0.5;1\" dur=\"4.0s\" begin=\"0s\" fill=\"freeze\" repeatCount=\"indefinite\"/> <animate attributeName=\"fill\" values=\"none;#009E73;#009E73;#009E73;#009E73\" keyTimes=\"0; 0.00001; 0.5; 0.50001; 1\" dur=\"4.0s\" begin=\"0s\" fill=\"freeze\" repeatCount=\"indefinite\"/></rect></g>\n",
       "<g transform=\"rotate(180, 157.125, 623.0) \"> <rect id=\"buffer3_3\" class=\"aie_tile_buffers\" x=\"154.25\" y=\"623.0\" height=\"46.0\" width=\"5.75\" style=\"stroke:none; fill:none\"> <animate attributeName=\"height\" values=\"0;46.0;0\" keyTimes=\"0;0.5;1\" dur=\"4.0s\" begin=\"0s\" fill=\"freeze\" repeatCount=\"indefinite\"/> <animate attributeName=\"fill\" values=\"none;#009E73;#009E73;#009E73;#009E73\" keyTimes=\"0; 0.00001; 0.5; 0.50001; 1\" dur=\"4.0s\" begin=\"0s\" fill=\"freeze\" repeatCount=\"indefinite\"/></rect></g>\n",
       "<g transform=\"rotate(180, 162.875, 623.0) \"> <rect id=\"buffer3_4\" class=\"aie_tile_buffers\" x=\"160.0\" y=\"623.0\" height=\"46.0\" width=\"5.75\" style=\"stroke:none; fill:none\"> <animate attributeName=\"height\" values=\"0;46.0;0\" keyTimes=\"0;0.5;1\" dur=\"4.0s\" begin=\"0s\" fill=\"freeze\" repeatCount=\"indefinite\"/> <animate attributeName=\"fill\" values=\"none;#C00000;#C00000;#C00000;#C00000\" keyTimes=\"0; 0.00001; 0.5; 0.50001; 1\" dur=\"4.0s\" begin=\"0s\" fill=\"freeze\" repeatCount=\"indefinite\"/></rect></g>\n",
       "<g transform=\"rotate(180, 168.625, 623.0) \"> <rect id=\"buffer3_5\" class=\"aie_tile_buffers\" x=\"165.75\" y=\"623.0\" height=\"46.0\" width=\"5.75\" style=\"stroke:none; fill:none\"> <animate attributeName=\"height\" values=\"46.0;0;46.0\" keyTimes=\"0;0.5;1\" dur=\"4.0s\" begin=\"0s\" fill=\"freeze\" repeatCount=\"indefinite\"/> <animate attributeName=\"fill\" values=\"none;#C00000;#C00000;#C00000;#C00000\" keyTimes=\"0; 0.00001; 0.5; 0.50001; 1\" dur=\"4.0s\" begin=\"0s\" fill=\"freeze\" repeatCount=\"indefinite\"/></rect></g>\n",
       "<linearGradient id=\"kernel_1001\" gradientTransform=\"rotate(90)\"> <stop offset=\"0%\" stop-color=\"white\"/> <stop offset=\"10%\" stop-color=\"#C00000\"/> </linearGradient> <circle id=\"kernel_circle_1001\" class=\"kernel\" cx=\"260.0\" cy=\"940.0\" r=\"20\" fill=\"url(#kernel_1001)\" stroke=\"black\" stroke-width=\"1\" stroke-dasharray=\"5, 5\"> <animateTransform attributeName=\"transform\" type=\"rotate\" from=\"0 260.0 940.0\" to=\"360 260.0 940.0\" dur=\"0s\" begin=\"0s\" repeatCount=\"indefinite\"/> </circle> \n",
       "<text class=\"text\" x=\"288\" y=\"945.0\">vector_add_0</text></g></svg>"
      ],
      "text/plain": [
       "<IPython.core.display.SVG object>"
      ]
     },
     "metadata": {},
     "output_type": "display_data"
    }
   ],
   "source": [
    "x_in1 = np.zeros(shape=(vector_size), dtype=np.uint8)\n",
    "x_in2 = np.zeros(shape=(vector_size), dtype=np.uint8)\n",
    "x_out = np.zeros(shape=(vector_size), dtype=np.uint8)\n",
    "\n",
    "app_builder = SimpleApplication(kernel=vector_add)\n",
    "app_builder(x_in1, x_in2, x_out)\n",
    "\n",
    "app_builder.display()\n",
    "app_builder.save()"
   ]
  },
  {
   "cell_type": "markdown",
   "id": "5922a706-b52b-4054-88d7-b1e3a5cb1198",
   "metadata": {},
   "source": [
    "Build the app"
   ]
  },
  {
   "cell_type": "code",
   "execution_count": 6,
   "id": "3334b901-2d34-45f3-9acb-3652ac416b42",
   "metadata": {
    "execution": {
     "iopub.execute_input": "2024-04-23T20:12:34.670360Z",
     "iopub.status.busy": "2024-04-23T20:12:34.670360Z",
     "iopub.status.idle": "2024-04-23T20:13:20.670911Z",
     "shell.execute_reply": "2024-04-23T20:13:20.670911Z",
     "shell.execute_reply.started": "2024-04-23T20:12:34.670360Z"
    }
   },
   "outputs": [
    {
     "name": "stdout",
     "output_type": "stream",
     "text": [
      "Building the vector_add kernel...\n",
      "Building the xclbin...\n",
      "Successfully Building Application... SimpleApplication.xclbin & SimpleApplication.seq delivered\n"
     ]
    }
   ],
   "source": [
    "app_builder.build(x_in1, x_in2, x_out)"
   ]
  },
  {
   "cell_type": "code",
   "execution_count": 7,
   "id": "9711ac51-54ff-4b60-a864-281be2095881",
   "metadata": {
    "execution": {
     "iopub.execute_input": "2024-04-23T20:13:20.672373Z",
     "iopub.status.busy": "2024-04-23T20:13:20.672373Z",
     "iopub.status.idle": "2024-04-23T20:13:20.687751Z",
     "shell.execute_reply": "2024-04-23T20:13:20.686748Z",
     "shell.execute_reply.started": "2024-04-23T20:13:20.672373Z"
    }
   },
   "outputs": [
    {
     "data": {
      "application/json": {
       "application": "SimpleApplication",
       "connections": {
        "itbuffer_0___ITout___vector_add_0___in1_buffer": {
         "ctype": null,
         "dtype": "uint8 *",
         "name": "itbuffer_0___ITout___vector_add_0___in1_buffer",
         "sinkkernel": "vector_add_0",
         "sinkport": "in1_buffer",
         "srckernel": "itbuffer_0",
         "srcport": "ITout"
        },
        "itbuffer_1___ITout___vector_add_0___in2_buffer": {
         "ctype": null,
         "dtype": "uint8 *",
         "name": "itbuffer_1___ITout___vector_add_0___in2_buffer",
         "sinkkernel": "vector_add_0",
         "sinkport": "in2_buffer",
         "srckernel": "itbuffer_1",
         "srcport": "ITout"
        },
        "user___write___vector_add_0___nbytes": {
         "ctype": null,
         "dtype": "<npu.build.userspace.UserspaceRTP object at 0x0000027A4C9D4F10>",
         "name": "user___write___vector_add_0___nbytes",
         "sinkkernel": "vector_add_0",
         "sinkport": "nbytes",
         "srckernel": "user",
         "srcport": "write"
        },
        "vector_add_0___out_buffer___itbuffer_2___ITin": {
         "ctype": null,
         "dtype": "uint8_t *",
         "name": "vector_add_0___out_buffer___itbuffer_2___ITin",
         "sinkkernel": "itbuffer_2",
         "sinkport": "ITin",
         "srckernel": "vector_add_0",
         "srcport": "out_buffer"
        }
       },
       "kernels": {
        "itbuffer_0": {
         "dtype": "uint8",
         "ktype": "buffer",
         "name": "itbuffer_0",
         "ports": {
          "ITin": {
           "c_dtype": null,
           "ctype": null,
           "direction": "in",
           "dtype": "uint8",
           "name": "ITin",
           "shape": [
            1024
           ]
          },
          "ITout": {
           "c_dtype": null,
           "ctype": null,
           "direction": "out",
           "dtype": "uint8",
           "name": "ITout",
           "shape": [
            1024
           ]
          }
         },
         "shape": [
          1024
         ],
         "tloc": null,
         "ttype": "IT",
         "type": "IT"
        },
        "itbuffer_1": {
         "dtype": "uint8",
         "ktype": "buffer",
         "name": "itbuffer_1",
         "ports": {
          "ITin": {
           "c_dtype": null,
           "ctype": null,
           "direction": "in",
           "dtype": "uint8",
           "name": "ITin",
           "shape": [
            1024
           ]
          },
          "ITout": {
           "c_dtype": null,
           "ctype": null,
           "direction": "out",
           "dtype": "uint8",
           "name": "ITout",
           "shape": [
            1024
           ]
          }
         },
         "shape": [
          1024
         ],
         "tloc": null,
         "ttype": "IT",
         "type": "IT"
        },
        "itbuffer_2": {
         "dtype": "uint8",
         "ktype": "buffer",
         "name": "itbuffer_2",
         "ports": {
          "ITin": {
           "c_dtype": null,
           "ctype": null,
           "direction": "in",
           "dtype": "uint8",
           "name": "ITin",
           "shape": [
            1024
           ]
          },
          "ITout": {
           "c_dtype": null,
           "ctype": null,
           "direction": "out",
           "dtype": "uint8",
           "name": "ITout",
           "shape": [
            1024
           ]
          }
         },
         "shape": [
          1024
         ],
         "tloc": null,
         "ttype": "IT",
         "type": "IT"
        },
        "vector_add_0": {
         "ktype": "vector_add",
         "name": "vector_add_0",
         "ports": {
          "in1_buffer": {
           "c_dtype": null,
           "ctype": null,
           "direction": "in",
           "dtype": "uint8",
           "name": "in1_buffer",
           "shape": [
            1024
           ]
          },
          "in2_buffer": {
           "c_dtype": null,
           "ctype": null,
           "direction": "in",
           "dtype": "uint8",
           "name": "in2_buffer",
           "shape": [
            1024
           ]
          },
          "nbytes": {
           "c_dtype": "uint32_t",
           "ctype": "rtp",
           "direction": "in",
           "name": "nbytes",
           "value": 1024
          },
          "out_buffer": {
           "c_dtype": null,
           "ctype": null,
           "direction": "out",
           "dtype": "uint8",
           "name": "out_buffer",
           "shape": [
            1024
           ]
          }
         },
         "tloc": [
          0,
          2
         ],
         "ttype": "CT",
         "type": "CT"
        }
       },
       "sequence": [
        {
         "name": "itbuffer_0___ITout___vector_add_0___in1_buffer",
         "nbytes": 1024,
         "offset": 0,
         "seqtype": "buffer",
         "snkdtype": "uint8_t *",
         "snkkernelname": "vector_add_0",
         "snknbytes": 1024,
         "snkoffset": 0,
         "snkportname": "in1_buffer",
         "snkshape": [
          1024
         ],
         "snkslices": [],
         "srcdtype": "uint8 *",
         "srckernelname": "itbuffer_0",
         "srcnbytes": 1024,
         "srcoffset": 0,
         "srcportname": "ITout",
         "srcshape": [
          1024
         ],
         "srcslices": []
        },
        {
         "name": "itbuffer_1___ITout___vector_add_0___in2_buffer",
         "nbytes": 1024,
         "offset": 0,
         "seqtype": "buffer",
         "snkdtype": "uint8_t *",
         "snkkernelname": "vector_add_0",
         "snknbytes": 1024,
         "snkoffset": 0,
         "snkportname": "in2_buffer",
         "snkshape": [
          1024
         ],
         "snkslices": [],
         "srcdtype": "uint8 *",
         "srckernelname": "itbuffer_1",
         "srcnbytes": 1024,
         "srcoffset": 0,
         "srcportname": "ITout",
         "srcshape": [
          1024
         ],
         "srcslices": []
        },
        {
         "name": "user___write___vector_add_0___nbytes",
         "seqtype": "rtp",
         "snkkernelname": "vector_add_0",
         "snkportname": "nbytes",
         "srckernelname": "user",
         "srcportname": "write",
         "value": 1024
        },
        {
         "name": "vector_add_0___out_buffer___itbuffer_2___ITin",
         "nbytes": 1024,
         "offset": 0,
         "seqtype": "buffer",
         "snkdtype": "uint8 *",
         "snkkernelname": "itbuffer_2",
         "snknbytes": 1024,
         "snkoffset": 0,
         "snkportname": "ITin",
         "snkshape": [
          1024
         ],
         "snkslices": [],
         "srcdtype": "uint8_t *",
         "srckernelname": "vector_add_0",
         "srcnbytes": 1024,
         "srcoffset": 0,
         "srcportname": "out_buffer",
         "srcshape": [
          1024
         ],
         "srcslices": []
        }
       ]
      },
      "text/plain": [
       "{'application': 'SimpleApplication',\n",
       " 'kernels': OrderedDict([('itbuffer_0',\n",
       "               {'name': 'itbuffer_0',\n",
       "                'tloc': None,\n",
       "                'ttype': 'IT',\n",
       "                'ktype': 'buffer',\n",
       "                'type': 'IT',\n",
       "                'ports': {'ITin': {'c_dtype': None,\n",
       "                  'direction': 'in',\n",
       "                  'name': 'ITin',\n",
       "                  'ctype': None,\n",
       "                  'shape': (1024,),\n",
       "                  'dtype': 'uint8'},\n",
       "                 'ITout': {'c_dtype': None,\n",
       "                  'direction': 'out',\n",
       "                  'name': 'ITout',\n",
       "                  'ctype': None,\n",
       "                  'shape': (1024,),\n",
       "                  'dtype': 'uint8'}},\n",
       "                'shape': (1024,),\n",
       "                'dtype': 'uint8'}),\n",
       "              ('itbuffer_1',\n",
       "               {'name': 'itbuffer_1',\n",
       "                'tloc': None,\n",
       "                'ttype': 'IT',\n",
       "                'ktype': 'buffer',\n",
       "                'type': 'IT',\n",
       "                'ports': {'ITin': {'c_dtype': None,\n",
       "                  'direction': 'in',\n",
       "                  'name': 'ITin',\n",
       "                  'ctype': None,\n",
       "                  'shape': (1024,),\n",
       "                  'dtype': 'uint8'},\n",
       "                 'ITout': {'c_dtype': None,\n",
       "                  'direction': 'out',\n",
       "                  'name': 'ITout',\n",
       "                  'ctype': None,\n",
       "                  'shape': (1024,),\n",
       "                  'dtype': 'uint8'}},\n",
       "                'shape': (1024,),\n",
       "                'dtype': 'uint8'}),\n",
       "              ('itbuffer_2',\n",
       "               {'name': 'itbuffer_2',\n",
       "                'tloc': None,\n",
       "                'ttype': 'IT',\n",
       "                'ktype': 'buffer',\n",
       "                'type': 'IT',\n",
       "                'ports': {'ITin': {'c_dtype': None,\n",
       "                  'direction': 'in',\n",
       "                  'name': 'ITin',\n",
       "                  'ctype': None,\n",
       "                  'shape': (1024,),\n",
       "                  'dtype': 'uint8'},\n",
       "                 'ITout': {'c_dtype': None,\n",
       "                  'direction': 'out',\n",
       "                  'name': 'ITout',\n",
       "                  'ctype': None,\n",
       "                  'shape': (1024,),\n",
       "                  'dtype': 'uint8'}},\n",
       "                'shape': (1024,),\n",
       "                'dtype': 'uint8'}),\n",
       "              ('vector_add_0',\n",
       "               {'name': 'vector_add_0',\n",
       "                'tloc': (0, 2),\n",
       "                'ttype': 'CT',\n",
       "                'ktype': 'vector_add',\n",
       "                'type': 'CT',\n",
       "                'ports': {'in1_buffer': {'c_dtype': None,\n",
       "                  'direction': 'in',\n",
       "                  'name': 'in1_buffer',\n",
       "                  'ctype': None,\n",
       "                  'shape': (1024,),\n",
       "                  'dtype': 'uint8'},\n",
       "                 'in2_buffer': {'c_dtype': None,\n",
       "                  'direction': 'in',\n",
       "                  'name': 'in2_buffer',\n",
       "                  'ctype': None,\n",
       "                  'shape': (1024,),\n",
       "                  'dtype': 'uint8'},\n",
       "                 'out_buffer': {'c_dtype': None,\n",
       "                  'direction': 'out',\n",
       "                  'name': 'out_buffer',\n",
       "                  'ctype': None,\n",
       "                  'shape': (1024,),\n",
       "                  'dtype': 'uint8'},\n",
       "                 'nbytes': {'c_dtype': 'uint32_t',\n",
       "                  'direction': 'in',\n",
       "                  'name': 'nbytes',\n",
       "                  'ctype': 'rtp',\n",
       "                  'value': 1024}}})]),\n",
       " 'connections': OrderedDict([('itbuffer_0___ITout___vector_add_0___in1_buffer',\n",
       "               {'name': 'itbuffer_0___ITout___vector_add_0___in1_buffer',\n",
       "                'srckernel': 'itbuffer_0',\n",
       "                'srcport': 'ITout',\n",
       "                'sinkkernel': 'vector_add_0',\n",
       "                'sinkport': 'in1_buffer',\n",
       "                'dtype': 'uint8 *',\n",
       "                'ctype': None}),\n",
       "              ('itbuffer_1___ITout___vector_add_0___in2_buffer',\n",
       "               {'name': 'itbuffer_1___ITout___vector_add_0___in2_buffer',\n",
       "                'srckernel': 'itbuffer_1',\n",
       "                'srcport': 'ITout',\n",
       "                'sinkkernel': 'vector_add_0',\n",
       "                'sinkport': 'in2_buffer',\n",
       "                'dtype': 'uint8 *',\n",
       "                'ctype': None}),\n",
       "              ('user___write___vector_add_0___nbytes',\n",
       "               {'name': 'user___write___vector_add_0___nbytes',\n",
       "                'srckernel': 'user',\n",
       "                'srcport': 'write',\n",
       "                'sinkkernel': 'vector_add_0',\n",
       "                'sinkport': 'nbytes',\n",
       "                'dtype': <npu.build.userspace.UserspaceRTP at 0x27a4c9d4f10>,\n",
       "                'ctype': None}),\n",
       "              ('vector_add_0___out_buffer___itbuffer_2___ITin',\n",
       "               {'name': 'vector_add_0___out_buffer___itbuffer_2___ITin',\n",
       "                'srckernel': 'vector_add_0',\n",
       "                'srcport': 'out_buffer',\n",
       "                'sinkkernel': 'itbuffer_2',\n",
       "                'sinkport': 'ITin',\n",
       "                'dtype': 'uint8_t *',\n",
       "                'ctype': None})]),\n",
       " 'sequence': [{'name': 'itbuffer_0___ITout___vector_add_0___in1_buffer',\n",
       "   'seqtype': 'buffer',\n",
       "   'offset': 0,\n",
       "   'nbytes': 1024,\n",
       "   'srckernelname': 'itbuffer_0',\n",
       "   'srcportname': 'ITout',\n",
       "   'srcdtype': 'uint8 *',\n",
       "   'srcslices': [],\n",
       "   'srcoffset': 0,\n",
       "   'srcnbytes': 1024,\n",
       "   'srcshape': (1024,),\n",
       "   'snkkernelname': 'vector_add_0',\n",
       "   'snkportname': 'in1_buffer',\n",
       "   'snkdtype': 'uint8_t *',\n",
       "   'snkslices': [],\n",
       "   'snkoffset': 0,\n",
       "   'snknbytes': 1024,\n",
       "   'snkshape': (1024,)},\n",
       "  {'name': 'itbuffer_1___ITout___vector_add_0___in2_buffer',\n",
       "   'seqtype': 'buffer',\n",
       "   'offset': 0,\n",
       "   'nbytes': 1024,\n",
       "   'srckernelname': 'itbuffer_1',\n",
       "   'srcportname': 'ITout',\n",
       "   'srcdtype': 'uint8 *',\n",
       "   'srcslices': [],\n",
       "   'srcoffset': 0,\n",
       "   'srcnbytes': 1024,\n",
       "   'srcshape': (1024,),\n",
       "   'snkkernelname': 'vector_add_0',\n",
       "   'snkportname': 'in2_buffer',\n",
       "   'snkdtype': 'uint8_t *',\n",
       "   'snkslices': [],\n",
       "   'snkoffset': 0,\n",
       "   'snknbytes': 1024,\n",
       "   'snkshape': (1024,)},\n",
       "  {'name': 'user___write___vector_add_0___nbytes',\n",
       "   'seqtype': 'rtp',\n",
       "   'value': 1024,\n",
       "   'srckernelname': 'user',\n",
       "   'srcportname': 'write',\n",
       "   'snkkernelname': 'vector_add_0',\n",
       "   'snkportname': 'nbytes'},\n",
       "  {'name': 'vector_add_0___out_buffer___itbuffer_2___ITin',\n",
       "   'seqtype': 'buffer',\n",
       "   'offset': 0,\n",
       "   'nbytes': 1024,\n",
       "   'srckernelname': 'vector_add_0',\n",
       "   'srcportname': 'out_buffer',\n",
       "   'srcdtype': 'uint8_t *',\n",
       "   'srcslices': [],\n",
       "   'srcoffset': 0,\n",
       "   'srcnbytes': 1024,\n",
       "   'srcshape': (1024,),\n",
       "   'snkkernelname': 'itbuffer_2',\n",
       "   'snkportname': 'ITin',\n",
       "   'snkdtype': 'uint8 *',\n",
       "   'snkslices': [],\n",
       "   'snkoffset': 0,\n",
       "   'snknbytes': 1024,\n",
       "   'snkshape': (1024,)}]}"
      ]
     },
     "execution_count": 7,
     "metadata": {
      "application/json": {
       "expanded": false,
       "root": "SimpleApplication"
      }
     },
     "output_type": "execute_result"
    }
   ],
   "source": [
    "app_builder.metadata"
   ]
  },
  {
   "cell_type": "markdown",
   "id": "71df3dc9-18af-416d-8993-1b98ea5c5e60",
   "metadata": {},
   "source": [
    "Prep AppRunner and data"
   ]
  },
  {
   "cell_type": "code",
   "execution_count": 8,
   "id": "1bc21fda-cd0c-4626-bc4b-2deb02e1057c",
   "metadata": {
    "execution": {
     "iopub.execute_input": "2024-04-23T20:13:20.688749Z",
     "iopub.status.busy": "2024-04-23T20:13:20.687751Z",
     "iopub.status.idle": "2024-04-23T20:13:21.996581Z",
     "shell.execute_reply": "2024-04-23T20:13:21.995580Z",
     "shell.execute_reply.started": "2024-04-23T20:13:20.688749Z"
    }
   },
   "outputs": [],
   "source": [
    "from npu.runtime import AppRunner\n",
    "\n",
    "app = AppRunner('SimpleApplication.xclbin')\n",
    "\n",
    "# Allocate app input and output buffers to exchange data with NPU\n",
    "input1_vector = app.allocate(shape=(vector_size))\n",
    "input2_vector = app.allocate(shape=(vector_size))\n",
    "output_vector = app.allocate(shape=(vector_size))\n",
    "\n",
    "# Load data\n",
    "input1_array = np.zeros(vector_size, dtype=np.uint8)\n",
    "input2_array = np.zeros(vector_size, dtype=np.uint8)\n",
    "for i in range(vector_size):\n",
    "    input1_array[i] = 1\n",
    "    input2_array[i] = 2\n",
    "\n",
    "input1_vector[:] = input1_array\n",
    "input2_vector[:] = input2_array"
   ]
  },
  {
   "cell_type": "markdown",
   "id": "35c1c070-4431-4787-9a1b-3cbeacbbd9b5",
   "metadata": {},
   "source": [
    "Run the application"
   ]
  },
  {
   "cell_type": "code",
   "execution_count": 9,
   "id": "ef3f1c99-e986-4623-b7f7-b50f570ffa8a",
   "metadata": {
    "execution": {
     "iopub.execute_input": "2024-04-23T20:13:21.998582Z",
     "iopub.status.busy": "2024-04-23T20:13:21.997581Z",
     "iopub.status.idle": "2024-04-23T20:13:22.012445Z",
     "shell.execute_reply": "2024-04-23T20:13:22.011443Z",
     "shell.execute_reply.started": "2024-04-23T20:13:21.997581Z"
    }
   },
   "outputs": [],
   "source": [
    "# Pass input_vector buffer to NPU\n",
    "input1_vector.sync_to_npu()\n",
    "input2_vector.sync_to_npu()"
   ]
  },
  {
   "cell_type": "code",
   "execution_count": 10,
   "id": "13257a64-d8c6-4bb6-aed7-204ce94201f1",
   "metadata": {
    "execution": {
     "iopub.execute_input": "2024-04-23T20:13:22.013443Z",
     "iopub.status.busy": "2024-04-23T20:13:22.012445Z",
     "iopub.status.idle": "2024-04-23T20:13:22.026726Z",
     "shell.execute_reply": "2024-04-23T20:13:22.026726Z",
     "shell.execute_reply.started": "2024-04-23T20:13:22.013443Z"
    }
   },
   "outputs": [],
   "source": [
    "# Run app on NPU\n",
    "app.call(input1_vector, input2_vector, output_vector)"
   ]
  },
  {
   "cell_type": "code",
   "execution_count": 11,
   "id": "5b6f0103-e0f8-485c-9b20-0797dfe6e847",
   "metadata": {
    "execution": {
     "iopub.execute_input": "2024-04-23T20:13:22.027727Z",
     "iopub.status.busy": "2024-04-23T20:13:22.027727Z",
     "iopub.status.idle": "2024-04-23T20:13:22.042225Z",
     "shell.execute_reply": "2024-04-23T20:13:22.042225Z",
     "shell.execute_reply.started": "2024-04-23T20:13:22.027727Z"
    }
   },
   "outputs": [],
   "source": [
    "# Get results from NPU via output_vector buffer \n",
    "output_vector.sync_from_npu()"
   ]
  },
  {
   "cell_type": "code",
   "execution_count": 12,
   "id": "a5f7310b-c937-4b5a-a82c-9e2f52c4902e",
   "metadata": {
    "execution": {
     "iopub.execute_input": "2024-04-23T20:13:22.043225Z",
     "iopub.status.busy": "2024-04-23T20:13:22.043225Z",
     "iopub.status.idle": "2024-04-23T20:13:22.057774Z",
     "shell.execute_reply": "2024-04-23T20:13:22.057774Z",
     "shell.execute_reply.started": "2024-04-23T20:13:22.043225Z"
    }
   },
   "outputs": [
    {
     "name": "stdout",
     "output_type": "stream",
     "text": [
      "[1 1 1 ... 1 1 1]\n",
      "[2 2 2 ... 2 2 2]\n",
      "[3 3 3 ... 3 3 3]\n"
     ]
    }
   ],
   "source": [
    "# Verify output\n",
    "print(input1_vector)\n",
    "print(input2_vector)\n",
    "print(output_vector)"
   ]
  },
  {
   "cell_type": "code",
   "execution_count": 14,
   "id": "dc50383f-a25b-4454-8beb-7591ef317ab3",
   "metadata": {
    "execution": {
     "iopub.execute_input": "2024-04-23T21:12:54.599528Z",
     "iopub.status.busy": "2024-04-23T21:12:54.599528Z",
     "iopub.status.idle": "2024-04-23T21:12:54.860026Z",
     "shell.execute_reply": "2024-04-23T21:12:54.859024Z",
     "shell.execute_reply.started": "2024-04-23T21:12:54.599528Z"
    }
   },
   "outputs": [
    {
     "ename": "NameError",
     "evalue": "name 'app' is not defined",
     "output_type": "error",
     "traceback": [
      "\u001b[1;31m---------------------------------------------------------------------------\u001b[0m",
      "\u001b[1;31mNameError\u001b[0m                                 Traceback (most recent call last)",
      "Cell \u001b[1;32mIn[14], line 1\u001b[0m\n\u001b[1;32m----> 1\u001b[0m \u001b[38;5;28;01mdel\u001b[39;00m app\n",
      "\u001b[1;31mNameError\u001b[0m: name 'app' is not defined"
     ]
    }
   ],
   "source": [
    "del app"
   ]
  },
  {
   "cell_type": "code",
   "execution_count": null,
   "id": "95eaf456-13ca-458a-841f-53636d777c68",
   "metadata": {},
   "outputs": [],
   "source": []
  }
 ],
 "metadata": {
  "kernelspec": {
   "display_name": "Python 3 (ipykernel)",
   "language": "python",
   "name": "python3"
  },
  "language_info": {
   "codemirror_mode": {
    "name": "ipython",
    "version": 3
   },
   "file_extension": ".py",
   "mimetype": "text/x-python",
   "name": "python",
   "nbconvert_exporter": "python",
   "pygments_lexer": "ipython3",
   "version": "3.9.2"
  }
 },
 "nbformat": 4,
 "nbformat_minor": 5
}
